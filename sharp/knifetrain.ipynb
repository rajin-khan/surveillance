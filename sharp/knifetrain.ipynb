{
 "cells": [
  {
   "cell_type": "code",
   "execution_count": 1,
   "metadata": {},
   "outputs": [
    {
     "name": "stdout",
     "output_type": "stream",
     "text": [
      "Requirement already satisfied: ultralytics in /home/intisar/miniconda3/envs/firetrain/lib/python3.10/site-packages (8.3.96)\n",
      "Requirement already satisfied: numpy<=2.1.1,>=1.23.0 in /home/intisar/miniconda3/envs/firetrain/lib/python3.10/site-packages (from ultralytics) (2.1.1)\n",
      "Requirement already satisfied: matplotlib>=3.3.0 in /home/intisar/miniconda3/envs/firetrain/lib/python3.10/site-packages (from ultralytics) (3.10.0)\n",
      "Requirement already satisfied: opencv-python>=4.6.0 in /home/intisar/miniconda3/envs/firetrain/lib/python3.10/site-packages (from ultralytics) (4.11.0.86)\n",
      "Requirement already satisfied: pillow>=7.1.2 in /home/intisar/miniconda3/envs/firetrain/lib/python3.10/site-packages (from ultralytics) (11.1.0)\n",
      "Requirement already satisfied: pyyaml>=5.3.1 in /home/intisar/miniconda3/envs/firetrain/lib/python3.10/site-packages (from ultralytics) (6.0.2)\n",
      "Requirement already satisfied: requests>=2.23.0 in /home/intisar/miniconda3/envs/firetrain/lib/python3.10/site-packages (from ultralytics) (2.32.3)\n",
      "Requirement already satisfied: scipy>=1.4.1 in /home/intisar/miniconda3/envs/firetrain/lib/python3.10/site-packages (from ultralytics) (1.15.2)\n",
      "Requirement already satisfied: torch>=1.8.0 in /home/intisar/miniconda3/envs/firetrain/lib/python3.10/site-packages (from ultralytics) (2.6.0)\n",
      "Requirement already satisfied: torchvision>=0.9.0 in /home/intisar/miniconda3/envs/firetrain/lib/python3.10/site-packages (from ultralytics) (0.21.0)\n",
      "Requirement already satisfied: tqdm>=4.64.0 in /home/intisar/miniconda3/envs/firetrain/lib/python3.10/site-packages (from ultralytics) (4.67.1)\n",
      "Requirement already satisfied: psutil in /home/intisar/miniconda3/envs/firetrain/lib/python3.10/site-packages (from ultralytics) (5.9.0)\n",
      "Requirement already satisfied: py-cpuinfo in /home/intisar/miniconda3/envs/firetrain/lib/python3.10/site-packages (from ultralytics) (9.0.0)\n",
      "Requirement already satisfied: pandas>=1.1.4 in /home/intisar/miniconda3/envs/firetrain/lib/python3.10/site-packages (from ultralytics) (2.2.3)\n",
      "Requirement already satisfied: seaborn>=0.11.0 in /home/intisar/miniconda3/envs/firetrain/lib/python3.10/site-packages (from ultralytics) (0.13.2)\n",
      "Requirement already satisfied: ultralytics-thop>=2.0.0 in /home/intisar/miniconda3/envs/firetrain/lib/python3.10/site-packages (from ultralytics) (2.0.14)\n",
      "Requirement already satisfied: contourpy>=1.0.1 in /home/intisar/miniconda3/envs/firetrain/lib/python3.10/site-packages (from matplotlib>=3.3.0->ultralytics) (1.3.1)\n",
      "Requirement already satisfied: cycler>=0.10 in /home/intisar/miniconda3/envs/firetrain/lib/python3.10/site-packages (from matplotlib>=3.3.0->ultralytics) (0.11.0)\n",
      "Requirement already satisfied: fonttools>=4.22.0 in /home/intisar/miniconda3/envs/firetrain/lib/python3.10/site-packages (from matplotlib>=3.3.0->ultralytics) (4.55.3)\n",
      "Requirement already satisfied: kiwisolver>=1.3.1 in /home/intisar/miniconda3/envs/firetrain/lib/python3.10/site-packages (from matplotlib>=3.3.0->ultralytics) (1.4.8)\n",
      "Requirement already satisfied: packaging>=20.0 in /home/intisar/miniconda3/envs/firetrain/lib/python3.10/site-packages (from matplotlib>=3.3.0->ultralytics) (24.2)\n",
      "Requirement already satisfied: pyparsing>=2.3.1 in /home/intisar/miniconda3/envs/firetrain/lib/python3.10/site-packages (from matplotlib>=3.3.0->ultralytics) (3.2.0)\n",
      "Requirement already satisfied: python-dateutil>=2.7 in /home/intisar/miniconda3/envs/firetrain/lib/python3.10/site-packages (from matplotlib>=3.3.0->ultralytics) (2.9.0.post0)\n",
      "Requirement already satisfied: pytz>=2020.1 in /home/intisar/miniconda3/envs/firetrain/lib/python3.10/site-packages (from pandas>=1.1.4->ultralytics) (2024.1)\n",
      "Requirement already satisfied: tzdata>=2022.7 in /home/intisar/miniconda3/envs/firetrain/lib/python3.10/site-packages (from pandas>=1.1.4->ultralytics) (2023.3)\n",
      "Requirement already satisfied: charset-normalizer<4,>=2 in /home/intisar/miniconda3/envs/firetrain/lib/python3.10/site-packages (from requests>=2.23.0->ultralytics) (3.4.1)\n",
      "Requirement already satisfied: idna<4,>=2.5 in /home/intisar/miniconda3/envs/firetrain/lib/python3.10/site-packages (from requests>=2.23.0->ultralytics) (3.10)\n",
      "Requirement already satisfied: urllib3<3,>=1.21.1 in /home/intisar/miniconda3/envs/firetrain/lib/python3.10/site-packages (from requests>=2.23.0->ultralytics) (2.3.0)\n",
      "Requirement already satisfied: certifi>=2017.4.17 in /home/intisar/miniconda3/envs/firetrain/lib/python3.10/site-packages (from requests>=2.23.0->ultralytics) (2025.1.31)\n",
      "Requirement already satisfied: filelock in /home/intisar/miniconda3/envs/firetrain/lib/python3.10/site-packages (from torch>=1.8.0->ultralytics) (3.18.0)\n",
      "Requirement already satisfied: typing-extensions>=4.10.0 in /home/intisar/miniconda3/envs/firetrain/lib/python3.10/site-packages (from torch>=1.8.0->ultralytics) (4.12.2)\n",
      "Requirement already satisfied: networkx in /home/intisar/miniconda3/envs/firetrain/lib/python3.10/site-packages (from torch>=1.8.0->ultralytics) (3.4.2)\n",
      "Requirement already satisfied: jinja2 in /home/intisar/miniconda3/envs/firetrain/lib/python3.10/site-packages (from torch>=1.8.0->ultralytics) (3.1.6)\n",
      "Requirement already satisfied: fsspec in /home/intisar/miniconda3/envs/firetrain/lib/python3.10/site-packages (from torch>=1.8.0->ultralytics) (2025.3.0)\n",
      "Requirement already satisfied: nvidia-cuda-nvrtc-cu12==12.4.127 in /home/intisar/miniconda3/envs/firetrain/lib/python3.10/site-packages (from torch>=1.8.0->ultralytics) (12.4.127)\n",
      "Requirement already satisfied: nvidia-cuda-runtime-cu12==12.4.127 in /home/intisar/miniconda3/envs/firetrain/lib/python3.10/site-packages (from torch>=1.8.0->ultralytics) (12.4.127)\n",
      "Requirement already satisfied: nvidia-cuda-cupti-cu12==12.4.127 in /home/intisar/miniconda3/envs/firetrain/lib/python3.10/site-packages (from torch>=1.8.0->ultralytics) (12.4.127)\n",
      "Requirement already satisfied: nvidia-cudnn-cu12==9.1.0.70 in /home/intisar/miniconda3/envs/firetrain/lib/python3.10/site-packages (from torch>=1.8.0->ultralytics) (9.1.0.70)\n",
      "Requirement already satisfied: nvidia-cublas-cu12==12.4.5.8 in /home/intisar/miniconda3/envs/firetrain/lib/python3.10/site-packages (from torch>=1.8.0->ultralytics) (12.4.5.8)\n",
      "Requirement already satisfied: nvidia-cufft-cu12==11.2.1.3 in /home/intisar/miniconda3/envs/firetrain/lib/python3.10/site-packages (from torch>=1.8.0->ultralytics) (11.2.1.3)\n",
      "Requirement already satisfied: nvidia-curand-cu12==10.3.5.147 in /home/intisar/miniconda3/envs/firetrain/lib/python3.10/site-packages (from torch>=1.8.0->ultralytics) (10.3.5.147)\n",
      "Requirement already satisfied: nvidia-cusolver-cu12==11.6.1.9 in /home/intisar/miniconda3/envs/firetrain/lib/python3.10/site-packages (from torch>=1.8.0->ultralytics) (11.6.1.9)\n",
      "Requirement already satisfied: nvidia-cusparse-cu12==12.3.1.170 in /home/intisar/miniconda3/envs/firetrain/lib/python3.10/site-packages (from torch>=1.8.0->ultralytics) (12.3.1.170)\n",
      "Requirement already satisfied: nvidia-cusparselt-cu12==0.6.2 in /home/intisar/miniconda3/envs/firetrain/lib/python3.10/site-packages (from torch>=1.8.0->ultralytics) (0.6.2)\n",
      "Requirement already satisfied: nvidia-nccl-cu12==2.21.5 in /home/intisar/miniconda3/envs/firetrain/lib/python3.10/site-packages (from torch>=1.8.0->ultralytics) (2.21.5)\n",
      "Requirement already satisfied: nvidia-nvtx-cu12==12.4.127 in /home/intisar/miniconda3/envs/firetrain/lib/python3.10/site-packages (from torch>=1.8.0->ultralytics) (12.4.127)\n",
      "Requirement already satisfied: nvidia-nvjitlink-cu12==12.4.127 in /home/intisar/miniconda3/envs/firetrain/lib/python3.10/site-packages (from torch>=1.8.0->ultralytics) (12.4.127)\n",
      "Requirement already satisfied: triton==3.2.0 in /home/intisar/miniconda3/envs/firetrain/lib/python3.10/site-packages (from torch>=1.8.0->ultralytics) (3.2.0)\n",
      "Requirement already satisfied: sympy==1.13.1 in /home/intisar/miniconda3/envs/firetrain/lib/python3.10/site-packages (from torch>=1.8.0->ultralytics) (1.13.1)\n",
      "Requirement already satisfied: mpmath<1.4,>=1.1.0 in /home/intisar/miniconda3/envs/firetrain/lib/python3.10/site-packages (from sympy==1.13.1->torch>=1.8.0->ultralytics) (1.3.0)\n",
      "Requirement already satisfied: six>=1.5 in /home/intisar/miniconda3/envs/firetrain/lib/python3.10/site-packages (from python-dateutil>=2.7->matplotlib>=3.3.0->ultralytics) (1.16.0)\n",
      "Requirement already satisfied: MarkupSafe>=2.0 in /home/intisar/miniconda3/envs/firetrain/lib/python3.10/site-packages (from jinja2->torch>=1.8.0->ultralytics) (3.0.2)\n",
      "Note: you may need to restart the kernel to use updated packages.\n"
     ]
    }
   ],
   "source": [
    "%pip install ultralytics --upgrade"
   ]
  },
  {
   "cell_type": "code",
   "execution_count": 2,
   "metadata": {},
   "outputs": [
    {
     "name": "stdout",
     "output_type": "stream",
     "text": [
      "Classes: ['Knife']\n",
      "Train images: ./train/images\n",
      "Validation images: ./valid/images\n"
     ]
    }
   ],
   "source": [
    "import yaml\n",
    "\n",
    "with open(\"knife/data.yaml\", \"r\") as f:\n",
    "    data_yaml = yaml.safe_load(f)\n",
    "\n",
    "print(\"Classes:\", data_yaml[\"names\"])\n",
    "print(\"Train images:\", data_yaml[\"train\"])\n",
    "print(\"Validation images:\", data_yaml[\"val\"])"
   ]
  },
  {
   "cell_type": "code",
   "execution_count": 3,
   "metadata": {},
   "outputs": [
    {
     "name": "stdout",
     "output_type": "stream",
     "text": [
      "Ultralytics 8.3.96 🚀 Python-3.10.16 torch-2.6.0+cu124 CUDA:0 (NVIDIA RTX A4000, 16106MiB)\n",
      "\u001b[34m\u001b[1mengine/trainer: \u001b[0mtask=detect, mode=train, model=yolov8n.pt, data=knife/data.yaml, epochs=100, time=None, patience=100, batch=16, imgsz=640, save=True, save_period=-1, cache=False, device=None, workers=4, project=runs, name=knife-v13, exist_ok=False, pretrained=True, optimizer=auto, verbose=True, seed=0, deterministic=True, single_cls=False, rect=False, cos_lr=False, close_mosaic=10, resume=False, amp=True, fraction=1.0, profile=False, freeze=None, multi_scale=False, overlap_mask=True, mask_ratio=4, dropout=0.0, val=True, split=val, save_json=False, save_hybrid=False, conf=None, iou=0.7, max_det=300, half=False, dnn=False, plots=True, source=None, vid_stride=1, stream_buffer=False, visualize=False, augment=False, agnostic_nms=False, classes=None, retina_masks=False, embed=None, show=False, save_frames=False, save_txt=False, save_conf=False, save_crop=False, show_labels=True, show_conf=True, show_boxes=True, line_width=None, format=torchscript, keras=False, optimize=False, int8=False, dynamic=False, simplify=True, opset=None, workspace=None, nms=False, lr0=0.01, lrf=0.01, momentum=0.937, weight_decay=0.0005, warmup_epochs=3.0, warmup_momentum=0.8, warmup_bias_lr=0.1, box=7.5, cls=0.5, dfl=1.5, pose=12.0, kobj=1.0, nbs=64, hsv_h=0.015, hsv_s=0.7, hsv_v=0.4, degrees=0.0, translate=0.1, scale=0.5, shear=0.0, perspective=0.0, flipud=0.0, fliplr=0.5, bgr=0.0, mosaic=1.0, mixup=0.0, copy_paste=0.0, copy_paste_mode=flip, auto_augment=randaugment, erasing=0.4, crop_fraction=1.0, cfg=None, tracker=botsort.yaml, save_dir=runs/knife-v13\n",
      "Overriding model.yaml nc=80 with nc=1\n",
      "\n",
      "                   from  n    params  module                                       arguments                     \n",
      "  0                  -1  1       464  ultralytics.nn.modules.conv.Conv             [3, 16, 3, 2]                 \n",
      "  1                  -1  1      4672  ultralytics.nn.modules.conv.Conv             [16, 32, 3, 2]                \n",
      "  2                  -1  1      7360  ultralytics.nn.modules.block.C2f             [32, 32, 1, True]             \n",
      "  3                  -1  1     18560  ultralytics.nn.modules.conv.Conv             [32, 64, 3, 2]                \n",
      "  4                  -1  2     49664  ultralytics.nn.modules.block.C2f             [64, 64, 2, True]             \n",
      "  5                  -1  1     73984  ultralytics.nn.modules.conv.Conv             [64, 128, 3, 2]               \n",
      "  6                  -1  2    197632  ultralytics.nn.modules.block.C2f             [128, 128, 2, True]           \n",
      "  7                  -1  1    295424  ultralytics.nn.modules.conv.Conv             [128, 256, 3, 2]              \n",
      "  8                  -1  1    460288  ultralytics.nn.modules.block.C2f             [256, 256, 1, True]           \n",
      "  9                  -1  1    164608  ultralytics.nn.modules.block.SPPF            [256, 256, 5]                 \n",
      " 10                  -1  1         0  torch.nn.modules.upsampling.Upsample         [None, 2, 'nearest']          \n",
      " 11             [-1, 6]  1         0  ultralytics.nn.modules.conv.Concat           [1]                           \n",
      " 12                  -1  1    148224  ultralytics.nn.modules.block.C2f             [384, 128, 1]                 \n",
      " 13                  -1  1         0  torch.nn.modules.upsampling.Upsample         [None, 2, 'nearest']          \n",
      " 14             [-1, 4]  1         0  ultralytics.nn.modules.conv.Concat           [1]                           \n",
      " 15                  -1  1     37248  ultralytics.nn.modules.block.C2f             [192, 64, 1]                  \n",
      " 16                  -1  1     36992  ultralytics.nn.modules.conv.Conv             [64, 64, 3, 2]                \n",
      " 17            [-1, 12]  1         0  ultralytics.nn.modules.conv.Concat           [1]                           \n",
      " 18                  -1  1    123648  ultralytics.nn.modules.block.C2f             [192, 128, 1]                 \n",
      " 19                  -1  1    147712  ultralytics.nn.modules.conv.Conv             [128, 128, 3, 2]              \n",
      " 20             [-1, 9]  1         0  ultralytics.nn.modules.conv.Concat           [1]                           \n",
      " 21                  -1  1    493056  ultralytics.nn.modules.block.C2f             [384, 256, 1]                 \n",
      " 22        [15, 18, 21]  1    751507  ultralytics.nn.modules.head.Detect           [1, [64, 128, 256]]           \n",
      "Model summary: 129 layers, 3,011,043 parameters, 3,011,027 gradients, 8.2 GFLOPs\n",
      "\n",
      "Transferred 319/355 items from pretrained weights\n",
      "Freezing layer 'model.22.dfl.conv.weight'\n",
      "\u001b[34m\u001b[1mAMP: \u001b[0mrunning Automatic Mixed Precision (AMP) checks...\n",
      "Downloading https://github.com/ultralytics/assets/releases/download/v8.3.0/yolo11n.pt to 'yolo11n.pt'...\n"
     ]
    },
    {
     "name": "stderr",
     "output_type": "stream",
     "text": [
      "100%|██████████| 5.35M/5.35M [00:00<00:00, 8.99MB/s]\n"
     ]
    },
    {
     "name": "stdout",
     "output_type": "stream",
     "text": [
      "\u001b[34m\u001b[1mAMP: \u001b[0mchecks passed ✅\n"
     ]
    },
    {
     "name": "stderr",
     "output_type": "stream",
     "text": [
      "\u001b[34m\u001b[1mtrain: \u001b[0mScanning /media/intisar/dataset/visual_categorization/rajin/sharp/knife/train/labels... 8172 images, 1 backgrounds, 0 corrupt: 100%|██████████| 8172/8172 [00:06<00:00, 1282.56it/s]"
     ]
    },
    {
     "name": "stdout",
     "output_type": "stream",
     "text": [
      "\u001b[34m\u001b[1mtrain: \u001b[0mNew cache created: /media/intisar/dataset/visual_categorization/rajin/sharp/knife/train/labels.cache\n",
      "WARNING ⚠️ Box and segment counts should be equal, but got len(segments) = 5, len(boxes) = 8310. To resolve this only boxes will be used and all segments will be removed. To avoid this please supply either a detect or segment dataset, not a detect-segment mixed dataset.\n"
     ]
    },
    {
     "name": "stderr",
     "output_type": "stream",
     "text": [
      "\n",
      "\u001b[34m\u001b[1mval: \u001b[0mScanning /media/intisar/dataset/visual_categorization/rajin/sharp/knife/valid/labels... 559 images, 0 backgrounds, 0 corrupt: 100%|██████████| 559/559 [00:00<00:00, 5835.03it/s]"
     ]
    },
    {
     "name": "stdout",
     "output_type": "stream",
     "text": [
      "\u001b[34m\u001b[1mval: \u001b[0mNew cache created: /media/intisar/dataset/visual_categorization/rajin/sharp/knife/valid/labels.cache\n"
     ]
    },
    {
     "name": "stderr",
     "output_type": "stream",
     "text": [
      "\n"
     ]
    },
    {
     "name": "stdout",
     "output_type": "stream",
     "text": [
      "Plotting labels to runs/knife-v13/labels.jpg... \n",
      "\u001b[34m\u001b[1moptimizer:\u001b[0m 'optimizer=auto' found, ignoring 'lr0=0.01' and 'momentum=0.937' and determining best 'optimizer', 'lr0' and 'momentum' automatically... \n",
      "\u001b[34m\u001b[1moptimizer:\u001b[0m SGD(lr=0.01, momentum=0.9) with parameter groups 57 weight(decay=0.0), 64 weight(decay=0.0005), 63 bias(decay=0.0)\n",
      "Image sizes 640 train, 640 val\n",
      "Using 4 dataloader workers\n",
      "Logging results to \u001b[1mruns/knife-v13\u001b[0m\n",
      "Starting training for 100 epochs...\n",
      "\n",
      "      Epoch    GPU_mem   box_loss   cls_loss   dfl_loss  Instances       Size\n"
     ]
    },
    {
     "name": "stderr",
     "output_type": "stream",
     "text": [
      "      1/100      2.07G      1.607      2.748      1.703         26        640: 100%|██████████| 511/511 [00:40<00:00, 12.65it/s]\n",
      "                 Class     Images  Instances      Box(P          R      mAP50  mAP50-95): 100%|██████████| 18/18 [00:01<00:00, 13.23it/s]"
     ]
    },
    {
     "name": "stdout",
     "output_type": "stream",
     "text": [
      "                   all        559        581      0.541      0.655      0.631      0.307\n"
     ]
    },
    {
     "name": "stderr",
     "output_type": "stream",
     "text": [
      "\n"
     ]
    },
    {
     "name": "stdout",
     "output_type": "stream",
     "text": [
      "\n",
      "      Epoch    GPU_mem   box_loss   cls_loss   dfl_loss  Instances       Size\n"
     ]
    },
    {
     "name": "stderr",
     "output_type": "stream",
     "text": [
      "      2/100      2.39G      1.573      2.103      1.645         25        640: 100%|██████████| 511/511 [00:39<00:00, 12.82it/s]\n",
      "                 Class     Images  Instances      Box(P          R      mAP50  mAP50-95): 100%|██████████| 18/18 [00:01<00:00, 14.19it/s]"
     ]
    },
    {
     "name": "stdout",
     "output_type": "stream",
     "text": [
      "                   all        559        581      0.446      0.551      0.474       0.21\n"
     ]
    },
    {
     "name": "stderr",
     "output_type": "stream",
     "text": [
      "\n"
     ]
    },
    {
     "name": "stdout",
     "output_type": "stream",
     "text": [
      "\n",
      "      Epoch    GPU_mem   box_loss   cls_loss   dfl_loss  Instances       Size\n"
     ]
    },
    {
     "name": "stderr",
     "output_type": "stream",
     "text": [
      "      3/100       2.4G      1.681      2.057      1.758         27        640: 100%|██████████| 511/511 [00:39<00:00, 12.82it/s]\n",
      "                 Class     Images  Instances      Box(P          R      mAP50  mAP50-95): 100%|██████████| 18/18 [00:01<00:00, 14.23it/s]"
     ]
    },
    {
     "name": "stdout",
     "output_type": "stream",
     "text": [
      "                   all        559        581      0.328      0.341      0.264      0.108\n"
     ]
    },
    {
     "name": "stderr",
     "output_type": "stream",
     "text": [
      "\n"
     ]
    },
    {
     "name": "stdout",
     "output_type": "stream",
     "text": [
      "\n",
      "      Epoch    GPU_mem   box_loss   cls_loss   dfl_loss  Instances       Size\n"
     ]
    },
    {
     "name": "stderr",
     "output_type": "stream",
     "text": [
      "      4/100      2.41G      1.767        2.1      1.839         20        640: 100%|██████████| 511/511 [00:39<00:00, 12.79it/s]\n",
      "                 Class     Images  Instances      Box(P          R      mAP50  mAP50-95): 100%|██████████| 18/18 [00:01<00:00, 14.18it/s]"
     ]
    },
    {
     "name": "stdout",
     "output_type": "stream",
     "text": [
      "                   all        559        581      0.464      0.415      0.392      0.162\n"
     ]
    },
    {
     "name": "stderr",
     "output_type": "stream",
     "text": [
      "\n"
     ]
    },
    {
     "name": "stdout",
     "output_type": "stream",
     "text": [
      "\n",
      "      Epoch    GPU_mem   box_loss   cls_loss   dfl_loss  Instances       Size\n"
     ]
    },
    {
     "name": "stderr",
     "output_type": "stream",
     "text": [
      "      5/100      2.42G      1.706      1.981        1.8         22        640: 100%|██████████| 511/511 [00:40<00:00, 12.56it/s]\n",
      "                 Class     Images  Instances      Box(P          R      mAP50  mAP50-95): 100%|██████████| 18/18 [00:01<00:00, 14.23it/s]"
     ]
    },
    {
     "name": "stdout",
     "output_type": "stream",
     "text": [
      "                   all        559        581      0.501      0.487       0.48      0.217\n"
     ]
    },
    {
     "name": "stderr",
     "output_type": "stream",
     "text": [
      "\n"
     ]
    },
    {
     "name": "stdout",
     "output_type": "stream",
     "text": [
      "\n",
      "      Epoch    GPU_mem   box_loss   cls_loss   dfl_loss  Instances       Size\n"
     ]
    },
    {
     "name": "stderr",
     "output_type": "stream",
     "text": [
      "      6/100      2.43G       1.65       1.89      1.748         21        640: 100%|██████████| 511/511 [00:40<00:00, 12.66it/s]\n",
      "                 Class     Images  Instances      Box(P          R      mAP50  mAP50-95): 100%|██████████| 18/18 [00:01<00:00, 14.13it/s]"
     ]
    },
    {
     "name": "stdout",
     "output_type": "stream",
     "text": [
      "                   all        559        581       0.57      0.528      0.515      0.246\n",
      "\n",
      "      Epoch    GPU_mem   box_loss   cls_loss   dfl_loss  Instances       Size\n"
     ]
    },
    {
     "name": "stderr",
     "output_type": "stream",
     "text": [
      "\n",
      "      7/100      2.44G      1.626      1.793       1.72         24        640: 100%|██████████| 511/511 [00:40<00:00, 12.74it/s]\n",
      "                 Class     Images  Instances      Box(P          R      mAP50  mAP50-95): 100%|██████████| 18/18 [00:01<00:00, 14.18it/s]"
     ]
    },
    {
     "name": "stdout",
     "output_type": "stream",
     "text": [
      "                   all        559        581      0.654      0.608      0.654       0.31\n"
     ]
    },
    {
     "name": "stderr",
     "output_type": "stream",
     "text": [
      "\n"
     ]
    },
    {
     "name": "stdout",
     "output_type": "stream",
     "text": [
      "\n",
      "      Epoch    GPU_mem   box_loss   cls_loss   dfl_loss  Instances       Size\n"
     ]
    },
    {
     "name": "stderr",
     "output_type": "stream",
     "text": [
      "      8/100      2.46G      1.573      1.715      1.679         20        640: 100%|██████████| 511/511 [00:40<00:00, 12.66it/s]\n",
      "                 Class     Images  Instances      Box(P          R      mAP50  mAP50-95): 100%|██████████| 18/18 [00:01<00:00, 14.19it/s]"
     ]
    },
    {
     "name": "stdout",
     "output_type": "stream",
     "text": [
      "                   all        559        581      0.706      0.666      0.731      0.372\n"
     ]
    },
    {
     "name": "stderr",
     "output_type": "stream",
     "text": [
      "\n"
     ]
    },
    {
     "name": "stdout",
     "output_type": "stream",
     "text": [
      "\n",
      "      Epoch    GPU_mem   box_loss   cls_loss   dfl_loss  Instances       Size\n"
     ]
    },
    {
     "name": "stderr",
     "output_type": "stream",
     "text": [
      "      9/100      2.47G      1.551      1.636      1.653         27        640: 100%|██████████| 511/511 [00:40<00:00, 12.66it/s]\n",
      "                 Class     Images  Instances      Box(P          R      mAP50  mAP50-95): 100%|██████████| 18/18 [00:01<00:00, 14.17it/s]"
     ]
    },
    {
     "name": "stdout",
     "output_type": "stream",
     "text": [
      "                   all        559        581      0.694      0.644      0.704      0.376\n"
     ]
    },
    {
     "name": "stderr",
     "output_type": "stream",
     "text": [
      "\n"
     ]
    },
    {
     "name": "stdout",
     "output_type": "stream",
     "text": [
      "\n",
      "      Epoch    GPU_mem   box_loss   cls_loss   dfl_loss  Instances       Size\n"
     ]
    },
    {
     "name": "stderr",
     "output_type": "stream",
     "text": [
      "     10/100      2.48G      1.522       1.61       1.64         23        640: 100%|██████████| 511/511 [00:40<00:00, 12.76it/s]\n",
      "                 Class     Images  Instances      Box(P          R      mAP50  mAP50-95): 100%|██████████| 18/18 [00:01<00:00, 14.25it/s]"
     ]
    },
    {
     "name": "stdout",
     "output_type": "stream",
     "text": [
      "                   all        559        581      0.648      0.675      0.685      0.363\n",
      "\n",
      "      Epoch    GPU_mem   box_loss   cls_loss   dfl_loss  Instances       Size\n"
     ]
    },
    {
     "name": "stderr",
     "output_type": "stream",
     "text": [
      "\n",
      "     11/100      2.49G      1.492      1.558      1.608         27        640: 100%|██████████| 511/511 [00:39<00:00, 12.79it/s]\n",
      "                 Class     Images  Instances      Box(P          R      mAP50  mAP50-95): 100%|██████████| 18/18 [00:01<00:00, 14.23it/s]"
     ]
    },
    {
     "name": "stdout",
     "output_type": "stream",
     "text": [
      "                   all        559        581      0.728      0.711      0.763      0.413\n"
     ]
    },
    {
     "name": "stderr",
     "output_type": "stream",
     "text": [
      "\n"
     ]
    },
    {
     "name": "stdout",
     "output_type": "stream",
     "text": [
      "\n",
      "      Epoch    GPU_mem   box_loss   cls_loss   dfl_loss  Instances       Size\n"
     ]
    },
    {
     "name": "stderr",
     "output_type": "stream",
     "text": [
      "     12/100       2.5G      1.485      1.521      1.601         21        640: 100%|██████████| 511/511 [00:40<00:00, 12.76it/s]\n",
      "                 Class     Images  Instances      Box(P          R      mAP50  mAP50-95): 100%|██████████| 18/18 [00:01<00:00, 14.28it/s]"
     ]
    },
    {
     "name": "stdout",
     "output_type": "stream",
     "text": [
      "                   all        559        581      0.752      0.731      0.762      0.417\n"
     ]
    },
    {
     "name": "stderr",
     "output_type": "stream",
     "text": [
      "\n"
     ]
    },
    {
     "name": "stdout",
     "output_type": "stream",
     "text": [
      "\n",
      "      Epoch    GPU_mem   box_loss   cls_loss   dfl_loss  Instances       Size\n"
     ]
    },
    {
     "name": "stderr",
     "output_type": "stream",
     "text": [
      "     13/100      2.51G      1.473      1.497      1.591         24        640: 100%|██████████| 511/511 [00:40<00:00, 12.77it/s]\n",
      "                 Class     Images  Instances      Box(P          R      mAP50  mAP50-95): 100%|██████████| 18/18 [00:01<00:00, 14.28it/s]"
     ]
    },
    {
     "name": "stdout",
     "output_type": "stream",
     "text": [
      "                   all        559        581      0.742      0.716      0.778      0.429\n"
     ]
    },
    {
     "name": "stderr",
     "output_type": "stream",
     "text": [
      "\n"
     ]
    },
    {
     "name": "stdout",
     "output_type": "stream",
     "text": [
      "\n",
      "      Epoch    GPU_mem   box_loss   cls_loss   dfl_loss  Instances       Size\n"
     ]
    },
    {
     "name": "stderr",
     "output_type": "stream",
     "text": [
      "     14/100      2.52G      1.456      1.457      1.574         30        640: 100%|██████████| 511/511 [00:40<00:00, 12.75it/s]\n",
      "                 Class     Images  Instances      Box(P          R      mAP50  mAP50-95): 100%|██████████| 18/18 [00:01<00:00, 14.32it/s]"
     ]
    },
    {
     "name": "stdout",
     "output_type": "stream",
     "text": [
      "                   all        559        581      0.765      0.731      0.792      0.446\n"
     ]
    },
    {
     "name": "stderr",
     "output_type": "stream",
     "text": [
      "\n"
     ]
    },
    {
     "name": "stdout",
     "output_type": "stream",
     "text": [
      "\n",
      "      Epoch    GPU_mem   box_loss   cls_loss   dfl_loss  Instances       Size\n"
     ]
    },
    {
     "name": "stderr",
     "output_type": "stream",
     "text": [
      "     15/100      2.54G      1.436      1.435      1.565         27        640: 100%|██████████| 511/511 [00:40<00:00, 12.75it/s]\n",
      "                 Class     Images  Instances      Box(P          R      mAP50  mAP50-95): 100%|██████████| 18/18 [00:01<00:00, 14.24it/s]"
     ]
    },
    {
     "name": "stdout",
     "output_type": "stream",
     "text": [
      "                   all        559        581      0.735      0.761      0.795       0.45\n"
     ]
    },
    {
     "name": "stderr",
     "output_type": "stream",
     "text": [
      "\n"
     ]
    },
    {
     "name": "stdout",
     "output_type": "stream",
     "text": [
      "\n",
      "      Epoch    GPU_mem   box_loss   cls_loss   dfl_loss  Instances       Size\n"
     ]
    },
    {
     "name": "stderr",
     "output_type": "stream",
     "text": [
      "     16/100      2.55G       1.42      1.416      1.546         13        640: 100%|██████████| 511/511 [00:40<00:00, 12.74it/s]\n",
      "                 Class     Images  Instances      Box(P          R      mAP50  mAP50-95): 100%|██████████| 18/18 [00:01<00:00, 14.30it/s]"
     ]
    },
    {
     "name": "stdout",
     "output_type": "stream",
     "text": [
      "                   all        559        581      0.784      0.744      0.805      0.457\n"
     ]
    },
    {
     "name": "stderr",
     "output_type": "stream",
     "text": [
      "\n"
     ]
    },
    {
     "name": "stdout",
     "output_type": "stream",
     "text": [
      "\n",
      "      Epoch    GPU_mem   box_loss   cls_loss   dfl_loss  Instances       Size\n"
     ]
    },
    {
     "name": "stderr",
     "output_type": "stream",
     "text": [
      "     17/100      2.56G      1.408      1.388      1.536         28        640: 100%|██████████| 511/511 [00:40<00:00, 12.69it/s]\n",
      "                 Class     Images  Instances      Box(P          R      mAP50  mAP50-95): 100%|██████████| 18/18 [00:01<00:00, 14.20it/s]"
     ]
    },
    {
     "name": "stdout",
     "output_type": "stream",
     "text": [
      "                   all        559        581      0.788      0.756      0.809      0.472\n"
     ]
    },
    {
     "name": "stderr",
     "output_type": "stream",
     "text": [
      "\n"
     ]
    },
    {
     "name": "stdout",
     "output_type": "stream",
     "text": [
      "\n",
      "      Epoch    GPU_mem   box_loss   cls_loss   dfl_loss  Instances       Size\n"
     ]
    },
    {
     "name": "stderr",
     "output_type": "stream",
     "text": [
      "     18/100      2.57G        1.4      1.383      1.532         25        640: 100%|██████████| 511/511 [00:40<00:00, 12.60it/s]\n",
      "                 Class     Images  Instances      Box(P          R      mAP50  mAP50-95): 100%|██████████| 18/18 [00:01<00:00, 14.21it/s]"
     ]
    },
    {
     "name": "stdout",
     "output_type": "stream",
     "text": [
      "                   all        559        581      0.801      0.718      0.783       0.46\n",
      "\n",
      "      Epoch    GPU_mem   box_loss   cls_loss   dfl_loss  Instances       Size\n"
     ]
    },
    {
     "name": "stderr",
     "output_type": "stream",
     "text": [
      "\n",
      "     19/100      2.58G      1.382      1.355       1.52         30        640: 100%|██████████| 511/511 [00:40<00:00, 12.61it/s]\n",
      "                 Class     Images  Instances      Box(P          R      mAP50  mAP50-95): 100%|██████████| 18/18 [00:01<00:00, 14.31it/s]"
     ]
    },
    {
     "name": "stdout",
     "output_type": "stream",
     "text": [
      "                   all        559        581      0.793      0.764      0.833      0.493\n"
     ]
    },
    {
     "name": "stderr",
     "output_type": "stream",
     "text": [
      "\n"
     ]
    },
    {
     "name": "stdout",
     "output_type": "stream",
     "text": [
      "\n",
      "      Epoch    GPU_mem   box_loss   cls_loss   dfl_loss  Instances       Size\n"
     ]
    },
    {
     "name": "stderr",
     "output_type": "stream",
     "text": [
      "     20/100      2.59G      1.379      1.319      1.511         27        640: 100%|██████████| 511/511 [00:40<00:00, 12.58it/s]\n",
      "                 Class     Images  Instances      Box(P          R      mAP50  mAP50-95): 100%|██████████| 18/18 [00:01<00:00, 14.23it/s]"
     ]
    },
    {
     "name": "stdout",
     "output_type": "stream",
     "text": [
      "                   all        559        581      0.779      0.745      0.806       0.48\n",
      "\n",
      "      Epoch    GPU_mem   box_loss   cls_loss   dfl_loss  Instances       Size\n"
     ]
    },
    {
     "name": "stderr",
     "output_type": "stream",
     "text": [
      "\n",
      "     21/100       2.6G      1.369      1.304      1.496         30        640: 100%|██████████| 511/511 [00:40<00:00, 12.61it/s]\n",
      "                 Class     Images  Instances      Box(P          R      mAP50  mAP50-95): 100%|██████████| 18/18 [00:01<00:00, 14.23it/s]"
     ]
    },
    {
     "name": "stdout",
     "output_type": "stream",
     "text": [
      "                   all        559        581      0.796      0.762      0.827      0.485\n",
      "\n",
      "      Epoch    GPU_mem   box_loss   cls_loss   dfl_loss  Instances       Size\n"
     ]
    },
    {
     "name": "stderr",
     "output_type": "stream",
     "text": [
      "\n",
      "     22/100      2.62G      1.358      1.303      1.497         21        640: 100%|██████████| 511/511 [00:40<00:00, 12.71it/s]\n",
      "                 Class     Images  Instances      Box(P          R      mAP50  mAP50-95): 100%|██████████| 18/18 [00:01<00:00, 14.30it/s]"
     ]
    },
    {
     "name": "stdout",
     "output_type": "stream",
     "text": [
      "                   all        559        581       0.83      0.776      0.854      0.498\n"
     ]
    },
    {
     "name": "stderr",
     "output_type": "stream",
     "text": [
      "\n"
     ]
    },
    {
     "name": "stdout",
     "output_type": "stream",
     "text": [
      "\n",
      "      Epoch    GPU_mem   box_loss   cls_loss   dfl_loss  Instances       Size\n"
     ]
    },
    {
     "name": "stderr",
     "output_type": "stream",
     "text": [
      "     23/100      2.63G      1.345      1.282      1.486         22        640: 100%|██████████| 511/511 [00:40<00:00, 12.63it/s]\n",
      "                 Class     Images  Instances      Box(P          R      mAP50  mAP50-95): 100%|██████████| 18/18 [00:01<00:00, 14.27it/s]"
     ]
    },
    {
     "name": "stdout",
     "output_type": "stream",
     "text": [
      "                   all        559        581      0.811      0.775      0.839      0.499\n",
      "\n",
      "      Epoch    GPU_mem   box_loss   cls_loss   dfl_loss  Instances       Size\n"
     ]
    },
    {
     "name": "stderr",
     "output_type": "stream",
     "text": [
      "\n",
      "     24/100      2.64G      1.341      1.271      1.478         22        640: 100%|██████████| 511/511 [00:40<00:00, 12.57it/s]\n",
      "                 Class     Images  Instances      Box(P          R      mAP50  mAP50-95): 100%|██████████| 18/18 [00:01<00:00, 14.33it/s]"
     ]
    },
    {
     "name": "stdout",
     "output_type": "stream",
     "text": [
      "                   all        559        581      0.777      0.769      0.815      0.489\n",
      "\n",
      "      Epoch    GPU_mem   box_loss   cls_loss   dfl_loss  Instances       Size\n"
     ]
    },
    {
     "name": "stderr",
     "output_type": "stream",
     "text": [
      "\n",
      "     25/100      2.65G      1.323      1.245      1.466         24        640: 100%|██████████| 511/511 [00:40<00:00, 12.57it/s]\n",
      "                 Class     Images  Instances      Box(P          R      mAP50  mAP50-95): 100%|██████████| 18/18 [00:01<00:00, 14.27it/s]"
     ]
    },
    {
     "name": "stdout",
     "output_type": "stream",
     "text": [
      "                   all        559        581      0.798      0.783      0.821      0.494\n",
      "\n",
      "      Epoch    GPU_mem   box_loss   cls_loss   dfl_loss  Instances       Size\n"
     ]
    },
    {
     "name": "stderr",
     "output_type": "stream",
     "text": [
      "\n",
      "     26/100      2.66G      1.328      1.213      1.456         28        640: 100%|██████████| 511/511 [00:40<00:00, 12.56it/s]\n",
      "                 Class     Images  Instances      Box(P          R      mAP50  mAP50-95): 100%|██████████| 18/18 [00:01<00:00, 14.33it/s]"
     ]
    },
    {
     "name": "stdout",
     "output_type": "stream",
     "text": [
      "                   all        559        581      0.811      0.798      0.846      0.515\n"
     ]
    },
    {
     "name": "stderr",
     "output_type": "stream",
     "text": [
      "\n"
     ]
    },
    {
     "name": "stdout",
     "output_type": "stream",
     "text": [
      "\n",
      "      Epoch    GPU_mem   box_loss   cls_loss   dfl_loss  Instances       Size\n"
     ]
    },
    {
     "name": "stderr",
     "output_type": "stream",
     "text": [
      "     27/100      2.67G      1.305      1.229      1.456         22        640: 100%|██████████| 511/511 [00:40<00:00, 12.57it/s]\n",
      "                 Class     Images  Instances      Box(P          R      mAP50  mAP50-95): 100%|██████████| 18/18 [00:01<00:00, 14.34it/s]"
     ]
    },
    {
     "name": "stdout",
     "output_type": "stream",
     "text": [
      "                   all        559        581      0.829      0.811      0.869      0.516\n"
     ]
    },
    {
     "name": "stderr",
     "output_type": "stream",
     "text": [
      "\n"
     ]
    },
    {
     "name": "stdout",
     "output_type": "stream",
     "text": [
      "\n",
      "      Epoch    GPU_mem   box_loss   cls_loss   dfl_loss  Instances       Size\n"
     ]
    },
    {
     "name": "stderr",
     "output_type": "stream",
     "text": [
      "     28/100      2.68G        1.3      1.208      1.445         17        640: 100%|██████████| 511/511 [00:40<00:00, 12.55it/s]\n",
      "                 Class     Images  Instances      Box(P          R      mAP50  mAP50-95): 100%|██████████| 18/18 [00:01<00:00, 14.29it/s]"
     ]
    },
    {
     "name": "stdout",
     "output_type": "stream",
     "text": [
      "                   all        559        581      0.779      0.827      0.865      0.527\n"
     ]
    },
    {
     "name": "stderr",
     "output_type": "stream",
     "text": [
      "\n"
     ]
    },
    {
     "name": "stdout",
     "output_type": "stream",
     "text": [
      "\n",
      "      Epoch    GPU_mem   box_loss   cls_loss   dfl_loss  Instances       Size\n"
     ]
    },
    {
     "name": "stderr",
     "output_type": "stream",
     "text": [
      "     29/100       2.7G      1.292        1.2      1.442         29        640: 100%|██████████| 511/511 [00:40<00:00, 12.60it/s]\n",
      "                 Class     Images  Instances      Box(P          R      mAP50  mAP50-95): 100%|██████████| 18/18 [00:01<00:00, 14.42it/s]"
     ]
    },
    {
     "name": "stdout",
     "output_type": "stream",
     "text": [
      "                   all        559        581      0.847      0.776       0.87       0.51\n",
      "\n",
      "      Epoch    GPU_mem   box_loss   cls_loss   dfl_loss  Instances       Size\n"
     ]
    },
    {
     "name": "stderr",
     "output_type": "stream",
     "text": [
      "\n",
      "     30/100      2.71G        1.3      1.191      1.437         24        640: 100%|██████████| 511/511 [00:40<00:00, 12.58it/s]\n",
      "                 Class     Images  Instances      Box(P          R      mAP50  mAP50-95): 100%|██████████| 18/18 [00:01<00:00, 14.41it/s]"
     ]
    },
    {
     "name": "stdout",
     "output_type": "stream",
     "text": [
      "                   all        559        581      0.832      0.793      0.868      0.524\n",
      "\n",
      "      Epoch    GPU_mem   box_loss   cls_loss   dfl_loss  Instances       Size\n"
     ]
    },
    {
     "name": "stderr",
     "output_type": "stream",
     "text": [
      "\n",
      "     31/100      2.72G       1.28      1.176      1.436         26        640: 100%|██████████| 511/511 [00:40<00:00, 12.58it/s]\n",
      "                 Class     Images  Instances      Box(P          R      mAP50  mAP50-95): 100%|██████████| 18/18 [00:01<00:00, 14.32it/s]"
     ]
    },
    {
     "name": "stdout",
     "output_type": "stream",
     "text": [
      "                   all        559        581      0.832      0.787      0.859      0.529\n"
     ]
    },
    {
     "name": "stderr",
     "output_type": "stream",
     "text": [
      "\n"
     ]
    },
    {
     "name": "stdout",
     "output_type": "stream",
     "text": [
      "\n",
      "      Epoch    GPU_mem   box_loss   cls_loss   dfl_loss  Instances       Size\n"
     ]
    },
    {
     "name": "stderr",
     "output_type": "stream",
     "text": [
      "     32/100      2.73G      1.278      1.171      1.428         23        640: 100%|██████████| 511/511 [00:40<00:00, 12.53it/s]\n",
      "                 Class     Images  Instances      Box(P          R      mAP50  mAP50-95): 100%|██████████| 18/18 [00:01<00:00, 14.23it/s]"
     ]
    },
    {
     "name": "stdout",
     "output_type": "stream",
     "text": [
      "                   all        559        581      0.819      0.812      0.873      0.542\n"
     ]
    },
    {
     "name": "stderr",
     "output_type": "stream",
     "text": [
      "\n"
     ]
    },
    {
     "name": "stdout",
     "output_type": "stream",
     "text": [
      "\n",
      "      Epoch    GPU_mem   box_loss   cls_loss   dfl_loss  Instances       Size\n"
     ]
    },
    {
     "name": "stderr",
     "output_type": "stream",
     "text": [
      "     33/100      2.74G      1.273      1.168      1.427         31        640: 100%|██████████| 511/511 [00:40<00:00, 12.55it/s]\n",
      "                 Class     Images  Instances      Box(P          R      mAP50  mAP50-95): 100%|██████████| 18/18 [00:01<00:00, 14.26it/s]"
     ]
    },
    {
     "name": "stdout",
     "output_type": "stream",
     "text": [
      "                   all        559        581      0.792      0.814      0.845       0.53\n",
      "\n",
      "      Epoch    GPU_mem   box_loss   cls_loss   dfl_loss  Instances       Size\n"
     ]
    },
    {
     "name": "stderr",
     "output_type": "stream",
     "text": [
      "\n",
      "     34/100      2.75G      1.265      1.153      1.425         28        640: 100%|██████████| 511/511 [00:40<00:00, 12.52it/s]\n",
      "                 Class     Images  Instances      Box(P          R      mAP50  mAP50-95): 100%|██████████| 18/18 [00:01<00:00, 14.39it/s]"
     ]
    },
    {
     "name": "stdout",
     "output_type": "stream",
     "text": [
      "                   all        559        581      0.831      0.804      0.873      0.547\n"
     ]
    },
    {
     "name": "stderr",
     "output_type": "stream",
     "text": [
      "\n"
     ]
    },
    {
     "name": "stdout",
     "output_type": "stream",
     "text": [
      "\n",
      "      Epoch    GPU_mem   box_loss   cls_loss   dfl_loss  Instances       Size\n"
     ]
    },
    {
     "name": "stderr",
     "output_type": "stream",
     "text": [
      "     35/100      2.76G      1.254      1.133      1.417         17        640: 100%|██████████| 511/511 [00:40<00:00, 12.52it/s]\n",
      "                 Class     Images  Instances      Box(P          R      mAP50  mAP50-95): 100%|██████████| 18/18 [00:01<00:00, 14.43it/s]"
     ]
    },
    {
     "name": "stdout",
     "output_type": "stream",
     "text": [
      "                   all        559        581      0.824      0.818      0.871      0.556\n"
     ]
    },
    {
     "name": "stderr",
     "output_type": "stream",
     "text": [
      "\n"
     ]
    },
    {
     "name": "stdout",
     "output_type": "stream",
     "text": [
      "\n",
      "      Epoch    GPU_mem   box_loss   cls_loss   dfl_loss  Instances       Size\n"
     ]
    },
    {
     "name": "stderr",
     "output_type": "stream",
     "text": [
      "     36/100      2.77G      1.251      1.126      1.408         25        640: 100%|██████████| 511/511 [00:40<00:00, 12.53it/s]\n",
      "                 Class     Images  Instances      Box(P          R      mAP50  mAP50-95): 100%|██████████| 18/18 [00:01<00:00, 14.43it/s]"
     ]
    },
    {
     "name": "stdout",
     "output_type": "stream",
     "text": [
      "                   all        559        581      0.831      0.792      0.866      0.544\n",
      "\n",
      "      Epoch    GPU_mem   box_loss   cls_loss   dfl_loss  Instances       Size\n"
     ]
    },
    {
     "name": "stderr",
     "output_type": "stream",
     "text": [
      "\n",
      "     37/100      2.79G       1.24       1.11      1.395         18        640: 100%|██████████| 511/511 [00:40<00:00, 12.52it/s]\n",
      "                 Class     Images  Instances      Box(P          R      mAP50  mAP50-95): 100%|██████████| 18/18 [00:01<00:00, 14.39it/s]"
     ]
    },
    {
     "name": "stdout",
     "output_type": "stream",
     "text": [
      "                   all        559        581      0.838       0.82      0.878      0.548\n",
      "\n",
      "      Epoch    GPU_mem   box_loss   cls_loss   dfl_loss  Instances       Size\n"
     ]
    },
    {
     "name": "stderr",
     "output_type": "stream",
     "text": [
      "\n",
      "     38/100       2.8G      1.229      1.101      1.392         27        640: 100%|██████████| 511/511 [00:40<00:00, 12.53it/s]\n",
      "                 Class     Images  Instances      Box(P          R      mAP50  mAP50-95): 100%|██████████| 18/18 [00:01<00:00, 14.36it/s]"
     ]
    },
    {
     "name": "stdout",
     "output_type": "stream",
     "text": [
      "                   all        559        581      0.844      0.806      0.865      0.555\n",
      "\n",
      "      Epoch    GPU_mem   box_loss   cls_loss   dfl_loss  Instances       Size\n"
     ]
    },
    {
     "name": "stderr",
     "output_type": "stream",
     "text": [
      "\n",
      "     39/100      2.81G      1.242      1.103      1.398         22        640: 100%|██████████| 511/511 [00:40<00:00, 12.52it/s]\n",
      "                 Class     Images  Instances      Box(P          R      mAP50  mAP50-95): 100%|██████████| 18/18 [00:01<00:00, 14.42it/s]"
     ]
    },
    {
     "name": "stdout",
     "output_type": "stream",
     "text": [
      "                   all        559        581      0.836      0.828      0.889      0.566\n"
     ]
    },
    {
     "name": "stderr",
     "output_type": "stream",
     "text": [
      "\n"
     ]
    },
    {
     "name": "stdout",
     "output_type": "stream",
     "text": [
      "\n",
      "      Epoch    GPU_mem   box_loss   cls_loss   dfl_loss  Instances       Size\n"
     ]
    },
    {
     "name": "stderr",
     "output_type": "stream",
     "text": [
      "     40/100      2.82G      1.228      1.097      1.394         22        640: 100%|██████████| 511/511 [00:40<00:00, 12.51it/s]\n",
      "                 Class     Images  Instances      Box(P          R      mAP50  mAP50-95): 100%|██████████| 18/18 [00:01<00:00, 14.38it/s]"
     ]
    },
    {
     "name": "stdout",
     "output_type": "stream",
     "text": [
      "                   all        559        581      0.857       0.83      0.896      0.575\n"
     ]
    },
    {
     "name": "stderr",
     "output_type": "stream",
     "text": [
      "\n"
     ]
    },
    {
     "name": "stdout",
     "output_type": "stream",
     "text": [
      "\n",
      "      Epoch    GPU_mem   box_loss   cls_loss   dfl_loss  Instances       Size\n"
     ]
    },
    {
     "name": "stderr",
     "output_type": "stream",
     "text": [
      "     41/100      2.83G      1.222      1.078      1.381         22        640: 100%|██████████| 511/511 [00:40<00:00, 12.50it/s]\n",
      "                 Class     Images  Instances      Box(P          R      mAP50  mAP50-95): 100%|██████████| 18/18 [00:01<00:00, 14.43it/s]"
     ]
    },
    {
     "name": "stdout",
     "output_type": "stream",
     "text": [
      "                   all        559        581      0.816      0.845      0.884      0.564\n",
      "\n",
      "      Epoch    GPU_mem   box_loss   cls_loss   dfl_loss  Instances       Size\n"
     ]
    },
    {
     "name": "stderr",
     "output_type": "stream",
     "text": [
      "\n",
      "     42/100      2.84G      1.219      1.081      1.381         21        640: 100%|██████████| 511/511 [00:40<00:00, 12.47it/s]\n",
      "                 Class     Images  Instances      Box(P          R      mAP50  mAP50-95): 100%|██████████| 18/18 [00:01<00:00, 14.30it/s]"
     ]
    },
    {
     "name": "stdout",
     "output_type": "stream",
     "text": [
      "                   all        559        581      0.825      0.836       0.88      0.565\n",
      "\n",
      "      Epoch    GPU_mem   box_loss   cls_loss   dfl_loss  Instances       Size\n"
     ]
    },
    {
     "name": "stderr",
     "output_type": "stream",
     "text": [
      "\n",
      "     43/100      2.85G      1.202      1.062      1.367         31        640: 100%|██████████| 511/511 [00:41<00:00, 12.46it/s]\n",
      "                 Class     Images  Instances      Box(P          R      mAP50  mAP50-95): 100%|██████████| 18/18 [00:01<00:00, 14.32it/s]"
     ]
    },
    {
     "name": "stdout",
     "output_type": "stream",
     "text": [
      "                   all        559        581      0.833      0.852      0.889      0.563\n",
      "\n",
      "      Epoch    GPU_mem   box_loss   cls_loss   dfl_loss  Instances       Size\n"
     ]
    },
    {
     "name": "stderr",
     "output_type": "stream",
     "text": [
      "\n",
      "     44/100      2.87G      1.207      1.057      1.369         23        640: 100%|██████████| 511/511 [00:41<00:00, 12.44it/s]\n",
      "                 Class     Images  Instances      Box(P          R      mAP50  mAP50-95): 100%|██████████| 18/18 [00:01<00:00, 14.42it/s]"
     ]
    },
    {
     "name": "stdout",
     "output_type": "stream",
     "text": [
      "                   all        559        581      0.853      0.847      0.894       0.57\n",
      "\n",
      "      Epoch    GPU_mem   box_loss   cls_loss   dfl_loss  Instances       Size\n"
     ]
    },
    {
     "name": "stderr",
     "output_type": "stream",
     "text": [
      "\n",
      "     45/100      2.88G      1.197      1.047      1.365         23        640: 100%|██████████| 511/511 [00:41<00:00, 12.45it/s]\n",
      "                 Class     Images  Instances      Box(P          R      mAP50  mAP50-95): 100%|██████████| 18/18 [00:01<00:00, 14.41it/s]"
     ]
    },
    {
     "name": "stdout",
     "output_type": "stream",
     "text": [
      "                   all        559        581      0.857      0.842      0.894      0.581\n"
     ]
    },
    {
     "name": "stderr",
     "output_type": "stream",
     "text": [
      "\n"
     ]
    },
    {
     "name": "stdout",
     "output_type": "stream",
     "text": [
      "\n",
      "      Epoch    GPU_mem   box_loss   cls_loss   dfl_loss  Instances       Size\n"
     ]
    },
    {
     "name": "stderr",
     "output_type": "stream",
     "text": [
      "     46/100      2.89G      1.191      1.046      1.366         29        640: 100%|██████████| 511/511 [00:40<00:00, 12.46it/s]\n",
      "                 Class     Images  Instances      Box(P          R      mAP50  mAP50-95): 100%|██████████| 18/18 [00:01<00:00, 14.34it/s]"
     ]
    },
    {
     "name": "stdout",
     "output_type": "stream",
     "text": [
      "                   all        559        581      0.847      0.849      0.895       0.58\n",
      "\n",
      "      Epoch    GPU_mem   box_loss   cls_loss   dfl_loss  Instances       Size\n"
     ]
    },
    {
     "name": "stderr",
     "output_type": "stream",
     "text": [
      "\n",
      "     47/100       2.9G      1.191      1.048      1.362         24        640: 100%|██████████| 511/511 [00:40<00:00, 12.47it/s]\n",
      "                 Class     Images  Instances      Box(P          R      mAP50  mAP50-95): 100%|██████████| 18/18 [00:01<00:00, 14.53it/s]"
     ]
    },
    {
     "name": "stdout",
     "output_type": "stream",
     "text": [
      "                   all        559        581      0.848      0.854      0.893      0.578\n",
      "\n",
      "      Epoch    GPU_mem   box_loss   cls_loss   dfl_loss  Instances       Size\n"
     ]
    },
    {
     "name": "stderr",
     "output_type": "stream",
     "text": [
      "\n",
      "     48/100      2.91G      1.185      1.039       1.36         19        640: 100%|██████████| 511/511 [00:41<00:00, 12.44it/s]\n",
      "                 Class     Images  Instances      Box(P          R      mAP50  mAP50-95): 100%|██████████| 18/18 [00:01<00:00, 14.40it/s]"
     ]
    },
    {
     "name": "stdout",
     "output_type": "stream",
     "text": [
      "                   all        559        581      0.846      0.836      0.892      0.586\n"
     ]
    },
    {
     "name": "stderr",
     "output_type": "stream",
     "text": [
      "\n"
     ]
    },
    {
     "name": "stdout",
     "output_type": "stream",
     "text": [
      "\n",
      "      Epoch    GPU_mem   box_loss   cls_loss   dfl_loss  Instances       Size\n"
     ]
    },
    {
     "name": "stderr",
     "output_type": "stream",
     "text": [
      "     49/100      2.92G      1.171       1.02      1.355         25        640: 100%|██████████| 511/511 [00:40<00:00, 12.46it/s]\n",
      "                 Class     Images  Instances      Box(P          R      mAP50  mAP50-95): 100%|██████████| 18/18 [00:01<00:00, 14.39it/s]"
     ]
    },
    {
     "name": "stdout",
     "output_type": "stream",
     "text": [
      "                   all        559        581      0.847      0.836      0.884       0.59\n"
     ]
    },
    {
     "name": "stderr",
     "output_type": "stream",
     "text": [
      "\n"
     ]
    },
    {
     "name": "stdout",
     "output_type": "stream",
     "text": [
      "\n",
      "      Epoch    GPU_mem   box_loss   cls_loss   dfl_loss  Instances       Size\n"
     ]
    },
    {
     "name": "stderr",
     "output_type": "stream",
     "text": [
      "     50/100      2.93G       1.17      1.028       1.35         29        640: 100%|██████████| 511/511 [00:41<00:00, 12.45it/s]\n",
      "                 Class     Images  Instances      Box(P          R      mAP50  mAP50-95): 100%|██████████| 18/18 [00:01<00:00, 14.47it/s]"
     ]
    },
    {
     "name": "stdout",
     "output_type": "stream",
     "text": [
      "                   all        559        581      0.851      0.846      0.899       0.59\n"
     ]
    },
    {
     "name": "stderr",
     "output_type": "stream",
     "text": [
      "\n"
     ]
    },
    {
     "name": "stdout",
     "output_type": "stream",
     "text": [
      "\n",
      "      Epoch    GPU_mem   box_loss   cls_loss   dfl_loss  Instances       Size\n"
     ]
    },
    {
     "name": "stderr",
     "output_type": "stream",
     "text": [
      "     51/100      2.95G       1.17      1.017      1.347         22        640: 100%|██████████| 511/511 [00:41<00:00, 12.46it/s]\n",
      "                 Class     Images  Instances      Box(P          R      mAP50  mAP50-95): 100%|██████████| 18/18 [00:01<00:00, 14.38it/s]"
     ]
    },
    {
     "name": "stdout",
     "output_type": "stream",
     "text": [
      "                   all        559        581      0.865      0.819      0.899      0.592\n"
     ]
    },
    {
     "name": "stderr",
     "output_type": "stream",
     "text": [
      "\n"
     ]
    },
    {
     "name": "stdout",
     "output_type": "stream",
     "text": [
      "\n",
      "      Epoch    GPU_mem   box_loss   cls_loss   dfl_loss  Instances       Size\n"
     ]
    },
    {
     "name": "stderr",
     "output_type": "stream",
     "text": [
      "     52/100      2.96G      1.166      1.008      1.343         19        640: 100%|██████████| 511/511 [00:41<00:00, 12.46it/s]\n",
      "                 Class     Images  Instances      Box(P          R      mAP50  mAP50-95): 100%|██████████| 18/18 [00:01<00:00, 14.28it/s]"
     ]
    },
    {
     "name": "stdout",
     "output_type": "stream",
     "text": [
      "                   all        559        581      0.856      0.846      0.902      0.597\n"
     ]
    },
    {
     "name": "stderr",
     "output_type": "stream",
     "text": [
      "\n"
     ]
    },
    {
     "name": "stdout",
     "output_type": "stream",
     "text": [
      "\n",
      "      Epoch    GPU_mem   box_loss   cls_loss   dfl_loss  Instances       Size\n"
     ]
    },
    {
     "name": "stderr",
     "output_type": "stream",
     "text": [
      "     53/100      2.97G      1.158      1.012       1.34         28        640: 100%|██████████| 511/511 [00:40<00:00, 12.47it/s]\n",
      "                 Class     Images  Instances      Box(P          R      mAP50  mAP50-95): 100%|██████████| 18/18 [00:01<00:00, 14.41it/s]"
     ]
    },
    {
     "name": "stdout",
     "output_type": "stream",
     "text": [
      "                   all        559        581      0.843      0.843      0.901      0.598\n"
     ]
    },
    {
     "name": "stderr",
     "output_type": "stream",
     "text": [
      "\n"
     ]
    },
    {
     "name": "stdout",
     "output_type": "stream",
     "text": [
      "\n",
      "      Epoch    GPU_mem   box_loss   cls_loss   dfl_loss  Instances       Size\n"
     ]
    },
    {
     "name": "stderr",
     "output_type": "stream",
     "text": [
      "     54/100      2.98G       1.15      1.003      1.333         26        640: 100%|██████████| 511/511 [00:41<00:00, 12.46it/s]\n",
      "                 Class     Images  Instances      Box(P          R      mAP50  mAP50-95): 100%|██████████| 18/18 [00:01<00:00, 14.34it/s]"
     ]
    },
    {
     "name": "stdout",
     "output_type": "stream",
     "text": [
      "                   all        559        581      0.866      0.849      0.906      0.599\n"
     ]
    },
    {
     "name": "stderr",
     "output_type": "stream",
     "text": [
      "\n"
     ]
    },
    {
     "name": "stdout",
     "output_type": "stream",
     "text": [
      "\n",
      "      Epoch    GPU_mem   box_loss   cls_loss   dfl_loss  Instances       Size\n"
     ]
    },
    {
     "name": "stderr",
     "output_type": "stream",
     "text": [
      "     55/100      2.99G      1.155      1.005      1.341         22        640: 100%|██████████| 511/511 [00:40<00:00, 12.47it/s]\n",
      "                 Class     Images  Instances      Box(P          R      mAP50  mAP50-95): 100%|██████████| 18/18 [00:01<00:00, 14.43it/s]"
     ]
    },
    {
     "name": "stdout",
     "output_type": "stream",
     "text": [
      "                   all        559        581      0.836      0.871      0.905      0.597\n",
      "\n",
      "      Epoch    GPU_mem   box_loss   cls_loss   dfl_loss  Instances       Size\n"
     ]
    },
    {
     "name": "stderr",
     "output_type": "stream",
     "text": [
      "\n",
      "     56/100         3G      1.138     0.9878      1.332         22        640: 100%|██████████| 511/511 [00:41<00:00, 12.46it/s]\n",
      "                 Class     Images  Instances      Box(P          R      mAP50  mAP50-95): 100%|██████████| 18/18 [00:01<00:00, 14.38it/s]"
     ]
    },
    {
     "name": "stdout",
     "output_type": "stream",
     "text": [
      "                   all        559        581      0.846      0.833      0.895      0.598\n",
      "\n",
      "      Epoch    GPU_mem   box_loss   cls_loss   dfl_loss  Instances       Size\n"
     ]
    },
    {
     "name": "stderr",
     "output_type": "stream",
     "text": [
      "\n",
      "     57/100      3.01G      1.128     0.9767      1.325         16        640: 100%|██████████| 511/511 [00:40<00:00, 12.47it/s]\n",
      "                 Class     Images  Instances      Box(P          R      mAP50  mAP50-95): 100%|██████████| 18/18 [00:01<00:00, 14.35it/s]"
     ]
    },
    {
     "name": "stdout",
     "output_type": "stream",
     "text": [
      "                   all        559        581      0.862      0.857        0.9        0.6\n"
     ]
    },
    {
     "name": "stderr",
     "output_type": "stream",
     "text": [
      "\n"
     ]
    },
    {
     "name": "stdout",
     "output_type": "stream",
     "text": [
      "\n",
      "      Epoch    GPU_mem   box_loss   cls_loss   dfl_loss  Instances       Size\n"
     ]
    },
    {
     "name": "stderr",
     "output_type": "stream",
     "text": [
      "     58/100      3.03G      1.127     0.9748       1.32         22        640: 100%|██████████| 511/511 [00:41<00:00, 12.46it/s]\n",
      "                 Class     Images  Instances      Box(P          R      mAP50  mAP50-95): 100%|██████████| 18/18 [00:01<00:00, 14.53it/s]"
     ]
    },
    {
     "name": "stdout",
     "output_type": "stream",
     "text": [
      "                   all        559        581      0.864      0.849      0.916      0.614\n"
     ]
    },
    {
     "name": "stderr",
     "output_type": "stream",
     "text": [
      "\n"
     ]
    },
    {
     "name": "stdout",
     "output_type": "stream",
     "text": [
      "\n",
      "      Epoch    GPU_mem   box_loss   cls_loss   dfl_loss  Instances       Size\n"
     ]
    },
    {
     "name": "stderr",
     "output_type": "stream",
     "text": [
      "     59/100      3.04G      1.128     0.9614      1.324         28        640: 100%|██████████| 511/511 [00:41<00:00, 12.46it/s]\n",
      "                 Class     Images  Instances      Box(P          R      mAP50  mAP50-95): 100%|██████████| 18/18 [00:01<00:00, 14.36it/s]"
     ]
    },
    {
     "name": "stdout",
     "output_type": "stream",
     "text": [
      "                   all        559        581      0.849      0.844      0.903      0.607\n",
      "\n",
      "      Epoch    GPU_mem   box_loss   cls_loss   dfl_loss  Instances       Size\n"
     ]
    },
    {
     "name": "stderr",
     "output_type": "stream",
     "text": [
      "\n",
      "     60/100      3.05G      1.135     0.9624      1.319         26        640: 100%|██████████| 511/511 [00:41<00:00, 12.46it/s]\n",
      "                 Class     Images  Instances      Box(P          R      mAP50  mAP50-95): 100%|██████████| 18/18 [00:01<00:00, 14.52it/s]"
     ]
    },
    {
     "name": "stdout",
     "output_type": "stream",
     "text": [
      "                   all        559        581       0.85      0.848      0.902      0.607\n",
      "\n",
      "      Epoch    GPU_mem   box_loss   cls_loss   dfl_loss  Instances       Size\n"
     ]
    },
    {
     "name": "stderr",
     "output_type": "stream",
     "text": [
      "\n",
      "     61/100      3.06G      1.121     0.9538      1.314         23        640: 100%|██████████| 511/511 [00:41<00:00, 12.45it/s]\n",
      "                 Class     Images  Instances      Box(P          R      mAP50  mAP50-95): 100%|██████████| 18/18 [00:01<00:00, 14.49it/s]"
     ]
    },
    {
     "name": "stdout",
     "output_type": "stream",
     "text": [
      "                   all        559        581      0.871      0.845      0.907      0.611\n",
      "\n",
      "      Epoch    GPU_mem   box_loss   cls_loss   dfl_loss  Instances       Size\n"
     ]
    },
    {
     "name": "stderr",
     "output_type": "stream",
     "text": [
      "\n",
      "     62/100      3.07G      1.109     0.9604      1.311         27        640: 100%|██████████| 511/511 [00:41<00:00, 12.45it/s]\n",
      "                 Class     Images  Instances      Box(P          R      mAP50  mAP50-95): 100%|██████████| 18/18 [00:01<00:00, 14.40it/s]"
     ]
    },
    {
     "name": "stdout",
     "output_type": "stream",
     "text": [
      "                   all        559        581      0.871      0.862      0.909      0.612\n",
      "\n",
      "      Epoch    GPU_mem   box_loss   cls_loss   dfl_loss  Instances       Size\n"
     ]
    },
    {
     "name": "stderr",
     "output_type": "stream",
     "text": [
      "\n",
      "     63/100      3.08G      1.109     0.9369      1.313         27        640: 100%|██████████| 511/511 [00:41<00:00, 12.46it/s]\n",
      "                 Class     Images  Instances      Box(P          R      mAP50  mAP50-95): 100%|██████████| 18/18 [00:01<00:00, 14.46it/s]"
     ]
    },
    {
     "name": "stdout",
     "output_type": "stream",
     "text": [
      "                   all        559        581       0.87      0.853       0.91      0.608\n",
      "\n",
      "      Epoch    GPU_mem   box_loss   cls_loss   dfl_loss  Instances       Size\n"
     ]
    },
    {
     "name": "stderr",
     "output_type": "stream",
     "text": [
      "\n",
      "     64/100      3.09G      1.106     0.9513      1.308         28        640: 100%|██████████| 511/511 [00:40<00:00, 12.47it/s]\n",
      "                 Class     Images  Instances      Box(P          R      mAP50  mAP50-95): 100%|██████████| 18/18 [00:01<00:00, 14.39it/s]"
     ]
    },
    {
     "name": "stdout",
     "output_type": "stream",
     "text": [
      "                   all        559        581      0.875      0.845      0.911      0.609\n",
      "\n",
      "      Epoch    GPU_mem   box_loss   cls_loss   dfl_loss  Instances       Size\n"
     ]
    },
    {
     "name": "stderr",
     "output_type": "stream",
     "text": [
      "\n",
      "     65/100      3.11G        1.1     0.9323      1.297         25        640: 100%|██████████| 511/511 [00:40<00:00, 12.47it/s]\n",
      "                 Class     Images  Instances      Box(P          R      mAP50  mAP50-95): 100%|██████████| 18/18 [00:01<00:00, 14.43it/s]"
     ]
    },
    {
     "name": "stdout",
     "output_type": "stream",
     "text": [
      "                   all        559        581      0.886      0.845      0.913      0.618\n"
     ]
    },
    {
     "name": "stderr",
     "output_type": "stream",
     "text": [
      "\n"
     ]
    },
    {
     "name": "stdout",
     "output_type": "stream",
     "text": [
      "\n",
      "      Epoch    GPU_mem   box_loss   cls_loss   dfl_loss  Instances       Size\n"
     ]
    },
    {
     "name": "stderr",
     "output_type": "stream",
     "text": [
      "     66/100      3.12G      1.102      0.935      1.299         26        640: 100%|██████████| 511/511 [00:41<00:00, 12.46it/s]\n",
      "                 Class     Images  Instances      Box(P          R      mAP50  mAP50-95): 100%|██████████| 18/18 [00:01<00:00, 14.38it/s]"
     ]
    },
    {
     "name": "stdout",
     "output_type": "stream",
     "text": [
      "                   all        559        581      0.893      0.849      0.912      0.618\n",
      "\n",
      "      Epoch    GPU_mem   box_loss   cls_loss   dfl_loss  Instances       Size\n"
     ]
    },
    {
     "name": "stderr",
     "output_type": "stream",
     "text": [
      "\n",
      "     67/100      3.13G      1.083     0.9247      1.297         26        640: 100%|██████████| 511/511 [00:41<00:00, 12.46it/s]\n",
      "                 Class     Images  Instances      Box(P          R      mAP50  mAP50-95): 100%|██████████| 18/18 [00:01<00:00, 14.37it/s]"
     ]
    },
    {
     "name": "stdout",
     "output_type": "stream",
     "text": [
      "                   all        559        581      0.884      0.861      0.916      0.618\n"
     ]
    },
    {
     "name": "stderr",
     "output_type": "stream",
     "text": [
      "\n"
     ]
    },
    {
     "name": "stdout",
     "output_type": "stream",
     "text": [
      "\n",
      "      Epoch    GPU_mem   box_loss   cls_loss   dfl_loss  Instances       Size\n"
     ]
    },
    {
     "name": "stderr",
     "output_type": "stream",
     "text": [
      "     68/100      3.14G      1.082     0.9179      1.293         27        640: 100%|██████████| 511/511 [00:41<00:00, 12.46it/s]\n",
      "                 Class     Images  Instances      Box(P          R      mAP50  mAP50-95): 100%|██████████| 18/18 [00:01<00:00, 14.37it/s]"
     ]
    },
    {
     "name": "stdout",
     "output_type": "stream",
     "text": [
      "                   all        559        581      0.877      0.854      0.915       0.61\n",
      "\n",
      "      Epoch    GPU_mem   box_loss   cls_loss   dfl_loss  Instances       Size\n"
     ]
    },
    {
     "name": "stderr",
     "output_type": "stream",
     "text": [
      "\n",
      "     69/100      3.15G      1.079     0.9106      1.292         32        640: 100%|██████████| 511/511 [00:40<00:00, 12.48it/s]\n",
      "                 Class     Images  Instances      Box(P          R      mAP50  mAP50-95): 100%|██████████| 18/18 [00:01<00:00, 14.40it/s]"
     ]
    },
    {
     "name": "stdout",
     "output_type": "stream",
     "text": [
      "                   all        559        581      0.884      0.838      0.906      0.611\n",
      "\n",
      "      Epoch    GPU_mem   box_loss   cls_loss   dfl_loss  Instances       Size\n"
     ]
    },
    {
     "name": "stderr",
     "output_type": "stream",
     "text": [
      "\n",
      "     70/100      3.16G      1.074     0.8991      1.284         26        640: 100%|██████████| 511/511 [00:41<00:00, 12.46it/s]\n",
      "                 Class     Images  Instances      Box(P          R      mAP50  mAP50-95): 100%|██████████| 18/18 [00:01<00:00, 14.57it/s]"
     ]
    },
    {
     "name": "stdout",
     "output_type": "stream",
     "text": [
      "                   all        559        581      0.886      0.849      0.909      0.617\n",
      "\n",
      "      Epoch    GPU_mem   box_loss   cls_loss   dfl_loss  Instances       Size\n"
     ]
    },
    {
     "name": "stderr",
     "output_type": "stream",
     "text": [
      "\n",
      "     71/100      3.17G       1.07     0.9007      1.287         22        640: 100%|██████████| 511/511 [00:41<00:00, 12.45it/s]\n",
      "                 Class     Images  Instances      Box(P          R      mAP50  mAP50-95): 100%|██████████| 18/18 [00:01<00:00, 14.36it/s]"
     ]
    },
    {
     "name": "stdout",
     "output_type": "stream",
     "text": [
      "                   all        559        581      0.883      0.846      0.908      0.611\n",
      "\n",
      "      Epoch    GPU_mem   box_loss   cls_loss   dfl_loss  Instances       Size\n"
     ]
    },
    {
     "name": "stderr",
     "output_type": "stream",
     "text": [
      "\n",
      "     72/100      3.19G      1.063     0.9067      1.282         24        640: 100%|██████████| 511/511 [00:41<00:00, 12.46it/s]\n",
      "                 Class     Images  Instances      Box(P          R      mAP50  mAP50-95): 100%|██████████| 18/18 [00:01<00:00, 14.46it/s]"
     ]
    },
    {
     "name": "stdout",
     "output_type": "stream",
     "text": [
      "                   all        559        581      0.885      0.855      0.908      0.618\n",
      "\n",
      "      Epoch    GPU_mem   box_loss   cls_loss   dfl_loss  Instances       Size\n"
     ]
    },
    {
     "name": "stderr",
     "output_type": "stream",
     "text": [
      "\n",
      "     73/100       3.2G      1.059     0.8998      1.278         28        640: 100%|██████████| 511/511 [00:40<00:00, 12.47it/s]\n",
      "                 Class     Images  Instances      Box(P          R      mAP50  mAP50-95): 100%|██████████| 18/18 [00:01<00:00, 14.41it/s]"
     ]
    },
    {
     "name": "stdout",
     "output_type": "stream",
     "text": [
      "                   all        559        581      0.873      0.862      0.902      0.618\n",
      "\n",
      "      Epoch    GPU_mem   box_loss   cls_loss   dfl_loss  Instances       Size\n"
     ]
    },
    {
     "name": "stderr",
     "output_type": "stream",
     "text": [
      "\n",
      "     74/100      3.21G      1.053     0.8876      1.272         20        640: 100%|██████████| 511/511 [00:41<00:00, 12.45it/s]\n",
      "                 Class     Images  Instances      Box(P          R      mAP50  mAP50-95): 100%|██████████| 18/18 [00:01<00:00, 14.46it/s]"
     ]
    },
    {
     "name": "stdout",
     "output_type": "stream",
     "text": [
      "                   all        559        581       0.88      0.857      0.907      0.621\n"
     ]
    },
    {
     "name": "stderr",
     "output_type": "stream",
     "text": [
      "\n"
     ]
    },
    {
     "name": "stdout",
     "output_type": "stream",
     "text": [
      "\n",
      "      Epoch    GPU_mem   box_loss   cls_loss   dfl_loss  Instances       Size\n"
     ]
    },
    {
     "name": "stderr",
     "output_type": "stream",
     "text": [
      "     75/100      3.22G      1.056      0.887      1.276         19        640: 100%|██████████| 511/511 [00:40<00:00, 12.47it/s]\n",
      "                 Class     Images  Instances      Box(P          R      mAP50  mAP50-95): 100%|██████████| 18/18 [00:01<00:00, 14.41it/s]"
     ]
    },
    {
     "name": "stdout",
     "output_type": "stream",
     "text": [
      "                   all        559        581      0.877      0.852      0.906      0.628\n"
     ]
    },
    {
     "name": "stderr",
     "output_type": "stream",
     "text": [
      "\n"
     ]
    },
    {
     "name": "stdout",
     "output_type": "stream",
     "text": [
      "\n",
      "      Epoch    GPU_mem   box_loss   cls_loss   dfl_loss  Instances       Size\n"
     ]
    },
    {
     "name": "stderr",
     "output_type": "stream",
     "text": [
      "     76/100      3.23G      1.048     0.8694      1.267         21        640: 100%|██████████| 511/511 [00:40<00:00, 12.49it/s]\n",
      "                 Class     Images  Instances      Box(P          R      mAP50  mAP50-95): 100%|██████████| 18/18 [00:01<00:00, 14.57it/s]"
     ]
    },
    {
     "name": "stdout",
     "output_type": "stream",
     "text": [
      "                   all        559        581      0.884      0.855      0.907      0.626\n",
      "\n",
      "      Epoch    GPU_mem   box_loss   cls_loss   dfl_loss  Instances       Size\n"
     ]
    },
    {
     "name": "stderr",
     "output_type": "stream",
     "text": [
      "\n",
      "     77/100      3.24G      1.045     0.8788      1.272         23        640: 100%|██████████| 511/511 [00:40<00:00, 12.47it/s]\n",
      "                 Class     Images  Instances      Box(P          R      mAP50  mAP50-95): 100%|██████████| 18/18 [00:01<00:00, 14.55it/s]"
     ]
    },
    {
     "name": "stdout",
     "output_type": "stream",
     "text": [
      "                   all        559        581      0.866      0.856       0.91       0.63\n"
     ]
    },
    {
     "name": "stderr",
     "output_type": "stream",
     "text": [
      "\n"
     ]
    },
    {
     "name": "stdout",
     "output_type": "stream",
     "text": [
      "\n",
      "      Epoch    GPU_mem   box_loss   cls_loss   dfl_loss  Instances       Size\n"
     ]
    },
    {
     "name": "stderr",
     "output_type": "stream",
     "text": [
      "     78/100      3.25G      1.033     0.8588      1.262         26        640: 100%|██████████| 511/511 [00:41<00:00, 12.46it/s]\n",
      "                 Class     Images  Instances      Box(P          R      mAP50  mAP50-95): 100%|██████████| 18/18 [00:01<00:00, 14.42it/s]"
     ]
    },
    {
     "name": "stdout",
     "output_type": "stream",
     "text": [
      "                   all        559        581      0.871      0.858      0.906       0.63\n",
      "\n",
      "      Epoch    GPU_mem   box_loss   cls_loss   dfl_loss  Instances       Size\n"
     ]
    },
    {
     "name": "stderr",
     "output_type": "stream",
     "text": [
      "\n",
      "     79/100      3.27G      1.035     0.8645      1.264         22        640: 100%|██████████| 511/511 [00:40<00:00, 12.46it/s]\n",
      "                 Class     Images  Instances      Box(P          R      mAP50  mAP50-95): 100%|██████████| 18/18 [00:01<00:00, 14.40it/s]"
     ]
    },
    {
     "name": "stdout",
     "output_type": "stream",
     "text": [
      "                   all        559        581       0.87      0.854      0.907      0.631\n"
     ]
    },
    {
     "name": "stderr",
     "output_type": "stream",
     "text": [
      "\n"
     ]
    },
    {
     "name": "stdout",
     "output_type": "stream",
     "text": [
      "\n",
      "      Epoch    GPU_mem   box_loss   cls_loss   dfl_loss  Instances       Size\n"
     ]
    },
    {
     "name": "stderr",
     "output_type": "stream",
     "text": [
      "     80/100      3.28G      1.032     0.8663      1.259         21        640: 100%|██████████| 511/511 [00:41<00:00, 12.45it/s]\n",
      "                 Class     Images  Instances      Box(P          R      mAP50  mAP50-95): 100%|██████████| 18/18 [00:01<00:00, 14.39it/s]"
     ]
    },
    {
     "name": "stdout",
     "output_type": "stream",
     "text": [
      "                   all        559        581       0.87      0.861      0.903      0.625\n",
      "\n",
      "      Epoch    GPU_mem   box_loss   cls_loss   dfl_loss  Instances       Size\n"
     ]
    },
    {
     "name": "stderr",
     "output_type": "stream",
     "text": [
      "\n",
      "     81/100      3.29G       1.02     0.8537       1.25         29        640: 100%|██████████| 511/511 [00:41<00:00, 12.46it/s]\n",
      "                 Class     Images  Instances      Box(P          R      mAP50  mAP50-95): 100%|██████████| 18/18 [00:01<00:00, 14.39it/s]"
     ]
    },
    {
     "name": "stdout",
     "output_type": "stream",
     "text": [
      "                   all        559        581      0.876      0.849      0.906       0.63\n",
      "\n",
      "      Epoch    GPU_mem   box_loss   cls_loss   dfl_loss  Instances       Size\n"
     ]
    },
    {
     "name": "stderr",
     "output_type": "stream",
     "text": [
      "\n",
      "     82/100       3.3G      1.014     0.8437      1.242         22        640: 100%|██████████| 511/511 [00:41<00:00, 12.45it/s]\n",
      "                 Class     Images  Instances      Box(P          R      mAP50  mAP50-95): 100%|██████████| 18/18 [00:01<00:00, 14.36it/s]"
     ]
    },
    {
     "name": "stdout",
     "output_type": "stream",
     "text": [
      "                   all        559        581      0.883      0.845      0.908      0.633\n"
     ]
    },
    {
     "name": "stderr",
     "output_type": "stream",
     "text": [
      "\n"
     ]
    },
    {
     "name": "stdout",
     "output_type": "stream",
     "text": [
      "\n",
      "      Epoch    GPU_mem   box_loss   cls_loss   dfl_loss  Instances       Size\n"
     ]
    },
    {
     "name": "stderr",
     "output_type": "stream",
     "text": [
      "     83/100      3.31G      1.013     0.8497      1.249         22        640: 100%|██████████| 511/511 [00:41<00:00, 12.45it/s]\n",
      "                 Class     Images  Instances      Box(P          R      mAP50  mAP50-95): 100%|██████████| 18/18 [00:01<00:00, 14.52it/s]"
     ]
    },
    {
     "name": "stdout",
     "output_type": "stream",
     "text": [
      "                   all        559        581      0.868      0.847      0.907      0.632\n",
      "\n",
      "      Epoch    GPU_mem   box_loss   cls_loss   dfl_loss  Instances       Size\n"
     ]
    },
    {
     "name": "stderr",
     "output_type": "stream",
     "text": [
      "\n",
      "     84/100      3.32G      1.005     0.8389      1.239         23        640: 100%|██████████| 511/511 [00:41<00:00, 12.43it/s]\n",
      "                 Class     Images  Instances      Box(P          R      mAP50  mAP50-95): 100%|██████████| 18/18 [00:01<00:00, 14.40it/s]"
     ]
    },
    {
     "name": "stdout",
     "output_type": "stream",
     "text": [
      "                   all        559        581      0.885      0.849      0.906      0.632\n",
      "\n",
      "      Epoch    GPU_mem   box_loss   cls_loss   dfl_loss  Instances       Size\n"
     ]
    },
    {
     "name": "stderr",
     "output_type": "stream",
     "text": [
      "\n",
      "     85/100      3.33G      1.003     0.8408      1.241         28        640: 100%|██████████| 511/511 [00:41<00:00, 12.44it/s]\n",
      "                 Class     Images  Instances      Box(P          R      mAP50  mAP50-95): 100%|██████████| 18/18 [00:01<00:00, 14.48it/s]"
     ]
    },
    {
     "name": "stdout",
     "output_type": "stream",
     "text": [
      "                   all        559        581      0.876      0.853      0.909      0.633\n"
     ]
    },
    {
     "name": "stderr",
     "output_type": "stream",
     "text": [
      "\n"
     ]
    },
    {
     "name": "stdout",
     "output_type": "stream",
     "text": [
      "\n",
      "      Epoch    GPU_mem   box_loss   cls_loss   dfl_loss  Instances       Size\n"
     ]
    },
    {
     "name": "stderr",
     "output_type": "stream",
     "text": [
      "     86/100      3.35G     0.9984     0.8308      1.239         14        640: 100%|██████████| 511/511 [00:41<00:00, 12.43it/s]\n",
      "                 Class     Images  Instances      Box(P          R      mAP50  mAP50-95): 100%|██████████| 18/18 [00:01<00:00, 14.50it/s]"
     ]
    },
    {
     "name": "stdout",
     "output_type": "stream",
     "text": [
      "                   all        559        581      0.878      0.847      0.907      0.634\n"
     ]
    },
    {
     "name": "stderr",
     "output_type": "stream",
     "text": [
      "\n"
     ]
    },
    {
     "name": "stdout",
     "output_type": "stream",
     "text": [
      "\n",
      "      Epoch    GPU_mem   box_loss   cls_loss   dfl_loss  Instances       Size\n"
     ]
    },
    {
     "name": "stderr",
     "output_type": "stream",
     "text": [
      "     87/100      3.36G     0.9962     0.8357      1.233         25        640: 100%|██████████| 511/511 [00:41<00:00, 12.43it/s]\n",
      "                 Class     Images  Instances      Box(P          R      mAP50  mAP50-95): 100%|██████████| 18/18 [00:01<00:00, 14.59it/s]"
     ]
    },
    {
     "name": "stdout",
     "output_type": "stream",
     "text": [
      "                   all        559        581      0.864      0.862      0.911      0.634\n"
     ]
    },
    {
     "name": "stderr",
     "output_type": "stream",
     "text": [
      "\n"
     ]
    },
    {
     "name": "stdout",
     "output_type": "stream",
     "text": [
      "\n",
      "      Epoch    GPU_mem   box_loss   cls_loss   dfl_loss  Instances       Size\n"
     ]
    },
    {
     "name": "stderr",
     "output_type": "stream",
     "text": [
      "     88/100      3.37G     0.9897      0.823      1.237         32        640: 100%|██████████| 511/511 [00:41<00:00, 12.44it/s]\n",
      "                 Class     Images  Instances      Box(P          R      mAP50  mAP50-95): 100%|██████████| 18/18 [00:01<00:00, 14.48it/s]"
     ]
    },
    {
     "name": "stdout",
     "output_type": "stream",
     "text": [
      "                   all        559        581      0.876      0.855      0.914      0.636\n"
     ]
    },
    {
     "name": "stderr",
     "output_type": "stream",
     "text": [
      "\n"
     ]
    },
    {
     "name": "stdout",
     "output_type": "stream",
     "text": [
      "\n",
      "      Epoch    GPU_mem   box_loss   cls_loss   dfl_loss  Instances       Size\n"
     ]
    },
    {
     "name": "stderr",
     "output_type": "stream",
     "text": [
      "     89/100      3.38G     0.9907     0.8231      1.231         21        640: 100%|██████████| 511/511 [00:41<00:00, 12.45it/s]\n",
      "                 Class     Images  Instances      Box(P          R      mAP50  mAP50-95): 100%|██████████| 18/18 [00:01<00:00, 14.35it/s]"
     ]
    },
    {
     "name": "stdout",
     "output_type": "stream",
     "text": [
      "                   all        559        581      0.886       0.84      0.914      0.635\n",
      "\n",
      "      Epoch    GPU_mem   box_loss   cls_loss   dfl_loss  Instances       Size\n"
     ]
    },
    {
     "name": "stderr",
     "output_type": "stream",
     "text": [
      "\n",
      "     90/100      3.39G     0.9813     0.8138      1.231         21        640: 100%|██████████| 511/511 [00:41<00:00, 12.42it/s]\n",
      "                 Class     Images  Instances      Box(P          R      mAP50  mAP50-95): 100%|██████████| 18/18 [00:01<00:00, 14.42it/s]"
     ]
    },
    {
     "name": "stdout",
     "output_type": "stream",
     "text": [
      "                   all        559        581      0.884      0.843      0.912      0.634\n",
      "Closing dataloader mosaic\n"
     ]
    },
    {
     "name": "stderr",
     "output_type": "stream",
     "text": [
      "\n"
     ]
    },
    {
     "name": "stdout",
     "output_type": "stream",
     "text": [
      "\n",
      "      Epoch    GPU_mem   box_loss   cls_loss   dfl_loss  Instances       Size\n"
     ]
    },
    {
     "name": "stderr",
     "output_type": "stream",
     "text": [
      "     91/100       3.4G     0.8996     0.6193      1.215         13        640: 100%|██████████| 511/511 [00:41<00:00, 12.45it/s]\n",
      "                 Class     Images  Instances      Box(P          R      mAP50  mAP50-95): 100%|██████████| 18/18 [00:01<00:00, 14.18it/s]"
     ]
    },
    {
     "name": "stdout",
     "output_type": "stream",
     "text": [
      "                   all        559        581      0.868      0.864      0.912      0.636\n",
      "\n",
      "      Epoch    GPU_mem   box_loss   cls_loss   dfl_loss  Instances       Size\n"
     ]
    },
    {
     "name": "stderr",
     "output_type": "stream",
     "text": [
      "\n",
      "     92/100      3.42G     0.8807     0.6067        1.2         12        640: 100%|██████████| 511/511 [00:40<00:00, 12.50it/s]\n",
      "                 Class     Images  Instances      Box(P          R      mAP50  mAP50-95): 100%|██████████| 18/18 [00:01<00:00, 14.33it/s]"
     ]
    },
    {
     "name": "stdout",
     "output_type": "stream",
     "text": [
      "                   all        559        581      0.872      0.855      0.911      0.637\n"
     ]
    },
    {
     "name": "stderr",
     "output_type": "stream",
     "text": [
      "\n"
     ]
    },
    {
     "name": "stdout",
     "output_type": "stream",
     "text": [
      "\n",
      "      Epoch    GPU_mem   box_loss   cls_loss   dfl_loss  Instances       Size\n"
     ]
    },
    {
     "name": "stderr",
     "output_type": "stream",
     "text": [
      "     93/100      3.43G     0.8715      0.596      1.198         12        640: 100%|██████████| 511/511 [00:40<00:00, 12.50it/s]\n",
      "                 Class     Images  Instances      Box(P          R      mAP50  mAP50-95): 100%|██████████| 18/18 [00:01<00:00, 14.51it/s]"
     ]
    },
    {
     "name": "stdout",
     "output_type": "stream",
     "text": [
      "                   all        559        581      0.887      0.842      0.911      0.638\n"
     ]
    },
    {
     "name": "stderr",
     "output_type": "stream",
     "text": [
      "\n"
     ]
    },
    {
     "name": "stdout",
     "output_type": "stream",
     "text": [
      "\n",
      "      Epoch    GPU_mem   box_loss   cls_loss   dfl_loss  Instances       Size\n"
     ]
    },
    {
     "name": "stderr",
     "output_type": "stream",
     "text": [
      "     94/100      3.44G     0.8566     0.5858      1.185         11        640: 100%|██████████| 511/511 [00:40<00:00, 12.50it/s]\n",
      "                 Class     Images  Instances      Box(P          R      mAP50  mAP50-95): 100%|██████████| 18/18 [00:01<00:00, 14.53it/s]"
     ]
    },
    {
     "name": "stdout",
     "output_type": "stream",
     "text": [
      "                   all        559        581      0.886       0.84      0.911       0.64\n"
     ]
    },
    {
     "name": "stderr",
     "output_type": "stream",
     "text": [
      "\n"
     ]
    },
    {
     "name": "stdout",
     "output_type": "stream",
     "text": [
      "\n",
      "      Epoch    GPU_mem   box_loss   cls_loss   dfl_loss  Instances       Size\n"
     ]
    },
    {
     "name": "stderr",
     "output_type": "stream",
     "text": [
      "     95/100      3.45G     0.8548     0.5841      1.183         13        640: 100%|██████████| 511/511 [00:40<00:00, 12.48it/s]\n",
      "                 Class     Images  Instances      Box(P          R      mAP50  mAP50-95): 100%|██████████| 18/18 [00:01<00:00, 14.50it/s]"
     ]
    },
    {
     "name": "stdout",
     "output_type": "stream",
     "text": [
      "                   all        559        581      0.876       0.84      0.912      0.641\n"
     ]
    },
    {
     "name": "stderr",
     "output_type": "stream",
     "text": [
      "\n"
     ]
    },
    {
     "name": "stdout",
     "output_type": "stream",
     "text": [
      "\n",
      "      Epoch    GPU_mem   box_loss   cls_loss   dfl_loss  Instances       Size\n"
     ]
    },
    {
     "name": "stderr",
     "output_type": "stream",
     "text": [
      "     96/100      3.46G     0.8457     0.5813      1.181         13        640: 100%|██████████| 511/511 [00:40<00:00, 12.49it/s]\n",
      "                 Class     Images  Instances      Box(P          R      mAP50  mAP50-95): 100%|██████████| 18/18 [00:01<00:00, 14.37it/s]"
     ]
    },
    {
     "name": "stdout",
     "output_type": "stream",
     "text": [
      "                   all        559        581      0.867      0.849      0.906      0.639\n",
      "\n",
      "      Epoch    GPU_mem   box_loss   cls_loss   dfl_loss  Instances       Size\n"
     ]
    },
    {
     "name": "stderr",
     "output_type": "stream",
     "text": [
      "\n",
      "     97/100      3.47G     0.8362     0.5732       1.17         12        640: 100%|██████████| 511/511 [00:40<00:00, 12.49it/s]\n",
      "                 Class     Images  Instances      Box(P          R      mAP50  mAP50-95): 100%|██████████| 18/18 [00:01<00:00, 14.43it/s]"
     ]
    },
    {
     "name": "stdout",
     "output_type": "stream",
     "text": [
      "                   all        559        581      0.866      0.854      0.906      0.638\n"
     ]
    },
    {
     "name": "stderr",
     "output_type": "stream",
     "text": [
      "\n"
     ]
    },
    {
     "name": "stdout",
     "output_type": "stream",
     "text": [
      "\n",
      "      Epoch    GPU_mem   box_loss   cls_loss   dfl_loss  Instances       Size\n"
     ]
    },
    {
     "name": "stderr",
     "output_type": "stream",
     "text": [
      "     98/100      3.48G     0.8282     0.5704      1.163         12        640: 100%|██████████| 511/511 [00:40<00:00, 12.50it/s]\n",
      "                 Class     Images  Instances      Box(P          R      mAP50  mAP50-95): 100%|██████████| 18/18 [00:01<00:00, 14.47it/s]"
     ]
    },
    {
     "name": "stdout",
     "output_type": "stream",
     "text": [
      "                   all        559        581      0.866      0.856      0.906      0.639\n",
      "\n",
      "      Epoch    GPU_mem   box_loss   cls_loss   dfl_loss  Instances       Size\n"
     ]
    },
    {
     "name": "stderr",
     "output_type": "stream",
     "text": [
      "\n",
      "     99/100       3.5G     0.8251      0.569      1.169         12        640: 100%|██████████| 511/511 [00:40<00:00, 12.49it/s]\n",
      "                 Class     Images  Instances      Box(P          R      mAP50  mAP50-95): 100%|██████████| 18/18 [00:01<00:00, 14.55it/s]"
     ]
    },
    {
     "name": "stdout",
     "output_type": "stream",
     "text": [
      "                   all        559        581      0.878      0.854      0.907      0.643\n"
     ]
    },
    {
     "name": "stderr",
     "output_type": "stream",
     "text": [
      "\n"
     ]
    },
    {
     "name": "stdout",
     "output_type": "stream",
     "text": [
      "\n",
      "      Epoch    GPU_mem   box_loss   cls_loss   dfl_loss  Instances       Size\n"
     ]
    },
    {
     "name": "stderr",
     "output_type": "stream",
     "text": [
      "    100/100      3.51G     0.8181     0.5637      1.161         12        640: 100%|██████████| 511/511 [00:40<00:00, 12.49it/s]\n",
      "                 Class     Images  Instances      Box(P          R      mAP50  mAP50-95): 100%|██████████| 18/18 [00:01<00:00, 14.53it/s]"
     ]
    },
    {
     "name": "stdout",
     "output_type": "stream",
     "text": [
      "                   all        559        581      0.873      0.859      0.908      0.641\n",
      "\n",
      "100 epochs completed in 1.171 hours.\n"
     ]
    },
    {
     "name": "stderr",
     "output_type": "stream",
     "text": [
      "\n"
     ]
    },
    {
     "name": "stdout",
     "output_type": "stream",
     "text": [
      "Optimizer stripped from runs/knife-v13/weights/last.pt, 6.3MB\n",
      "Optimizer stripped from runs/knife-v13/weights/best.pt, 6.3MB\n",
      "\n",
      "Validating runs/knife-v13/weights/best.pt...\n",
      "Ultralytics 8.3.96 🚀 Python-3.10.16 torch-2.6.0+cu124 CUDA:0 (NVIDIA RTX A4000, 16106MiB)\n",
      "Model summary (fused): 72 layers, 3,005,843 parameters, 0 gradients, 8.1 GFLOPs\n"
     ]
    },
    {
     "name": "stderr",
     "output_type": "stream",
     "text": [
      "                 Class     Images  Instances      Box(P          R      mAP50  mAP50-95): 100%|██████████| 18/18 [00:01<00:00, 12.47it/s]\n"
     ]
    },
    {
     "name": "stdout",
     "output_type": "stream",
     "text": [
      "                   all        559        581      0.871       0.86      0.907      0.643\n",
      "Speed: 0.1ms preprocess, 1.1ms inference, 0.0ms loss, 0.4ms postprocess per image\n",
      "Results saved to \u001b[1mruns/knife-v13\u001b[0m\n"
     ]
    },
    {
     "data": {
      "text/plain": [
       "ultralytics.utils.metrics.DetMetrics object with attributes:\n",
       "\n",
       "ap_class_index: array([0])\n",
       "box: ultralytics.utils.metrics.Metric object\n",
       "confusion_matrix: <ultralytics.utils.metrics.ConfusionMatrix object at 0x7f6d52ac9690>\n",
       "curves: ['Precision-Recall(B)', 'F1-Confidence(B)', 'Precision-Confidence(B)', 'Recall-Confidence(B)']\n",
       "curves_results: [[array([          0,    0.001001,    0.002002,    0.003003,    0.004004,    0.005005,    0.006006,    0.007007,    0.008008,    0.009009,     0.01001,    0.011011,    0.012012,    0.013013,    0.014014,    0.015015,    0.016016,    0.017017,    0.018018,    0.019019,     0.02002,    0.021021,    0.022022,    0.023023,\n",
       "          0.024024,    0.025025,    0.026026,    0.027027,    0.028028,    0.029029,     0.03003,    0.031031,    0.032032,    0.033033,    0.034034,    0.035035,    0.036036,    0.037037,    0.038038,    0.039039,     0.04004,    0.041041,    0.042042,    0.043043,    0.044044,    0.045045,    0.046046,    0.047047,\n",
       "          0.048048,    0.049049,     0.05005,    0.051051,    0.052052,    0.053053,    0.054054,    0.055055,    0.056056,    0.057057,    0.058058,    0.059059,     0.06006,    0.061061,    0.062062,    0.063063,    0.064064,    0.065065,    0.066066,    0.067067,    0.068068,    0.069069,     0.07007,    0.071071,\n",
       "          0.072072,    0.073073,    0.074074,    0.075075,    0.076076,    0.077077,    0.078078,    0.079079,     0.08008,    0.081081,    0.082082,    0.083083,    0.084084,    0.085085,    0.086086,    0.087087,    0.088088,    0.089089,     0.09009,    0.091091,    0.092092,    0.093093,    0.094094,    0.095095,\n",
       "          0.096096,    0.097097,    0.098098,    0.099099,      0.1001,      0.1011,      0.1021,      0.1031,      0.1041,     0.10511,     0.10611,     0.10711,     0.10811,     0.10911,     0.11011,     0.11111,     0.11211,     0.11311,     0.11411,     0.11512,     0.11612,     0.11712,     0.11812,     0.11912,\n",
       "           0.12012,     0.12112,     0.12212,     0.12312,     0.12412,     0.12513,     0.12613,     0.12713,     0.12813,     0.12913,     0.13013,     0.13113,     0.13213,     0.13313,     0.13413,     0.13514,     0.13614,     0.13714,     0.13814,     0.13914,     0.14014,     0.14114,     0.14214,     0.14314,\n",
       "           0.14414,     0.14515,     0.14615,     0.14715,     0.14815,     0.14915,     0.15015,     0.15115,     0.15215,     0.15315,     0.15415,     0.15516,     0.15616,     0.15716,     0.15816,     0.15916,     0.16016,     0.16116,     0.16216,     0.16316,     0.16416,     0.16517,     0.16617,     0.16717,\n",
       "           0.16817,     0.16917,     0.17017,     0.17117,     0.17217,     0.17317,     0.17417,     0.17518,     0.17618,     0.17718,     0.17818,     0.17918,     0.18018,     0.18118,     0.18218,     0.18318,     0.18418,     0.18519,     0.18619,     0.18719,     0.18819,     0.18919,     0.19019,     0.19119,\n",
       "           0.19219,     0.19319,     0.19419,      0.1952,      0.1962,      0.1972,      0.1982,      0.1992,      0.2002,      0.2012,      0.2022,      0.2032,      0.2042,     0.20521,     0.20621,     0.20721,     0.20821,     0.20921,     0.21021,     0.21121,     0.21221,     0.21321,     0.21421,     0.21522,\n",
       "           0.21622,     0.21722,     0.21822,     0.21922,     0.22022,     0.22122,     0.22222,     0.22322,     0.22422,     0.22523,     0.22623,     0.22723,     0.22823,     0.22923,     0.23023,     0.23123,     0.23223,     0.23323,     0.23423,     0.23524,     0.23624,     0.23724,     0.23824,     0.23924,\n",
       "           0.24024,     0.24124,     0.24224,     0.24324,     0.24424,     0.24525,     0.24625,     0.24725,     0.24825,     0.24925,     0.25025,     0.25125,     0.25225,     0.25325,     0.25425,     0.25526,     0.25626,     0.25726,     0.25826,     0.25926,     0.26026,     0.26126,     0.26226,     0.26326,\n",
       "           0.26426,     0.26527,     0.26627,     0.26727,     0.26827,     0.26927,     0.27027,     0.27127,     0.27227,     0.27327,     0.27427,     0.27528,     0.27628,     0.27728,     0.27828,     0.27928,     0.28028,     0.28128,     0.28228,     0.28328,     0.28428,     0.28529,     0.28629,     0.28729,\n",
       "           0.28829,     0.28929,     0.29029,     0.29129,     0.29229,     0.29329,     0.29429,      0.2953,      0.2963,      0.2973,      0.2983,      0.2993,      0.3003,      0.3013,      0.3023,      0.3033,      0.3043,     0.30531,     0.30631,     0.30731,     0.30831,     0.30931,     0.31031,     0.31131,\n",
       "           0.31231,     0.31331,     0.31431,     0.31532,     0.31632,     0.31732,     0.31832,     0.31932,     0.32032,     0.32132,     0.32232,     0.32332,     0.32432,     0.32533,     0.32633,     0.32733,     0.32833,     0.32933,     0.33033,     0.33133,     0.33233,     0.33333,     0.33433,     0.33534,\n",
       "           0.33634,     0.33734,     0.33834,     0.33934,     0.34034,     0.34134,     0.34234,     0.34334,     0.34434,     0.34535,     0.34635,     0.34735,     0.34835,     0.34935,     0.35035,     0.35135,     0.35235,     0.35335,     0.35435,     0.35536,     0.35636,     0.35736,     0.35836,     0.35936,\n",
       "           0.36036,     0.36136,     0.36236,     0.36336,     0.36436,     0.36537,     0.36637,     0.36737,     0.36837,     0.36937,     0.37037,     0.37137,     0.37237,     0.37337,     0.37437,     0.37538,     0.37638,     0.37738,     0.37838,     0.37938,     0.38038,     0.38138,     0.38238,     0.38338,\n",
       "           0.38438,     0.38539,     0.38639,     0.38739,     0.38839,     0.38939,     0.39039,     0.39139,     0.39239,     0.39339,     0.39439,      0.3954,      0.3964,      0.3974,      0.3984,      0.3994,      0.4004,      0.4014,      0.4024,      0.4034,      0.4044,     0.40541,     0.40641,     0.40741,\n",
       "           0.40841,     0.40941,     0.41041,     0.41141,     0.41241,     0.41341,     0.41441,     0.41542,     0.41642,     0.41742,     0.41842,     0.41942,     0.42042,     0.42142,     0.42242,     0.42342,     0.42442,     0.42543,     0.42643,     0.42743,     0.42843,     0.42943,     0.43043,     0.43143,\n",
       "           0.43243,     0.43343,     0.43443,     0.43544,     0.43644,     0.43744,     0.43844,     0.43944,     0.44044,     0.44144,     0.44244,     0.44344,     0.44444,     0.44545,     0.44645,     0.44745,     0.44845,     0.44945,     0.45045,     0.45145,     0.45245,     0.45345,     0.45445,     0.45546,\n",
       "           0.45646,     0.45746,     0.45846,     0.45946,     0.46046,     0.46146,     0.46246,     0.46346,     0.46446,     0.46547,     0.46647,     0.46747,     0.46847,     0.46947,     0.47047,     0.47147,     0.47247,     0.47347,     0.47447,     0.47548,     0.47648,     0.47748,     0.47848,     0.47948,\n",
       "           0.48048,     0.48148,     0.48248,     0.48348,     0.48448,     0.48549,     0.48649,     0.48749,     0.48849,     0.48949,     0.49049,     0.49149,     0.49249,     0.49349,     0.49449,      0.4955,      0.4965,      0.4975,      0.4985,      0.4995,      0.5005,      0.5015,      0.5025,      0.5035,\n",
       "            0.5045,     0.50551,     0.50651,     0.50751,     0.50851,     0.50951,     0.51051,     0.51151,     0.51251,     0.51351,     0.51451,     0.51552,     0.51652,     0.51752,     0.51852,     0.51952,     0.52052,     0.52152,     0.52252,     0.52352,     0.52452,     0.52553,     0.52653,     0.52753,\n",
       "           0.52853,     0.52953,     0.53053,     0.53153,     0.53253,     0.53353,     0.53453,     0.53554,     0.53654,     0.53754,     0.53854,     0.53954,     0.54054,     0.54154,     0.54254,     0.54354,     0.54454,     0.54555,     0.54655,     0.54755,     0.54855,     0.54955,     0.55055,     0.55155,\n",
       "           0.55255,     0.55355,     0.55455,     0.55556,     0.55656,     0.55756,     0.55856,     0.55956,     0.56056,     0.56156,     0.56256,     0.56356,     0.56456,     0.56557,     0.56657,     0.56757,     0.56857,     0.56957,     0.57057,     0.57157,     0.57257,     0.57357,     0.57457,     0.57558,\n",
       "           0.57658,     0.57758,     0.57858,     0.57958,     0.58058,     0.58158,     0.58258,     0.58358,     0.58458,     0.58559,     0.58659,     0.58759,     0.58859,     0.58959,     0.59059,     0.59159,     0.59259,     0.59359,     0.59459,      0.5956,      0.5966,      0.5976,      0.5986,      0.5996,\n",
       "            0.6006,      0.6016,      0.6026,      0.6036,      0.6046,     0.60561,     0.60661,     0.60761,     0.60861,     0.60961,     0.61061,     0.61161,     0.61261,     0.61361,     0.61461,     0.61562,     0.61662,     0.61762,     0.61862,     0.61962,     0.62062,     0.62162,     0.62262,     0.62362,\n",
       "           0.62462,     0.62563,     0.62663,     0.62763,     0.62863,     0.62963,     0.63063,     0.63163,     0.63263,     0.63363,     0.63463,     0.63564,     0.63664,     0.63764,     0.63864,     0.63964,     0.64064,     0.64164,     0.64264,     0.64364,     0.64464,     0.64565,     0.64665,     0.64765,\n",
       "           0.64865,     0.64965,     0.65065,     0.65165,     0.65265,     0.65365,     0.65465,     0.65566,     0.65666,     0.65766,     0.65866,     0.65966,     0.66066,     0.66166,     0.66266,     0.66366,     0.66466,     0.66567,     0.66667,     0.66767,     0.66867,     0.66967,     0.67067,     0.67167,\n",
       "           0.67267,     0.67367,     0.67467,     0.67568,     0.67668,     0.67768,     0.67868,     0.67968,     0.68068,     0.68168,     0.68268,     0.68368,     0.68468,     0.68569,     0.68669,     0.68769,     0.68869,     0.68969,     0.69069,     0.69169,     0.69269,     0.69369,     0.69469,      0.6957,\n",
       "            0.6967,      0.6977,      0.6987,      0.6997,      0.7007,      0.7017,      0.7027,      0.7037,      0.7047,     0.70571,     0.70671,     0.70771,     0.70871,     0.70971,     0.71071,     0.71171,     0.71271,     0.71371,     0.71471,     0.71572,     0.71672,     0.71772,     0.71872,     0.71972,\n",
       "           0.72072,     0.72172,     0.72272,     0.72372,     0.72472,     0.72573,     0.72673,     0.72773,     0.72873,     0.72973,     0.73073,     0.73173,     0.73273,     0.73373,     0.73473,     0.73574,     0.73674,     0.73774,     0.73874,     0.73974,     0.74074,     0.74174,     0.74274,     0.74374,\n",
       "           0.74474,     0.74575,     0.74675,     0.74775,     0.74875,     0.74975,     0.75075,     0.75175,     0.75275,     0.75375,     0.75475,     0.75576,     0.75676,     0.75776,     0.75876,     0.75976,     0.76076,     0.76176,     0.76276,     0.76376,     0.76476,     0.76577,     0.76677,     0.76777,\n",
       "           0.76877,     0.76977,     0.77077,     0.77177,     0.77277,     0.77377,     0.77477,     0.77578,     0.77678,     0.77778,     0.77878,     0.77978,     0.78078,     0.78178,     0.78278,     0.78378,     0.78478,     0.78579,     0.78679,     0.78779,     0.78879,     0.78979,     0.79079,     0.79179,\n",
       "           0.79279,     0.79379,     0.79479,      0.7958,      0.7968,      0.7978,      0.7988,      0.7998,      0.8008,      0.8018,      0.8028,      0.8038,      0.8048,     0.80581,     0.80681,     0.80781,     0.80881,     0.80981,     0.81081,     0.81181,     0.81281,     0.81381,     0.81481,     0.81582,\n",
       "           0.81682,     0.81782,     0.81882,     0.81982,     0.82082,     0.82182,     0.82282,     0.82382,     0.82482,     0.82583,     0.82683,     0.82783,     0.82883,     0.82983,     0.83083,     0.83183,     0.83283,     0.83383,     0.83483,     0.83584,     0.83684,     0.83784,     0.83884,     0.83984,\n",
       "           0.84084,     0.84184,     0.84284,     0.84384,     0.84484,     0.84585,     0.84685,     0.84785,     0.84885,     0.84985,     0.85085,     0.85185,     0.85285,     0.85385,     0.85485,     0.85586,     0.85686,     0.85786,     0.85886,     0.85986,     0.86086,     0.86186,     0.86286,     0.86386,\n",
       "           0.86486,     0.86587,     0.86687,     0.86787,     0.86887,     0.86987,     0.87087,     0.87187,     0.87287,     0.87387,     0.87487,     0.87588,     0.87688,     0.87788,     0.87888,     0.87988,     0.88088,     0.88188,     0.88288,     0.88388,     0.88488,     0.88589,     0.88689,     0.88789,\n",
       "           0.88889,     0.88989,     0.89089,     0.89189,     0.89289,     0.89389,     0.89489,      0.8959,      0.8969,      0.8979,      0.8989,      0.8999,      0.9009,      0.9019,      0.9029,      0.9039,      0.9049,     0.90591,     0.90691,     0.90791,     0.90891,     0.90991,     0.91091,     0.91191,\n",
       "           0.91291,     0.91391,     0.91491,     0.91592,     0.91692,     0.91792,     0.91892,     0.91992,     0.92092,     0.92192,     0.92292,     0.92392,     0.92492,     0.92593,     0.92693,     0.92793,     0.92893,     0.92993,     0.93093,     0.93193,     0.93293,     0.93393,     0.93493,     0.93594,\n",
       "           0.93694,     0.93794,     0.93894,     0.93994,     0.94094,     0.94194,     0.94294,     0.94394,     0.94494,     0.94595,     0.94695,     0.94795,     0.94895,     0.94995,     0.95095,     0.95195,     0.95295,     0.95395,     0.95495,     0.95596,     0.95696,     0.95796,     0.95896,     0.95996,\n",
       "           0.96096,     0.96196,     0.96296,     0.96396,     0.96496,     0.96597,     0.96697,     0.96797,     0.96897,     0.96997,     0.97097,     0.97197,     0.97297,     0.97397,     0.97497,     0.97598,     0.97698,     0.97798,     0.97898,     0.97998,     0.98098,     0.98198,     0.98298,     0.98398,\n",
       "           0.98498,     0.98599,     0.98699,     0.98799,     0.98899,     0.98999,     0.99099,     0.99199,     0.99299,     0.99399,     0.99499,       0.996,       0.997,       0.998,       0.999,           1]), array([[          1,           1,           1,           1,           1,           1,           1,           1,           1,           1,           1,           1,           1,           1,           1,           1,           1,           1,           1,           1,           1,           1,           1,\n",
       "                  1,           1,           1,           1,           1,           1,           1,           1,           1,           1,           1,           1,           1,           1,           1,           1,           1,           1,           1,           1,           1,           1,           1,\n",
       "                  1,           1,           1,           1,           1,           1,           1,           1,           1,           1,           1,           1,           1,           1,           1,           1,           1,           1,           1,           1,           1,           1,           1,\n",
       "                  1,           1,           1,           1,           1,           1,           1,           1,           1,           1,           1,           1,           1,           1,           1,           1,           1,           1,           1,           1,           1,           1,           1,\n",
       "                  1,           1,           1,           1,           1,           1,           1,           1,           1,           1,           1,           1,           1,           1,           1,           1,           1,           1,           1,           1,           1,           1,           1,\n",
       "                  1,           1,           1,           1,           1,           1,           1,           1,           1,           1,           1,           1,           1,           1,           1,           1,           1,           1,           1,           1,           1,           1,           1,\n",
       "                  1,           1,           1,           1,           1,           1,           1,           1,           1,           1,           1,           1,           1,           1,           1,           1,           1,           1,           1,           1,           1,           1,           1,\n",
       "                  1,     0.97959,     0.97959,     0.97959,     0.97959,     0.97521,     0.97521,     0.97521,     0.97521,     0.97521,     0.97521,     0.97521,     0.97521,     0.97521,     0.97521,     0.97521,     0.97521,     0.97521,     0.97521,     0.97521,     0.97521,     0.97521,     0.97521,\n",
       "            0.97521,     0.97521,     0.97521,     0.97521,     0.97521,     0.97521,     0.97521,     0.97521,     0.97521,     0.97521,     0.97521,     0.97521,     0.97521,     0.97521,     0.97521,     0.97521,     0.97521,     0.97521,     0.97521,     0.97468,     0.97468,     0.97468,     0.97468,\n",
       "            0.97468,     0.97468,     0.97468,     0.97468,     0.97468,     0.97468,     0.97468,     0.97468,     0.97468,     0.97468,     0.97468,     0.97468,     0.97468,     0.97468,     0.97468,     0.97468,     0.97468,     0.97468,     0.97468,     0.97468,     0.97468,     0.97468,     0.97468,\n",
       "            0.97468,     0.97468,     0.97468,     0.97468,     0.97468,     0.97468,     0.97468,     0.97468,     0.97468,     0.97468,     0.97468,     0.97468,     0.97468,     0.97468,     0.97468,     0.97468,     0.97468,     0.97468,     0.97468,     0.97468,     0.97468,     0.97468,     0.97468,\n",
       "            0.97468,     0.97468,     0.97468,     0.97468,     0.97468,     0.97468,     0.97468,     0.97468,     0.97468,     0.97468,     0.97468,     0.97468,     0.97312,     0.97312,     0.97312,     0.97312,     0.97312,     0.97312,     0.97312,     0.97312,     0.97312,     0.97312,     0.97312,\n",
       "            0.97312,     0.97312,     0.97312,     0.97312,     0.97312,     0.97312,     0.97312,     0.97312,     0.97312,     0.97312,     0.97312,     0.97312,     0.97312,     0.97312,     0.97312,     0.97312,     0.97312,     0.97312,     0.97312,     0.97312,     0.97312,     0.97312,     0.97312,\n",
       "            0.97312,     0.97312,     0.97312,     0.97312,     0.97312,     0.97312,     0.97312,     0.97312,     0.97312,     0.97312,     0.97312,     0.97312,     0.97312,     0.97015,     0.97015,     0.97015,     0.97015,     0.97015,     0.97015,     0.97015,     0.97015,     0.97015,     0.97015,\n",
       "            0.97015,     0.97015,     0.97015,     0.97015,     0.97015,     0.97015,     0.97015,     0.97015,     0.97015,     0.97015,     0.97015,     0.97015,     0.97015,     0.97015,     0.96552,     0.96552,     0.96154,     0.96154,     0.96154,     0.96154,     0.96154,     0.96154,     0.96154,\n",
       "            0.96154,     0.96154,     0.96154,     0.96154,     0.96154,     0.96154,     0.96154,     0.96154,     0.96154,     0.96154,     0.96154,     0.96154,     0.96154,     0.96154,     0.96154,     0.96154,     0.96154,     0.96154,     0.96154,     0.96154,     0.96154,     0.96154,     0.96154,\n",
       "            0.96154,     0.96154,     0.96154,     0.96154,     0.96154,     0.96154,     0.96154,     0.96154,     0.96154,     0.96154,     0.96154,     0.96154,     0.96154,     0.96154,     0.96154,     0.96154,     0.96154,     0.96154,     0.96154,     0.95971,     0.95971,     0.95971,     0.95971,\n",
       "            0.95971,     0.95971,     0.95971,     0.95971,     0.95971,     0.95971,     0.95971,     0.95971,     0.95971,     0.95971,     0.95971,     0.95971,     0.95971,     0.95971,     0.95971,     0.95971,     0.95971,     0.95971,     0.95971,     0.95971,     0.95971,     0.95971,     0.95971,\n",
       "            0.95971,     0.95971,     0.95971,     0.95971,     0.95971,     0.95971,     0.95971,     0.95971,     0.95971,     0.95971,     0.95971,     0.95971,     0.95971,     0.95971,     0.95971,     0.95971,     0.95971,     0.95971,     0.95971,     0.95971,     0.95971,     0.95971,     0.95971,\n",
       "            0.95971,     0.95971,     0.95971,     0.95971,     0.95971,     0.95971,     0.95971,     0.95971,     0.95971,     0.95971,     0.95971,     0.95971,     0.95971,     0.95971,     0.95699,     0.95699,     0.95699,     0.95699,     0.95699,     0.95699,     0.95699,     0.95699,     0.95699,\n",
       "            0.95548,     0.95548,     0.95548,     0.95548,     0.95548,     0.95548,     0.95548,     0.95548,     0.95548,     0.95548,     0.95548,     0.95548,     0.95548,     0.95548,     0.95548,     0.95548,     0.95548,     0.95548,     0.95548,     0.95548,     0.95146,     0.95146,     0.95146,\n",
       "            0.95146,     0.95146,     0.95146,     0.95146,     0.95146,     0.95146,     0.95146,     0.95146,     0.95146,     0.95146,     0.95146,     0.95146,     0.95146,     0.95146,     0.95146,     0.95146,     0.95146,     0.95146,     0.95146,     0.95146,     0.95146,     0.95146,     0.95146,\n",
       "            0.95077,     0.95077,     0.95077,     0.95077,     0.95077,     0.95077,     0.95077,     0.95077,     0.95077,     0.95077,     0.95077,     0.95077,     0.95077,     0.95077,     0.95077,     0.95077,     0.95077,     0.95077,     0.95077,     0.95077,     0.95077,     0.95077,     0.95077,\n",
       "            0.95077,     0.95077,     0.95077,      0.9497,      0.9497,      0.9497,      0.9497,      0.9497,      0.9497,      0.9497,      0.9497,      0.9497,      0.9497,      0.9497,      0.9497,      0.9497,      0.9497,      0.9497,      0.9497,      0.9497,      0.9497,      0.9497,      0.9497,\n",
       "            0.94783,     0.94783,     0.94783,     0.94783,     0.94783,     0.94783,     0.94783,     0.94783,     0.94783,     0.94783,     0.94783,      0.9454,      0.9454,      0.9454,     0.94413,     0.94413,     0.94413,     0.94413,     0.94413,     0.94413,     0.94413,     0.94413,     0.94413,\n",
       "            0.94413,     0.94413,     0.94413,     0.94413,     0.94413,     0.94413,     0.94413,     0.94215,     0.94215,     0.94215,     0.94215,     0.94215,     0.94215,     0.94215,     0.94005,     0.94005,     0.94005,     0.94005,     0.94005,      0.9385,      0.9385,      0.9385,      0.9385,\n",
       "             0.9385,      0.9385,      0.9385,      0.9385,      0.9385,      0.9385,     0.93766,     0.93766,     0.93766,     0.93766,     0.93766,     0.93766,     0.93766,     0.93766,     0.93766,     0.93766,     0.93766,     0.93766,     0.93766,     0.93766,     0.93766,     0.93766,     0.93766,\n",
       "            0.93316,     0.93316,     0.93316,     0.93316,      0.9313,      0.9313,      0.9313,      0.9313,      0.9313,     0.93017,     0.93017,     0.93017,     0.93017,     0.93017,     0.93017,     0.93017,     0.93017,     0.93017,     0.93017,     0.93017,     0.93017,     0.92683,     0.92683,\n",
       "            0.92683,     0.92683,     0.92683,     0.92683,     0.92683,     0.92683,     0.92683,     0.92683,     0.92683,     0.92683,     0.92637,     0.92637,     0.92637,     0.92637,     0.92637,     0.92637,     0.92637,     0.92637,     0.92637,     0.92637,     0.92637,     0.92637,     0.92637,\n",
       "            0.92637,     0.92637,     0.92637,     0.92637,     0.92575,     0.92575,     0.92575,     0.92575,     0.92575,     0.92575,     0.92575,     0.92575,     0.92575,     0.92575,     0.92575,     0.92575,     0.92575,     0.92575,     0.92575,     0.92575,     0.92273,     0.92273,     0.92273,\n",
       "            0.92273,     0.92273,     0.92273,     0.92273,     0.92273,     0.92273,     0.92273,     0.92273,     0.92273,     0.92222,     0.92222,     0.92222,     0.92222,     0.92222,     0.92222,     0.92222,     0.92222,     0.92222,     0.92222,     0.92222,     0.92222,     0.92222,     0.92222,\n",
       "            0.92222,     0.92053,     0.92053,     0.92053,     0.92053,     0.91886,     0.91886,     0.91886,     0.91739,     0.91739,     0.91739,     0.91739,     0.91739,     0.91737,     0.91737,     0.91737,     0.91737,     0.91737,     0.91737,     0.91737,     0.91737,     0.91737,     0.91737,\n",
       "            0.91737,     0.91737,     0.91737,     0.91737,     0.91737,     0.91737,     0.91737,     0.91737,     0.91737,     0.91579,     0.91579,     0.91579,     0.91423,     0.91423,     0.91423,     0.91423,     0.91304,     0.91304,     0.91304,     0.91304,     0.91304,     0.91304,     0.91304,\n",
       "             0.9126,      0.9126,      0.9126,      0.9126,      0.9126,      0.9126,      0.9126,      0.9126,      0.9126,      0.9126,      0.9126,      0.9126,      0.9126,      0.9126,     0.90726,       0.906,       0.906,       0.906,       0.906,       0.906,     0.90495,     0.90495,     0.90495,\n",
       "            0.90495,     0.90495,     0.90495,     0.90495,     0.90467,     0.90467,     0.90467,     0.90467,     0.90467,     0.90467,     0.90467,     0.90467,     0.90467,     0.90467,     0.90467,     0.90467,     0.90467,     0.90467,      0.9031,      0.9031,      0.9023,      0.9023,      0.9023,\n",
       "             0.9023,      0.9023,      0.9023,      0.9023,      0.9023,     0.90095,     0.90095,     0.90095,     0.90095,     0.89981,     0.89981,     0.89981,     0.89981,     0.89981,     0.89869,     0.89869,     0.89869,     0.89869,     0.89869,     0.89552,     0.89552,     0.89405,     0.89405,\n",
       "            0.89134,     0.89134,     0.89134,     0.89134,     0.89134,     0.88869,     0.88869,     0.88869,     0.88869,     0.88869,     0.88748,     0.88748,     0.88748,     0.88628,     0.88628,     0.88628,     0.88628,     0.88235,     0.88235,     0.88235,     0.88235,     0.88235,     0.88235,\n",
       "            0.88235,     0.87943,     0.87654,     0.87654,     0.87368,     0.87368,     0.87238,     0.87238,     0.87108,     0.85959,     0.85959,     0.85959,     0.85959,     0.85836,     0.85279,     0.85279,     0.85017,     0.85017,     0.84783,     0.84783,     0.84783,     0.84692,     0.84692,\n",
       "            0.84692,     0.84692,     0.83361,     0.83361,     0.83361,     0.83279,     0.83279,     0.83279,     0.83279,     0.83172,     0.82665,     0.82665,     0.81005,     0.81005,      0.8053,     0.80435,     0.80435,     0.80341,     0.80341,     0.79632,     0.79632,     0.78852,     0.78852,\n",
       "            0.78852,     0.78765,     0.78765,     0.78358,     0.78358,     0.78358,     0.78042,     0.78042,     0.77047,     0.77047,     0.76522,     0.74823,     0.74823,     0.74753,     0.74753,     0.74684,     0.74684,     0.74614,     0.74306,     0.74306,     0.74306,     0.74306,     0.74306,\n",
       "            0.72925,     0.72925,     0.72666,     0.72666,     0.71925,     0.71925,     0.71867,     0.71846,     0.71846,     0.71846,     0.71846,     0.71504,     0.70246,     0.70246,     0.70103,     0.70103,     0.68813,     0.68813,     0.68679,     0.67782,     0.67782,     0.67488,     0.67488,\n",
       "            0.66065,     0.65476,     0.65476,     0.65207,     0.65207,     0.64411,     0.64411,     0.62912,     0.62177,     0.62177,     0.61667,     0.61667,     0.61032,     0.61032,     0.60609,     0.60259,     0.60259,     0.59153,     0.59153,     0.58455,     0.56325,     0.56325,     0.54143,\n",
       "            0.54143,     0.49867,     0.49867,     0.44585,     0.41945,     0.41945,       0.404,       0.404,     0.38836,     0.38535,     0.38535,     0.27329,     0.27329,     0.18107,     0.18107,     0.17209,     0.16036,     0.16036,     0.15005,     0.14005,     0.13004,     0.12004,     0.11004,\n",
       "            0.10003,    0.090031,    0.080028,    0.070024,    0.060021,    0.050017,    0.040014,     0.03001,    0.020007,    0.010003,           0]]), 'Recall', 'Precision'], [array([          0,    0.001001,    0.002002,    0.003003,    0.004004,    0.005005,    0.006006,    0.007007,    0.008008,    0.009009,     0.01001,    0.011011,    0.012012,    0.013013,    0.014014,    0.015015,    0.016016,    0.017017,    0.018018,    0.019019,     0.02002,    0.021021,    0.022022,    0.023023,\n",
       "          0.024024,    0.025025,    0.026026,    0.027027,    0.028028,    0.029029,     0.03003,    0.031031,    0.032032,    0.033033,    0.034034,    0.035035,    0.036036,    0.037037,    0.038038,    0.039039,     0.04004,    0.041041,    0.042042,    0.043043,    0.044044,    0.045045,    0.046046,    0.047047,\n",
       "          0.048048,    0.049049,     0.05005,    0.051051,    0.052052,    0.053053,    0.054054,    0.055055,    0.056056,    0.057057,    0.058058,    0.059059,     0.06006,    0.061061,    0.062062,    0.063063,    0.064064,    0.065065,    0.066066,    0.067067,    0.068068,    0.069069,     0.07007,    0.071071,\n",
       "          0.072072,    0.073073,    0.074074,    0.075075,    0.076076,    0.077077,    0.078078,    0.079079,     0.08008,    0.081081,    0.082082,    0.083083,    0.084084,    0.085085,    0.086086,    0.087087,    0.088088,    0.089089,     0.09009,    0.091091,    0.092092,    0.093093,    0.094094,    0.095095,\n",
       "          0.096096,    0.097097,    0.098098,    0.099099,      0.1001,      0.1011,      0.1021,      0.1031,      0.1041,     0.10511,     0.10611,     0.10711,     0.10811,     0.10911,     0.11011,     0.11111,     0.11211,     0.11311,     0.11411,     0.11512,     0.11612,     0.11712,     0.11812,     0.11912,\n",
       "           0.12012,     0.12112,     0.12212,     0.12312,     0.12412,     0.12513,     0.12613,     0.12713,     0.12813,     0.12913,     0.13013,     0.13113,     0.13213,     0.13313,     0.13413,     0.13514,     0.13614,     0.13714,     0.13814,     0.13914,     0.14014,     0.14114,     0.14214,     0.14314,\n",
       "           0.14414,     0.14515,     0.14615,     0.14715,     0.14815,     0.14915,     0.15015,     0.15115,     0.15215,     0.15315,     0.15415,     0.15516,     0.15616,     0.15716,     0.15816,     0.15916,     0.16016,     0.16116,     0.16216,     0.16316,     0.16416,     0.16517,     0.16617,     0.16717,\n",
       "           0.16817,     0.16917,     0.17017,     0.17117,     0.17217,     0.17317,     0.17417,     0.17518,     0.17618,     0.17718,     0.17818,     0.17918,     0.18018,     0.18118,     0.18218,     0.18318,     0.18418,     0.18519,     0.18619,     0.18719,     0.18819,     0.18919,     0.19019,     0.19119,\n",
       "           0.19219,     0.19319,     0.19419,      0.1952,      0.1962,      0.1972,      0.1982,      0.1992,      0.2002,      0.2012,      0.2022,      0.2032,      0.2042,     0.20521,     0.20621,     0.20721,     0.20821,     0.20921,     0.21021,     0.21121,     0.21221,     0.21321,     0.21421,     0.21522,\n",
       "           0.21622,     0.21722,     0.21822,     0.21922,     0.22022,     0.22122,     0.22222,     0.22322,     0.22422,     0.22523,     0.22623,     0.22723,     0.22823,     0.22923,     0.23023,     0.23123,     0.23223,     0.23323,     0.23423,     0.23524,     0.23624,     0.23724,     0.23824,     0.23924,\n",
       "           0.24024,     0.24124,     0.24224,     0.24324,     0.24424,     0.24525,     0.24625,     0.24725,     0.24825,     0.24925,     0.25025,     0.25125,     0.25225,     0.25325,     0.25425,     0.25526,     0.25626,     0.25726,     0.25826,     0.25926,     0.26026,     0.26126,     0.26226,     0.26326,\n",
       "           0.26426,     0.26527,     0.26627,     0.26727,     0.26827,     0.26927,     0.27027,     0.27127,     0.27227,     0.27327,     0.27427,     0.27528,     0.27628,     0.27728,     0.27828,     0.27928,     0.28028,     0.28128,     0.28228,     0.28328,     0.28428,     0.28529,     0.28629,     0.28729,\n",
       "           0.28829,     0.28929,     0.29029,     0.29129,     0.29229,     0.29329,     0.29429,      0.2953,      0.2963,      0.2973,      0.2983,      0.2993,      0.3003,      0.3013,      0.3023,      0.3033,      0.3043,     0.30531,     0.30631,     0.30731,     0.30831,     0.30931,     0.31031,     0.31131,\n",
       "           0.31231,     0.31331,     0.31431,     0.31532,     0.31632,     0.31732,     0.31832,     0.31932,     0.32032,     0.32132,     0.32232,     0.32332,     0.32432,     0.32533,     0.32633,     0.32733,     0.32833,     0.32933,     0.33033,     0.33133,     0.33233,     0.33333,     0.33433,     0.33534,\n",
       "           0.33634,     0.33734,     0.33834,     0.33934,     0.34034,     0.34134,     0.34234,     0.34334,     0.34434,     0.34535,     0.34635,     0.34735,     0.34835,     0.34935,     0.35035,     0.35135,     0.35235,     0.35335,     0.35435,     0.35536,     0.35636,     0.35736,     0.35836,     0.35936,\n",
       "           0.36036,     0.36136,     0.36236,     0.36336,     0.36436,     0.36537,     0.36637,     0.36737,     0.36837,     0.36937,     0.37037,     0.37137,     0.37237,     0.37337,     0.37437,     0.37538,     0.37638,     0.37738,     0.37838,     0.37938,     0.38038,     0.38138,     0.38238,     0.38338,\n",
       "           0.38438,     0.38539,     0.38639,     0.38739,     0.38839,     0.38939,     0.39039,     0.39139,     0.39239,     0.39339,     0.39439,      0.3954,      0.3964,      0.3974,      0.3984,      0.3994,      0.4004,      0.4014,      0.4024,      0.4034,      0.4044,     0.40541,     0.40641,     0.40741,\n",
       "           0.40841,     0.40941,     0.41041,     0.41141,     0.41241,     0.41341,     0.41441,     0.41542,     0.41642,     0.41742,     0.41842,     0.41942,     0.42042,     0.42142,     0.42242,     0.42342,     0.42442,     0.42543,     0.42643,     0.42743,     0.42843,     0.42943,     0.43043,     0.43143,\n",
       "           0.43243,     0.43343,     0.43443,     0.43544,     0.43644,     0.43744,     0.43844,     0.43944,     0.44044,     0.44144,     0.44244,     0.44344,     0.44444,     0.44545,     0.44645,     0.44745,     0.44845,     0.44945,     0.45045,     0.45145,     0.45245,     0.45345,     0.45445,     0.45546,\n",
       "           0.45646,     0.45746,     0.45846,     0.45946,     0.46046,     0.46146,     0.46246,     0.46346,     0.46446,     0.46547,     0.46647,     0.46747,     0.46847,     0.46947,     0.47047,     0.47147,     0.47247,     0.47347,     0.47447,     0.47548,     0.47648,     0.47748,     0.47848,     0.47948,\n",
       "           0.48048,     0.48148,     0.48248,     0.48348,     0.48448,     0.48549,     0.48649,     0.48749,     0.48849,     0.48949,     0.49049,     0.49149,     0.49249,     0.49349,     0.49449,      0.4955,      0.4965,      0.4975,      0.4985,      0.4995,      0.5005,      0.5015,      0.5025,      0.5035,\n",
       "            0.5045,     0.50551,     0.50651,     0.50751,     0.50851,     0.50951,     0.51051,     0.51151,     0.51251,     0.51351,     0.51451,     0.51552,     0.51652,     0.51752,     0.51852,     0.51952,     0.52052,     0.52152,     0.52252,     0.52352,     0.52452,     0.52553,     0.52653,     0.52753,\n",
       "           0.52853,     0.52953,     0.53053,     0.53153,     0.53253,     0.53353,     0.53453,     0.53554,     0.53654,     0.53754,     0.53854,     0.53954,     0.54054,     0.54154,     0.54254,     0.54354,     0.54454,     0.54555,     0.54655,     0.54755,     0.54855,     0.54955,     0.55055,     0.55155,\n",
       "           0.55255,     0.55355,     0.55455,     0.55556,     0.55656,     0.55756,     0.55856,     0.55956,     0.56056,     0.56156,     0.56256,     0.56356,     0.56456,     0.56557,     0.56657,     0.56757,     0.56857,     0.56957,     0.57057,     0.57157,     0.57257,     0.57357,     0.57457,     0.57558,\n",
       "           0.57658,     0.57758,     0.57858,     0.57958,     0.58058,     0.58158,     0.58258,     0.58358,     0.58458,     0.58559,     0.58659,     0.58759,     0.58859,     0.58959,     0.59059,     0.59159,     0.59259,     0.59359,     0.59459,      0.5956,      0.5966,      0.5976,      0.5986,      0.5996,\n",
       "            0.6006,      0.6016,      0.6026,      0.6036,      0.6046,     0.60561,     0.60661,     0.60761,     0.60861,     0.60961,     0.61061,     0.61161,     0.61261,     0.61361,     0.61461,     0.61562,     0.61662,     0.61762,     0.61862,     0.61962,     0.62062,     0.62162,     0.62262,     0.62362,\n",
       "           0.62462,     0.62563,     0.62663,     0.62763,     0.62863,     0.62963,     0.63063,     0.63163,     0.63263,     0.63363,     0.63463,     0.63564,     0.63664,     0.63764,     0.63864,     0.63964,     0.64064,     0.64164,     0.64264,     0.64364,     0.64464,     0.64565,     0.64665,     0.64765,\n",
       "           0.64865,     0.64965,     0.65065,     0.65165,     0.65265,     0.65365,     0.65465,     0.65566,     0.65666,     0.65766,     0.65866,     0.65966,     0.66066,     0.66166,     0.66266,     0.66366,     0.66466,     0.66567,     0.66667,     0.66767,     0.66867,     0.66967,     0.67067,     0.67167,\n",
       "           0.67267,     0.67367,     0.67467,     0.67568,     0.67668,     0.67768,     0.67868,     0.67968,     0.68068,     0.68168,     0.68268,     0.68368,     0.68468,     0.68569,     0.68669,     0.68769,     0.68869,     0.68969,     0.69069,     0.69169,     0.69269,     0.69369,     0.69469,      0.6957,\n",
       "            0.6967,      0.6977,      0.6987,      0.6997,      0.7007,      0.7017,      0.7027,      0.7037,      0.7047,     0.70571,     0.70671,     0.70771,     0.70871,     0.70971,     0.71071,     0.71171,     0.71271,     0.71371,     0.71471,     0.71572,     0.71672,     0.71772,     0.71872,     0.71972,\n",
       "           0.72072,     0.72172,     0.72272,     0.72372,     0.72472,     0.72573,     0.72673,     0.72773,     0.72873,     0.72973,     0.73073,     0.73173,     0.73273,     0.73373,     0.73473,     0.73574,     0.73674,     0.73774,     0.73874,     0.73974,     0.74074,     0.74174,     0.74274,     0.74374,\n",
       "           0.74474,     0.74575,     0.74675,     0.74775,     0.74875,     0.74975,     0.75075,     0.75175,     0.75275,     0.75375,     0.75475,     0.75576,     0.75676,     0.75776,     0.75876,     0.75976,     0.76076,     0.76176,     0.76276,     0.76376,     0.76476,     0.76577,     0.76677,     0.76777,\n",
       "           0.76877,     0.76977,     0.77077,     0.77177,     0.77277,     0.77377,     0.77477,     0.77578,     0.77678,     0.77778,     0.77878,     0.77978,     0.78078,     0.78178,     0.78278,     0.78378,     0.78478,     0.78579,     0.78679,     0.78779,     0.78879,     0.78979,     0.79079,     0.79179,\n",
       "           0.79279,     0.79379,     0.79479,      0.7958,      0.7968,      0.7978,      0.7988,      0.7998,      0.8008,      0.8018,      0.8028,      0.8038,      0.8048,     0.80581,     0.80681,     0.80781,     0.80881,     0.80981,     0.81081,     0.81181,     0.81281,     0.81381,     0.81481,     0.81582,\n",
       "           0.81682,     0.81782,     0.81882,     0.81982,     0.82082,     0.82182,     0.82282,     0.82382,     0.82482,     0.82583,     0.82683,     0.82783,     0.82883,     0.82983,     0.83083,     0.83183,     0.83283,     0.83383,     0.83483,     0.83584,     0.83684,     0.83784,     0.83884,     0.83984,\n",
       "           0.84084,     0.84184,     0.84284,     0.84384,     0.84484,     0.84585,     0.84685,     0.84785,     0.84885,     0.84985,     0.85085,     0.85185,     0.85285,     0.85385,     0.85485,     0.85586,     0.85686,     0.85786,     0.85886,     0.85986,     0.86086,     0.86186,     0.86286,     0.86386,\n",
       "           0.86486,     0.86587,     0.86687,     0.86787,     0.86887,     0.86987,     0.87087,     0.87187,     0.87287,     0.87387,     0.87487,     0.87588,     0.87688,     0.87788,     0.87888,     0.87988,     0.88088,     0.88188,     0.88288,     0.88388,     0.88488,     0.88589,     0.88689,     0.88789,\n",
       "           0.88889,     0.88989,     0.89089,     0.89189,     0.89289,     0.89389,     0.89489,      0.8959,      0.8969,      0.8979,      0.8989,      0.8999,      0.9009,      0.9019,      0.9029,      0.9039,      0.9049,     0.90591,     0.90691,     0.90791,     0.90891,     0.90991,     0.91091,     0.91191,\n",
       "           0.91291,     0.91391,     0.91491,     0.91592,     0.91692,     0.91792,     0.91892,     0.91992,     0.92092,     0.92192,     0.92292,     0.92392,     0.92492,     0.92593,     0.92693,     0.92793,     0.92893,     0.92993,     0.93093,     0.93193,     0.93293,     0.93393,     0.93493,     0.93594,\n",
       "           0.93694,     0.93794,     0.93894,     0.93994,     0.94094,     0.94194,     0.94294,     0.94394,     0.94494,     0.94595,     0.94695,     0.94795,     0.94895,     0.94995,     0.95095,     0.95195,     0.95295,     0.95395,     0.95495,     0.95596,     0.95696,     0.95796,     0.95896,     0.95996,\n",
       "           0.96096,     0.96196,     0.96296,     0.96396,     0.96496,     0.96597,     0.96697,     0.96797,     0.96897,     0.96997,     0.97097,     0.97197,     0.97297,     0.97397,     0.97497,     0.97598,     0.97698,     0.97798,     0.97898,     0.97998,     0.98098,     0.98198,     0.98298,     0.98398,\n",
       "           0.98498,     0.98599,     0.98699,     0.98799,     0.98899,     0.98999,     0.99099,     0.99199,     0.99299,     0.99399,     0.99499,       0.996,       0.997,       0.998,       0.999,           1]), array([[    0.26754,     0.26754,     0.36815,     0.42843,     0.46517,     0.49267,     0.51615,     0.53633,     0.55096,     0.56479,     0.58068,     0.58951,     0.60291,     0.60904,      0.6179,     0.62201,     0.62868,     0.63421,     0.63902,     0.64308,     0.64713,     0.64994,     0.65302,\n",
       "            0.65976,     0.66403,     0.66836,     0.67284,      0.6752,     0.67755,     0.68051,     0.68319,     0.68539,     0.69059,     0.69299,     0.69476,     0.69714,     0.69902,     0.70229,     0.70393,     0.70487,     0.70679,     0.70886,      0.7101,     0.71179,     0.71278,     0.71433,\n",
       "            0.71663,     0.71802,     0.71825,     0.71889,      0.7208,     0.72345,     0.72686,     0.72717,     0.72769,     0.72809,      0.7284,     0.73079,     0.73139,     0.73193,      0.7327,      0.7357,     0.73613,     0.73816,     0.73843,     0.73883,     0.74016,     0.74003,     0.74136,\n",
       "            0.74248,     0.74332,     0.74406,     0.74438,      0.7447,     0.74462,     0.74569,     0.74661,     0.74727,       0.748,      0.7489,     0.74924,     0.74935,     0.74895,     0.75104,     0.75239,     0.75187,     0.75366,     0.75469,     0.75626,     0.75721,     0.75753,     0.75835,\n",
       "            0.75868,     0.75891,      0.7591,     0.75933,     0.76002,     0.76043,     0.76066,     0.76109,     0.76187,     0.76326,     0.76463,     0.76479,     0.76495,     0.76514,     0.76543,      0.7667,     0.76741,     0.76798,     0.76818,     0.76838,     0.76907,     0.76953,     0.77083,\n",
       "            0.77192,     0.77247,       0.772,      0.7733,     0.77405,     0.77383,     0.77354,     0.77324,     0.77361,     0.77477,     0.77506,     0.77526,     0.77548,     0.77583,     0.77665,     0.77717,     0.77758,     0.77706,     0.77919,     0.78197,     0.78242,     0.78256,     0.78271,\n",
       "            0.78285,      0.7835,     0.78389,     0.78448,     0.78582,     0.78621,     0.78636,     0.78592,     0.78707,     0.78809,     0.78854,     0.78971,     0.79088,     0.79225,     0.79351,     0.79295,     0.79306,      0.7937,     0.79489,     0.79517,     0.79542,     0.79565,     0.79588,\n",
       "            0.79602,     0.79616,      0.7963,     0.79643,     0.79829,     0.79866,     0.79935,     0.79991,     0.80022,     0.80049,     0.80125,     0.80177,     0.80142,      0.8033,     0.80396,     0.80423,     0.80435,     0.80446,     0.80458,     0.80469,      0.8056,     0.80691,     0.80915,\n",
       "             0.8087,     0.80962,     0.81002,     0.81051,     0.81101,     0.80987,     0.80965,     0.80966,     0.80918,     0.80925,     0.80958,     0.80947,     0.80996,     0.81028,     0.81187,     0.81326,     0.81327,     0.81306,     0.81397,     0.81495,      0.8152,     0.81546,     0.81585,\n",
       "            0.81648,     0.81748,      0.8184,     0.81901,     0.82033,     0.82124,     0.82156,     0.82217,      0.8199,     0.82051,     0.82155,     0.82168,     0.82097,     0.82137,     0.82297,      0.8239,     0.82463,      0.8252,     0.82588,     0.82701,     0.82749,      0.8289,     0.82905,\n",
       "            0.82921,     0.82937,     0.82953,     0.83059,     0.83072,     0.83104,     0.83267,     0.83299,     0.83374,      0.8342,     0.83639,     0.83805,     0.83775,     0.83747,     0.83792,     0.83838,     0.83902,     0.83756,     0.83764,     0.83782,     0.83801,     0.83839,     0.83931,\n",
       "             0.8393,     0.83946,     0.83818,     0.83898,     0.83929,     0.84003,     0.84221,     0.84268,     0.84255,     0.84327,     0.84421,     0.84487,      0.8454,     0.84546,     0.84517,     0.84539,      0.8456,     0.84556,     0.84523,     0.84491,     0.84491,     0.84674,     0.84697,\n",
       "            0.84721,     0.84692,     0.84637,     0.84665,     0.84696,     0.84735,     0.84776,     0.84824,      0.8493,     0.84959,     0.84985,     0.84998,      0.8501,     0.85023,     0.85035,     0.85048,     0.85106,     0.85183,     0.85219,     0.85247,     0.85374,     0.85505,     0.85546,\n",
       "            0.85456,     0.85471,     0.85486,       0.855,     0.85515,      0.8555,     0.85606,     0.85636,     0.85665,     0.85686,     0.85702,     0.85646,     0.85551,     0.85534,     0.85548,     0.85562,     0.85576,      0.8559,     0.85507,     0.85471,     0.85515,     0.85571,     0.85729,\n",
       "            0.85779,     0.85808,     0.85912,     0.85954,     0.86009,     0.86061,     0.86083,     0.86104,     0.86124,     0.86013,     0.85957,     0.85944,     0.85963,     0.85983,     0.86003,     0.85902,     0.85866,      0.8583,     0.85825,     0.85852,     0.85879,     0.85954,     0.85918,\n",
       "            0.85882,      0.8589,     0.85995,     0.85966,     0.85938,     0.85983,     0.86021,     0.86062,     0.86133,     0.86142,     0.86151,     0.86161,      0.8617,     0.86179,     0.86188,     0.86197,     0.86176,     0.86129,     0.86137,     0.86067,      0.8604,     0.86013,     0.85986,\n",
       "             0.8602,     0.86058,     0.86065,     0.86072,     0.86079,     0.86085,     0.86092,     0.86099,     0.86106,     0.86112,     0.86119,     0.86126,     0.86133,     0.86153,     0.86173,     0.86194,     0.86234,     0.86298,     0.86341,     0.86363,     0.86375,     0.86386,     0.86397,\n",
       "            0.86409,      0.8642,     0.86506,      0.8652,     0.86533,     0.86546,      0.8656,     0.86573,     0.86567,     0.86541,     0.86514,     0.86487,     0.86529,     0.86496,     0.86462,     0.86527,     0.86449,     0.86581,     0.86561,     0.86541,      0.8652,       0.865,     0.86501,\n",
       "            0.86545,     0.86586,     0.86625,     0.86615,     0.86581,     0.86547,     0.86596,     0.86644,     0.86683,      0.8666,     0.86623,     0.86577,     0.86475,     0.86296,     0.86322,     0.86348,     0.86387,     0.86451,     0.86477,     0.86503,     0.86484,     0.86398,     0.86339,\n",
       "            0.86327,     0.86222,     0.86261,     0.86194,     0.86131,     0.86079,      0.8606,     0.86048,     0.86037,     0.86025,     0.86014,     0.86002,     0.85991,     0.85979,     0.85969,     0.86009,     0.86045,     0.86055,     0.86066,     0.86076,     0.86086,     0.86096,     0.86106,\n",
       "            0.86116,     0.86107,     0.86081,     0.86055,     0.86029,     0.85998,     0.85963,     0.85929,     0.85906,     0.85889,     0.85871,     0.85854,     0.85836,     0.85819,     0.85882,     0.85961,     0.85954,     0.85937,     0.85919,     0.85902,     0.85884,     0.85868,     0.85884,\n",
       "              0.859,     0.85915,     0.85931,     0.85939,     0.85904,     0.85869,     0.85861,      0.8594,     0.85967,     0.85878,     0.85825,     0.85773,      0.8572,      0.8572,     0.85618,     0.85548,     0.85521,     0.85495,     0.85468,     0.85471,     0.85497,     0.85523,       0.855,\n",
       "            0.85447,     0.85406,     0.85371,     0.85335,     0.85346,     0.85372,     0.85399,     0.85316,      0.8527,     0.85234,     0.85198,     0.85163,     0.85127,     0.85091,     0.84977,     0.84967,     0.84957,     0.84947,     0.84938,     0.84928,     0.84918,     0.84908,     0.84899,\n",
       "            0.84889,     0.84864,     0.84904,      0.8482,     0.84798,     0.84777,     0.84755,     0.84733,     0.84675,     0.84591,     0.84537,     0.84496,     0.84469,     0.84442,     0.84415,     0.84232,     0.84178,     0.84156,     0.84134,     0.84112,      0.8409,     0.84144,      0.8412,\n",
       "            0.84065,     0.83858,     0.83795,      0.8374,     0.83754,     0.83777,     0.83799,     0.83759,     0.83648,     0.83588,     0.83572,     0.83556,      0.8354,     0.83524,     0.83509,     0.83493,     0.83516,     0.83555,     0.83487,     0.83527,     0.83598,     0.83645,     0.83685,\n",
       "            0.83485,     0.83449,     0.83421,     0.83393,     0.83365,     0.83224,     0.83192,      0.8316,     0.83027,     0.83011,     0.82995,     0.82979,     0.82963,     0.82947,     0.82931,     0.82843,     0.82878,      0.8285,     0.82793,     0.82746,     0.82701,     0.82541,     0.82484,\n",
       "            0.82489,     0.82504,     0.82447,      0.8236,     0.82323,      0.8235,     0.82376,     0.82315,      0.8208,     0.82013,      0.8199,     0.81967,     0.81944,     0.81921,     0.81869,     0.81754,     0.81525,     0.81424,     0.81346,     0.81119,     0.81057,     0.80999,     0.81075,\n",
       "            0.81046,     0.81017,     0.80988,      0.8082,     0.80782,     0.80733,     0.80655,     0.80596,     0.80572,     0.80453,     0.80488,     0.80002,     0.79902,     0.79842,     0.79642,     0.79465,     0.79497,     0.79529,     0.79413,     0.79174,     0.79113,      0.7881,      0.7879,\n",
       "            0.78419,     0.78296,     0.78212,      0.7815,     0.77801,     0.77448,     0.77322,     0.77196,     0.77069,     0.76652,     0.76582,     0.76385,     0.76321,     0.76198,      0.7588,     0.75832,     0.75872,     0.75932,     0.75452,     0.75321,      0.7519,     0.75088,     0.74794,\n",
       "            0.74671,     0.74605,     0.74673,     0.74687,       0.747,     0.74713,     0.74726,     0.74739,     0.74625,     0.74362,     0.74007,     0.73897,     0.73762,     0.73561,     0.73434,     0.73502,     0.73411,     0.73201,     0.73133,     0.72742,     0.72638,     0.72569,     0.72418,\n",
       "            0.72428,     0.72388,     0.72349,      0.7214,     0.71941,     0.71842,     0.71807,     0.71772,     0.71736,     0.71261,     0.70889,     0.70756,     0.70554,     0.70606,     0.70429,     0.70326,     0.70056,     0.69998,      0.6994,      0.6982,     0.69417,     0.69359,       0.693,\n",
       "            0.69169,     0.69022,     0.68659,     0.68451,     0.68208,     0.68071,     0.67824,     0.67303,     0.67242,     0.67166,     0.66994,     0.66918,     0.66677,     0.66542,     0.66413,      0.6637,     0.66326,     0.66213,     0.66052,     0.65595,     0.65533,     0.65471,     0.65418,\n",
       "            0.65366,     0.65314,     0.65252,     0.65189,       0.648,     0.64686,     0.64458,       0.643,      0.6378,     0.63865,     0.63813,     0.63376,     0.63222,     0.63055,     0.62933,     0.62628,     0.62519,     0.62433,     0.62351,     0.62038,     0.61959,     0.61458,      0.6132,\n",
       "            0.61305,     0.61027,     0.60781,     0.60534,     0.60422,     0.60309,     0.60165,     0.59808,     0.59517,     0.59309,     0.58332,     0.58112,     0.57898,      0.5695,     0.56713,     0.56336,     0.56217,     0.55922,     0.55521,     0.55213,     0.54682,     0.54319,     0.54196,\n",
       "            0.53593,     0.53518,     0.53444,     0.53116,     0.52663,     0.52538,     0.52114,     0.52038,     0.51962,     0.51797,     0.51606,     0.51467,     0.51358,     0.51281,     0.51204,     0.50738,     0.50265,     0.49915,     0.49992,     0.49671,     0.49483,     0.49417,     0.49351,\n",
       "            0.48655,      0.4751,     0.47375,     0.46909,     0.46648,     0.46085,     0.45546,     0.45407,      0.4521,     0.45089,     0.44984,     0.44533,     0.44463,     0.44392,     0.44046,      0.4352,     0.43296,     0.42986,     0.42347,     0.41657,       0.401,     0.39431,     0.39224,\n",
       "            0.39134,     0.38511,      0.3791,     0.37756,     0.37602,     0.37422,     0.36879,     0.36182,     0.35993,     0.35836,     0.35679,     0.35212,     0.34736,     0.33796,     0.33585,     0.33239,     0.32846,     0.31665,     0.31374,     0.31044,     0.30607,     0.30111,     0.29794,\n",
       "            0.29341,     0.28658,       0.284,      0.2823,       0.281,     0.27917,     0.27806,     0.27604,     0.27341,     0.26556,     0.25716,     0.25582,     0.24921,     0.24786,     0.24565,     0.24293,      0.2402,     0.23843,     0.23706,     0.23197,     0.22243,     0.21994,     0.21807,\n",
       "            0.21026,     0.19903,     0.18973,     0.18901,     0.18829,     0.18756,     0.18435,     0.18319,     0.18202,     0.17983,     0.17547,     0.17267,     0.17071,     0.16907,     0.16759,     0.16286,     0.15808,     0.15658,     0.14482,     0.13356,     0.13202,     0.12157,      0.1154,\n",
       "            0.11089,     0.10758,     0.10235,    0.099685,    0.097518,     0.09624,    0.094879,    0.092742,     0.08863,     0.08734,    0.086048,    0.081098,    0.069238,    0.067043,    0.064843,    0.058007,    0.055478,    0.053809,    0.048375,    0.046503,    0.045156,    0.043807,    0.036061,\n",
       "           0.033826,    0.033143,    0.032461,    0.031777,    0.031094,    0.030419,    0.029796,    0.029173,     0.02855,    0.027927,    0.027303,     0.02538,    0.023085,    0.020784,    0.020075,    0.019642,     0.01921,    0.018777,    0.018344,    0.017911,    0.017478,    0.017043,     0.01658,\n",
       "           0.016118,    0.015655,    0.015191,    0.014728,    0.014264,      0.0138,    0.010168,   0.0097313,   0.0092945,   0.0088574,   0.0084201,   0.0079827,   0.0075451,   0.0071072,    0.005325,           0,           0,           0,           0,           0,           0,           0,           0,\n",
       "                  0,           0,           0,           0,           0,           0,           0,           0,           0,           0,           0,           0,           0,           0,           0,           0,           0,           0,           0,           0,           0,           0,           0,\n",
       "                  0,           0,           0,           0,           0,           0,           0,           0,           0,           0,           0]]), 'Confidence', 'F1'], [array([          0,    0.001001,    0.002002,    0.003003,    0.004004,    0.005005,    0.006006,    0.007007,    0.008008,    0.009009,     0.01001,    0.011011,    0.012012,    0.013013,    0.014014,    0.015015,    0.016016,    0.017017,    0.018018,    0.019019,     0.02002,    0.021021,    0.022022,    0.023023,\n",
       "          0.024024,    0.025025,    0.026026,    0.027027,    0.028028,    0.029029,     0.03003,    0.031031,    0.032032,    0.033033,    0.034034,    0.035035,    0.036036,    0.037037,    0.038038,    0.039039,     0.04004,    0.041041,    0.042042,    0.043043,    0.044044,    0.045045,    0.046046,    0.047047,\n",
       "          0.048048,    0.049049,     0.05005,    0.051051,    0.052052,    0.053053,    0.054054,    0.055055,    0.056056,    0.057057,    0.058058,    0.059059,     0.06006,    0.061061,    0.062062,    0.063063,    0.064064,    0.065065,    0.066066,    0.067067,    0.068068,    0.069069,     0.07007,    0.071071,\n",
       "          0.072072,    0.073073,    0.074074,    0.075075,    0.076076,    0.077077,    0.078078,    0.079079,     0.08008,    0.081081,    0.082082,    0.083083,    0.084084,    0.085085,    0.086086,    0.087087,    0.088088,    0.089089,     0.09009,    0.091091,    0.092092,    0.093093,    0.094094,    0.095095,\n",
       "          0.096096,    0.097097,    0.098098,    0.099099,      0.1001,      0.1011,      0.1021,      0.1031,      0.1041,     0.10511,     0.10611,     0.10711,     0.10811,     0.10911,     0.11011,     0.11111,     0.11211,     0.11311,     0.11411,     0.11512,     0.11612,     0.11712,     0.11812,     0.11912,\n",
       "           0.12012,     0.12112,     0.12212,     0.12312,     0.12412,     0.12513,     0.12613,     0.12713,     0.12813,     0.12913,     0.13013,     0.13113,     0.13213,     0.13313,     0.13413,     0.13514,     0.13614,     0.13714,     0.13814,     0.13914,     0.14014,     0.14114,     0.14214,     0.14314,\n",
       "           0.14414,     0.14515,     0.14615,     0.14715,     0.14815,     0.14915,     0.15015,     0.15115,     0.15215,     0.15315,     0.15415,     0.15516,     0.15616,     0.15716,     0.15816,     0.15916,     0.16016,     0.16116,     0.16216,     0.16316,     0.16416,     0.16517,     0.16617,     0.16717,\n",
       "           0.16817,     0.16917,     0.17017,     0.17117,     0.17217,     0.17317,     0.17417,     0.17518,     0.17618,     0.17718,     0.17818,     0.17918,     0.18018,     0.18118,     0.18218,     0.18318,     0.18418,     0.18519,     0.18619,     0.18719,     0.18819,     0.18919,     0.19019,     0.19119,\n",
       "           0.19219,     0.19319,     0.19419,      0.1952,      0.1962,      0.1972,      0.1982,      0.1992,      0.2002,      0.2012,      0.2022,      0.2032,      0.2042,     0.20521,     0.20621,     0.20721,     0.20821,     0.20921,     0.21021,     0.21121,     0.21221,     0.21321,     0.21421,     0.21522,\n",
       "           0.21622,     0.21722,     0.21822,     0.21922,     0.22022,     0.22122,     0.22222,     0.22322,     0.22422,     0.22523,     0.22623,     0.22723,     0.22823,     0.22923,     0.23023,     0.23123,     0.23223,     0.23323,     0.23423,     0.23524,     0.23624,     0.23724,     0.23824,     0.23924,\n",
       "           0.24024,     0.24124,     0.24224,     0.24324,     0.24424,     0.24525,     0.24625,     0.24725,     0.24825,     0.24925,     0.25025,     0.25125,     0.25225,     0.25325,     0.25425,     0.25526,     0.25626,     0.25726,     0.25826,     0.25926,     0.26026,     0.26126,     0.26226,     0.26326,\n",
       "           0.26426,     0.26527,     0.26627,     0.26727,     0.26827,     0.26927,     0.27027,     0.27127,     0.27227,     0.27327,     0.27427,     0.27528,     0.27628,     0.27728,     0.27828,     0.27928,     0.28028,     0.28128,     0.28228,     0.28328,     0.28428,     0.28529,     0.28629,     0.28729,\n",
       "           0.28829,     0.28929,     0.29029,     0.29129,     0.29229,     0.29329,     0.29429,      0.2953,      0.2963,      0.2973,      0.2983,      0.2993,      0.3003,      0.3013,      0.3023,      0.3033,      0.3043,     0.30531,     0.30631,     0.30731,     0.30831,     0.30931,     0.31031,     0.31131,\n",
       "           0.31231,     0.31331,     0.31431,     0.31532,     0.31632,     0.31732,     0.31832,     0.31932,     0.32032,     0.32132,     0.32232,     0.32332,     0.32432,     0.32533,     0.32633,     0.32733,     0.32833,     0.32933,     0.33033,     0.33133,     0.33233,     0.33333,     0.33433,     0.33534,\n",
       "           0.33634,     0.33734,     0.33834,     0.33934,     0.34034,     0.34134,     0.34234,     0.34334,     0.34434,     0.34535,     0.34635,     0.34735,     0.34835,     0.34935,     0.35035,     0.35135,     0.35235,     0.35335,     0.35435,     0.35536,     0.35636,     0.35736,     0.35836,     0.35936,\n",
       "           0.36036,     0.36136,     0.36236,     0.36336,     0.36436,     0.36537,     0.36637,     0.36737,     0.36837,     0.36937,     0.37037,     0.37137,     0.37237,     0.37337,     0.37437,     0.37538,     0.37638,     0.37738,     0.37838,     0.37938,     0.38038,     0.38138,     0.38238,     0.38338,\n",
       "           0.38438,     0.38539,     0.38639,     0.38739,     0.38839,     0.38939,     0.39039,     0.39139,     0.39239,     0.39339,     0.39439,      0.3954,      0.3964,      0.3974,      0.3984,      0.3994,      0.4004,      0.4014,      0.4024,      0.4034,      0.4044,     0.40541,     0.40641,     0.40741,\n",
       "           0.40841,     0.40941,     0.41041,     0.41141,     0.41241,     0.41341,     0.41441,     0.41542,     0.41642,     0.41742,     0.41842,     0.41942,     0.42042,     0.42142,     0.42242,     0.42342,     0.42442,     0.42543,     0.42643,     0.42743,     0.42843,     0.42943,     0.43043,     0.43143,\n",
       "           0.43243,     0.43343,     0.43443,     0.43544,     0.43644,     0.43744,     0.43844,     0.43944,     0.44044,     0.44144,     0.44244,     0.44344,     0.44444,     0.44545,     0.44645,     0.44745,     0.44845,     0.44945,     0.45045,     0.45145,     0.45245,     0.45345,     0.45445,     0.45546,\n",
       "           0.45646,     0.45746,     0.45846,     0.45946,     0.46046,     0.46146,     0.46246,     0.46346,     0.46446,     0.46547,     0.46647,     0.46747,     0.46847,     0.46947,     0.47047,     0.47147,     0.47247,     0.47347,     0.47447,     0.47548,     0.47648,     0.47748,     0.47848,     0.47948,\n",
       "           0.48048,     0.48148,     0.48248,     0.48348,     0.48448,     0.48549,     0.48649,     0.48749,     0.48849,     0.48949,     0.49049,     0.49149,     0.49249,     0.49349,     0.49449,      0.4955,      0.4965,      0.4975,      0.4985,      0.4995,      0.5005,      0.5015,      0.5025,      0.5035,\n",
       "            0.5045,     0.50551,     0.50651,     0.50751,     0.50851,     0.50951,     0.51051,     0.51151,     0.51251,     0.51351,     0.51451,     0.51552,     0.51652,     0.51752,     0.51852,     0.51952,     0.52052,     0.52152,     0.52252,     0.52352,     0.52452,     0.52553,     0.52653,     0.52753,\n",
       "           0.52853,     0.52953,     0.53053,     0.53153,     0.53253,     0.53353,     0.53453,     0.53554,     0.53654,     0.53754,     0.53854,     0.53954,     0.54054,     0.54154,     0.54254,     0.54354,     0.54454,     0.54555,     0.54655,     0.54755,     0.54855,     0.54955,     0.55055,     0.55155,\n",
       "           0.55255,     0.55355,     0.55455,     0.55556,     0.55656,     0.55756,     0.55856,     0.55956,     0.56056,     0.56156,     0.56256,     0.56356,     0.56456,     0.56557,     0.56657,     0.56757,     0.56857,     0.56957,     0.57057,     0.57157,     0.57257,     0.57357,     0.57457,     0.57558,\n",
       "           0.57658,     0.57758,     0.57858,     0.57958,     0.58058,     0.58158,     0.58258,     0.58358,     0.58458,     0.58559,     0.58659,     0.58759,     0.58859,     0.58959,     0.59059,     0.59159,     0.59259,     0.59359,     0.59459,      0.5956,      0.5966,      0.5976,      0.5986,      0.5996,\n",
       "            0.6006,      0.6016,      0.6026,      0.6036,      0.6046,     0.60561,     0.60661,     0.60761,     0.60861,     0.60961,     0.61061,     0.61161,     0.61261,     0.61361,     0.61461,     0.61562,     0.61662,     0.61762,     0.61862,     0.61962,     0.62062,     0.62162,     0.62262,     0.62362,\n",
       "           0.62462,     0.62563,     0.62663,     0.62763,     0.62863,     0.62963,     0.63063,     0.63163,     0.63263,     0.63363,     0.63463,     0.63564,     0.63664,     0.63764,     0.63864,     0.63964,     0.64064,     0.64164,     0.64264,     0.64364,     0.64464,     0.64565,     0.64665,     0.64765,\n",
       "           0.64865,     0.64965,     0.65065,     0.65165,     0.65265,     0.65365,     0.65465,     0.65566,     0.65666,     0.65766,     0.65866,     0.65966,     0.66066,     0.66166,     0.66266,     0.66366,     0.66466,     0.66567,     0.66667,     0.66767,     0.66867,     0.66967,     0.67067,     0.67167,\n",
       "           0.67267,     0.67367,     0.67467,     0.67568,     0.67668,     0.67768,     0.67868,     0.67968,     0.68068,     0.68168,     0.68268,     0.68368,     0.68468,     0.68569,     0.68669,     0.68769,     0.68869,     0.68969,     0.69069,     0.69169,     0.69269,     0.69369,     0.69469,      0.6957,\n",
       "            0.6967,      0.6977,      0.6987,      0.6997,      0.7007,      0.7017,      0.7027,      0.7037,      0.7047,     0.70571,     0.70671,     0.70771,     0.70871,     0.70971,     0.71071,     0.71171,     0.71271,     0.71371,     0.71471,     0.71572,     0.71672,     0.71772,     0.71872,     0.71972,\n",
       "           0.72072,     0.72172,     0.72272,     0.72372,     0.72472,     0.72573,     0.72673,     0.72773,     0.72873,     0.72973,     0.73073,     0.73173,     0.73273,     0.73373,     0.73473,     0.73574,     0.73674,     0.73774,     0.73874,     0.73974,     0.74074,     0.74174,     0.74274,     0.74374,\n",
       "           0.74474,     0.74575,     0.74675,     0.74775,     0.74875,     0.74975,     0.75075,     0.75175,     0.75275,     0.75375,     0.75475,     0.75576,     0.75676,     0.75776,     0.75876,     0.75976,     0.76076,     0.76176,     0.76276,     0.76376,     0.76476,     0.76577,     0.76677,     0.76777,\n",
       "           0.76877,     0.76977,     0.77077,     0.77177,     0.77277,     0.77377,     0.77477,     0.77578,     0.77678,     0.77778,     0.77878,     0.77978,     0.78078,     0.78178,     0.78278,     0.78378,     0.78478,     0.78579,     0.78679,     0.78779,     0.78879,     0.78979,     0.79079,     0.79179,\n",
       "           0.79279,     0.79379,     0.79479,      0.7958,      0.7968,      0.7978,      0.7988,      0.7998,      0.8008,      0.8018,      0.8028,      0.8038,      0.8048,     0.80581,     0.80681,     0.80781,     0.80881,     0.80981,     0.81081,     0.81181,     0.81281,     0.81381,     0.81481,     0.81582,\n",
       "           0.81682,     0.81782,     0.81882,     0.81982,     0.82082,     0.82182,     0.82282,     0.82382,     0.82482,     0.82583,     0.82683,     0.82783,     0.82883,     0.82983,     0.83083,     0.83183,     0.83283,     0.83383,     0.83483,     0.83584,     0.83684,     0.83784,     0.83884,     0.83984,\n",
       "           0.84084,     0.84184,     0.84284,     0.84384,     0.84484,     0.84585,     0.84685,     0.84785,     0.84885,     0.84985,     0.85085,     0.85185,     0.85285,     0.85385,     0.85485,     0.85586,     0.85686,     0.85786,     0.85886,     0.85986,     0.86086,     0.86186,     0.86286,     0.86386,\n",
       "           0.86486,     0.86587,     0.86687,     0.86787,     0.86887,     0.86987,     0.87087,     0.87187,     0.87287,     0.87387,     0.87487,     0.87588,     0.87688,     0.87788,     0.87888,     0.87988,     0.88088,     0.88188,     0.88288,     0.88388,     0.88488,     0.88589,     0.88689,     0.88789,\n",
       "           0.88889,     0.88989,     0.89089,     0.89189,     0.89289,     0.89389,     0.89489,      0.8959,      0.8969,      0.8979,      0.8989,      0.8999,      0.9009,      0.9019,      0.9029,      0.9039,      0.9049,     0.90591,     0.90691,     0.90791,     0.90891,     0.90991,     0.91091,     0.91191,\n",
       "           0.91291,     0.91391,     0.91491,     0.91592,     0.91692,     0.91792,     0.91892,     0.91992,     0.92092,     0.92192,     0.92292,     0.92392,     0.92492,     0.92593,     0.92693,     0.92793,     0.92893,     0.92993,     0.93093,     0.93193,     0.93293,     0.93393,     0.93493,     0.93594,\n",
       "           0.93694,     0.93794,     0.93894,     0.93994,     0.94094,     0.94194,     0.94294,     0.94394,     0.94494,     0.94595,     0.94695,     0.94795,     0.94895,     0.94995,     0.95095,     0.95195,     0.95295,     0.95395,     0.95495,     0.95596,     0.95696,     0.95796,     0.95896,     0.95996,\n",
       "           0.96096,     0.96196,     0.96296,     0.96396,     0.96496,     0.96597,     0.96697,     0.96797,     0.96897,     0.96997,     0.97097,     0.97197,     0.97297,     0.97397,     0.97497,     0.97598,     0.97698,     0.97798,     0.97898,     0.97998,     0.98098,     0.98198,     0.98298,     0.98398,\n",
       "           0.98498,     0.98599,     0.98699,     0.98799,     0.98899,     0.98999,     0.99099,     0.99199,     0.99299,     0.99399,     0.99499,       0.996,       0.997,       0.998,       0.999,           1]), array([[     0.1548,      0.1548,     0.22668,     0.27432,      0.3052,     0.32931,     0.35063,     0.36953,     0.38357,     0.39767,     0.41392,     0.42328,     0.43723,     0.44371,     0.45356,       0.458,     0.46527,     0.47135,     0.47668,     0.48122,     0.48577,     0.48895,     0.49243,\n",
       "             0.5006,     0.50553,     0.51058,     0.51582,      0.5186,     0.52138,     0.52489,     0.52809,     0.53072,     0.53698,     0.53989,     0.54258,     0.54549,     0.54779,     0.55183,     0.55385,     0.55502,      0.5574,     0.55997,     0.56152,     0.56423,     0.56548,     0.56743,\n",
       "            0.57035,     0.57211,     0.57239,     0.57321,     0.57564,     0.57903,     0.58341,      0.5838,     0.58512,     0.58563,     0.58603,     0.58914,     0.58991,     0.59061,     0.59227,      0.5962,     0.59677,     0.59945,      0.5998,     0.60032,     0.60239,     0.60259,     0.60435,\n",
       "              0.606,     0.60765,     0.60865,     0.60908,      0.6095,     0.60997,     0.61154,     0.61278,     0.61366,     0.61465,     0.61587,     0.61633,     0.61659,     0.61665,     0.61949,     0.62133,     0.62135,      0.6238,      0.6252,     0.62737,     0.62867,     0.62912,     0.63101,\n",
       "            0.63146,     0.63178,     0.63205,     0.63237,     0.63332,     0.63389,     0.63421,      0.6348,     0.63589,     0.63784,     0.63975,     0.63998,      0.6402,     0.64047,     0.64088,     0.64266,     0.64366,     0.64524,     0.64553,     0.64581,     0.64679,     0.64744,     0.64929,\n",
       "            0.65083,     0.65161,     0.65169,     0.65361,     0.65468,     0.65463,     0.65449,     0.65435,     0.65488,     0.65655,     0.65696,     0.65725,     0.65757,     0.65807,     0.65924,        0.66,     0.66059,     0.66068,     0.66377,     0.66782,     0.66847,     0.66868,     0.66889,\n",
       "             0.6691,     0.67005,     0.67061,     0.67148,     0.67346,     0.67402,     0.67468,     0.67448,     0.67617,     0.67778,     0.67924,     0.68097,     0.68272,     0.68477,     0.68675,      0.6865,     0.68783,     0.68879,     0.69057,       0.691,     0.69138,     0.69173,     0.69207,\n",
       "            0.69229,      0.6925,     0.69271,     0.69291,     0.69572,     0.69628,     0.69733,      0.6982,     0.69867,     0.69908,     0.70081,       0.702,     0.70218,     0.70533,     0.70635,     0.70676,     0.70694,     0.70712,      0.7073,     0.70748,     0.70889,     0.71092,     0.71441,\n",
       "            0.71468,     0.71615,     0.71677,     0.71755,     0.71833,     0.71795,     0.71825,     0.71856,     0.71836,     0.71865,     0.71918,     0.72004,     0.72082,     0.72132,     0.72384,     0.72605,     0.72651,      0.7268,       0.729,     0.73091,     0.73132,     0.73173,     0.73235,\n",
       "            0.73337,       0.735,     0.73648,     0.73747,     0.73961,     0.74109,     0.74162,     0.74295,     0.74205,     0.74328,     0.74498,     0.74672,     0.74724,      0.7493,     0.75198,     0.75352,     0.75474,      0.7557,     0.75685,     0.75874,     0.75956,     0.76193,     0.76219,\n",
       "            0.76246,     0.76272,     0.76299,     0.76512,     0.76624,     0.76678,     0.76956,      0.7701,     0.77264,     0.77342,      0.7772,     0.78008,     0.78024,     0.78035,     0.78114,     0.78193,     0.78305,     0.78296,     0.78323,     0.78355,     0.78388,     0.78455,     0.78616,\n",
       "            0.78746,     0.78837,     0.78793,     0.78956,      0.7901,     0.79141,     0.79529,     0.79613,     0.79727,     0.79855,     0.80024,     0.80143,     0.80238,     0.80324,     0.80336,     0.80376,     0.80415,      0.8043,     0.80419,     0.80409,     0.80512,     0.80903,     0.80947,\n",
       "             0.8099,     0.80993,     0.80976,      0.8103,     0.81089,      0.8116,     0.81235,     0.81323,     0.81519,     0.81572,      0.8162,     0.81643,     0.81666,     0.81689,     0.81712,     0.81735,     0.81843,     0.81985,     0.82051,     0.82105,      0.8234,     0.82584,     0.82661,\n",
       "            0.82643,      0.8267,     0.82697,     0.82725,     0.82752,     0.82817,     0.82924,     0.82979,     0.83034,     0.83157,     0.83276,      0.8326,     0.83233,     0.83246,     0.83272,     0.83299,     0.83325,     0.83352,     0.83336,     0.83437,      0.8352,     0.83627,     0.83929,\n",
       "            0.84024,     0.84081,      0.8428,     0.84362,     0.84469,     0.84569,      0.8461,     0.84651,     0.84692,     0.84663,     0.84648,     0.84663,     0.84702,      0.8474,     0.84779,     0.84755,     0.84746,     0.84736,     0.84758,     0.84811,     0.84864,     0.85016,     0.85007,\n",
       "            0.84997,      0.8505,     0.85276,     0.85269,     0.85261,       0.854,     0.85474,     0.85556,     0.85696,     0.85714,     0.85732,      0.8575,     0.85769,     0.85787,     0.85805,     0.85823,     0.85829,     0.85857,     0.85948,     0.85931,     0.85924,     0.85918,     0.85911,\n",
       "            0.85982,     0.86057,     0.86072,     0.86085,     0.86099,     0.86112,     0.86126,     0.86139,     0.86153,     0.86166,      0.8618,     0.86194,     0.86207,     0.86248,     0.86289,     0.86329,      0.8641,     0.86538,     0.86626,      0.8667,     0.86693,     0.86716,     0.86739,\n",
       "            0.86762,     0.86785,     0.86959,     0.86986,     0.87013,      0.8704,     0.87067,     0.87094,     0.87105,     0.87099,     0.87093,     0.87087,     0.87232,     0.87224,     0.87216,     0.87355,     0.87375,     0.87653,     0.87649,     0.87644,      0.8764,     0.87636,     0.87662,\n",
       "            0.87753,     0.87837,     0.87917,     0.87938,     0.87931,     0.87924,     0.88041,      0.8814,      0.8822,     0.88229,     0.88221,     0.88211,      0.8819,     0.88161,     0.88215,     0.88269,     0.88351,     0.88484,     0.88538,     0.88593,     0.88621,     0.88603,     0.88591,\n",
       "            0.88734,     0.88764,     0.88847,     0.88853,      0.8884,      0.8883,     0.88826,     0.88824,     0.88821,     0.88819,     0.88817,     0.88814,     0.88812,      0.8881,      0.8881,     0.88894,     0.88972,     0.88994,     0.89016,     0.89037,     0.89059,     0.89081,     0.89102,\n",
       "            0.89124,     0.89132,     0.89127,     0.89121,     0.89116,      0.8911,     0.89103,     0.89096,     0.89092,     0.89088,     0.89085,     0.89082,     0.89078,     0.89075,     0.89217,     0.89386,     0.89402,     0.89399,     0.89395,     0.89392,     0.89389,     0.89387,     0.89421,\n",
       "            0.89455,     0.89489,     0.89523,     0.89551,     0.89545,     0.89538,     0.89572,     0.89745,     0.89863,     0.89847,     0.89837,     0.89827,     0.89817,     0.89881,     0.89954,     0.89941,     0.89936,     0.89931,     0.89926,     0.89956,     0.90015,     0.90073,     0.90089,\n",
       "             0.9008,     0.90072,     0.90066,     0.90059,     0.90101,      0.9016,     0.90219,     0.90214,     0.90206,     0.90199,     0.90193,     0.90186,      0.9018,     0.90173,     0.90153,     0.90151,     0.90149,     0.90147,     0.90146,     0.90144,     0.90142,      0.9014,     0.90138,\n",
       "            0.90137,     0.90314,     0.90404,     0.90447,     0.90443,      0.9044,     0.90436,     0.90432,     0.90421,     0.90407,     0.90397,      0.9039,     0.90385,      0.9038,     0.90375,     0.90343,     0.90333,     0.90329,     0.90325,     0.90321,     0.90317,     0.90453,     0.90488,\n",
       "            0.90478,     0.90441,      0.9043,      0.9042,     0.90466,     0.90519,     0.90572,     0.90591,     0.90571,     0.90561,     0.90558,     0.90555,     0.90552,      0.9055,     0.90547,     0.90544,     0.90608,     0.90702,     0.90777,     0.90871,     0.91041,     0.91153,     0.91248,\n",
       "            0.91226,      0.9122,     0.91216,     0.91211,     0.91207,     0.91183,     0.91178,     0.91173,     0.91151,     0.91148,     0.91145,     0.91143,      0.9114,     0.91137,     0.91135,      0.9112,     0.91265,     0.91297,     0.91288,      0.9128,     0.91273,     0.91246,     0.91237,\n",
       "             0.9132,     0.91418,     0.91409,     0.91395,     0.91423,     0.91489,     0.91554,     0.91568,     0.91712,     0.91701,     0.91698,     0.91694,     0.91691,     0.91687,     0.91679,     0.91661,     0.91624,     0.91608,     0.91596,      0.9156,      0.9155,      0.9154,     0.91739,\n",
       "            0.91734,      0.9173,     0.91725,     0.91699,     0.91814,     0.91874,     0.91862,     0.91853,      0.9204,     0.92022,     0.92179,     0.92147,     0.92132,     0.92123,     0.92092,     0.92098,     0.92184,      0.9227,     0.92255,      0.9222,      0.9221,     0.92165,       0.924,\n",
       "            0.92513,     0.92495,     0.92482,     0.92473,     0.92422,     0.92579,     0.92561,     0.92543,     0.92524,     0.92463,     0.92667,     0.92639,      0.9263,     0.92612,     0.92566,     0.92612,      0.9273,     0.92911,     0.92946,     0.92928,     0.92909,     0.92927,     0.93157,\n",
       "            0.93293,     0.93284,     0.93553,     0.93595,     0.93636,     0.93678,     0.93719,     0.93761,     0.93752,     0.93719,     0.93674,      0.9366,     0.93643,     0.93617,     0.93611,      0.9385,     0.93838,     0.93812,     0.93804,     0.93864,     0.93987,     0.93979,     0.94081,\n",
       "            0.94211,     0.94207,     0.94202,     0.94177,     0.94408,     0.94396,     0.94392,     0.94388,     0.94384,     0.94329,     0.94285,     0.94281,     0.94521,     0.94708,     0.94761,      0.9475,      0.9472,     0.94714,     0.94708,     0.94829,     0.94924,     0.94918,     0.94911,\n",
       "            0.94897,     0.94882,     0.94842,      0.9482,      0.9506,     0.95062,     0.95036,     0.94981,     0.94975,     0.94966,     0.94948,      0.9494,     0.94914,     0.94899,     0.94885,      0.9488,     0.94875,     0.94863,     0.95082,     0.95096,     0.95089,     0.95083,     0.95077,\n",
       "            0.95072,     0.95066,     0.95059,     0.95053,     0.95011,     0.94999,     0.94974,     0.94956,     0.94936,     0.95316,     0.95538,     0.95495,     0.95479,     0.95463,      0.9545,     0.95419,     0.95408,     0.95399,     0.95391,     0.95359,     0.95686,     0.95637,     0.95785,\n",
       "            0.95966,      0.9594,     0.95918,     0.95895,     0.95884,     0.95874,      0.9586,     0.95826,     0.95798,     0.95778,     0.95682,      0.9566,     0.95638,     0.95541,     0.95516,     0.95864,     0.95852,     0.95823,     0.95783,     0.96141,     0.96104,      0.9607,     0.96058,\n",
       "               0.96,     0.95992,     0.95985,     0.95952,     0.95907,     0.95894,     0.95851,     0.95843,     0.95835,     0.95818,     0.95798,     0.95783,     0.95772,     0.95764,     0.95755,     0.95705,     0.95653,     0.95921,     0.96551,     0.96999,     0.96985,     0.96979,     0.96974,\n",
       "            0.96918,     0.96823,     0.96812,     0.97291,     0.97272,     0.97229,     0.97188,     0.97177,     0.97162,     0.97152,     0.97144,     0.97107,     0.97102,     0.97096,     0.97068,     0.97023,     0.97004,     0.96978,     0.96921,     0.97236,     0.97346,     0.97291,     0.97274,\n",
       "            0.97266,     0.97213,     0.97159,     0.97146,     0.97132,     0.97115,     0.97064,     0.96997,     0.96978,     0.96963,     0.96947,     0.96899,     0.96849,     0.96747,     0.97518,     0.97487,     0.97452,     0.97342,     0.97313,      0.9728,     0.97235,     0.97183,     0.97149,\n",
       "            0.97099,      0.9702,      0.9699,     0.97955,     0.97944,     0.97929,     0.98837,           1,           1,           1,           1,           1,           1,           1,           1,           1,           1,           1,           1,           1,           1,           1,           1,\n",
       "                  1,           1,           1,           1,           1,           1,           1,           1,           1,           1,           1,           1,           1,           1,           1,           1,           1,           1,           1,           1,           1,           1,           1,\n",
       "                  1,           1,           1,           1,           1,           1,           1,           1,           1,           1,           1,           1,           1,           1,           1,           1,           1,           1,           1,           1,           1,           1,           1,\n",
       "                  1,           1,           1,           1,           1,           1,           1,           1,           1,           1,           1,           1,           1,           1,           1,           1,           1,           1,           1,           1,           1,           1,           1,\n",
       "                  1,           1,           1,           1,           1,           1,           1,           1,           1,           1,           1,           1,           1,           1,           1,           1,           1,           1,           1,           1,           1,           1,           1,\n",
       "                  1,           1,           1,           1,           1,           1,           1,           1,           1,           1,           1,           1,           1,           1,           1,           1,           1,           1,           1,           1,           1,           1,           1,\n",
       "                  1,           1,           1,           1,           1,           1,           1,           1,           1,           1,           1]]), 'Confidence', 'Precision'], [array([          0,    0.001001,    0.002002,    0.003003,    0.004004,    0.005005,    0.006006,    0.007007,    0.008008,    0.009009,     0.01001,    0.011011,    0.012012,    0.013013,    0.014014,    0.015015,    0.016016,    0.017017,    0.018018,    0.019019,     0.02002,    0.021021,    0.022022,    0.023023,\n",
       "          0.024024,    0.025025,    0.026026,    0.027027,    0.028028,    0.029029,     0.03003,    0.031031,    0.032032,    0.033033,    0.034034,    0.035035,    0.036036,    0.037037,    0.038038,    0.039039,     0.04004,    0.041041,    0.042042,    0.043043,    0.044044,    0.045045,    0.046046,    0.047047,\n",
       "          0.048048,    0.049049,     0.05005,    0.051051,    0.052052,    0.053053,    0.054054,    0.055055,    0.056056,    0.057057,    0.058058,    0.059059,     0.06006,    0.061061,    0.062062,    0.063063,    0.064064,    0.065065,    0.066066,    0.067067,    0.068068,    0.069069,     0.07007,    0.071071,\n",
       "          0.072072,    0.073073,    0.074074,    0.075075,    0.076076,    0.077077,    0.078078,    0.079079,     0.08008,    0.081081,    0.082082,    0.083083,    0.084084,    0.085085,    0.086086,    0.087087,    0.088088,    0.089089,     0.09009,    0.091091,    0.092092,    0.093093,    0.094094,    0.095095,\n",
       "          0.096096,    0.097097,    0.098098,    0.099099,      0.1001,      0.1011,      0.1021,      0.1031,      0.1041,     0.10511,     0.10611,     0.10711,     0.10811,     0.10911,     0.11011,     0.11111,     0.11211,     0.11311,     0.11411,     0.11512,     0.11612,     0.11712,     0.11812,     0.11912,\n",
       "           0.12012,     0.12112,     0.12212,     0.12312,     0.12412,     0.12513,     0.12613,     0.12713,     0.12813,     0.12913,     0.13013,     0.13113,     0.13213,     0.13313,     0.13413,     0.13514,     0.13614,     0.13714,     0.13814,     0.13914,     0.14014,     0.14114,     0.14214,     0.14314,\n",
       "           0.14414,     0.14515,     0.14615,     0.14715,     0.14815,     0.14915,     0.15015,     0.15115,     0.15215,     0.15315,     0.15415,     0.15516,     0.15616,     0.15716,     0.15816,     0.15916,     0.16016,     0.16116,     0.16216,     0.16316,     0.16416,     0.16517,     0.16617,     0.16717,\n",
       "           0.16817,     0.16917,     0.17017,     0.17117,     0.17217,     0.17317,     0.17417,     0.17518,     0.17618,     0.17718,     0.17818,     0.17918,     0.18018,     0.18118,     0.18218,     0.18318,     0.18418,     0.18519,     0.18619,     0.18719,     0.18819,     0.18919,     0.19019,     0.19119,\n",
       "           0.19219,     0.19319,     0.19419,      0.1952,      0.1962,      0.1972,      0.1982,      0.1992,      0.2002,      0.2012,      0.2022,      0.2032,      0.2042,     0.20521,     0.20621,     0.20721,     0.20821,     0.20921,     0.21021,     0.21121,     0.21221,     0.21321,     0.21421,     0.21522,\n",
       "           0.21622,     0.21722,     0.21822,     0.21922,     0.22022,     0.22122,     0.22222,     0.22322,     0.22422,     0.22523,     0.22623,     0.22723,     0.22823,     0.22923,     0.23023,     0.23123,     0.23223,     0.23323,     0.23423,     0.23524,     0.23624,     0.23724,     0.23824,     0.23924,\n",
       "           0.24024,     0.24124,     0.24224,     0.24324,     0.24424,     0.24525,     0.24625,     0.24725,     0.24825,     0.24925,     0.25025,     0.25125,     0.25225,     0.25325,     0.25425,     0.25526,     0.25626,     0.25726,     0.25826,     0.25926,     0.26026,     0.26126,     0.26226,     0.26326,\n",
       "           0.26426,     0.26527,     0.26627,     0.26727,     0.26827,     0.26927,     0.27027,     0.27127,     0.27227,     0.27327,     0.27427,     0.27528,     0.27628,     0.27728,     0.27828,     0.27928,     0.28028,     0.28128,     0.28228,     0.28328,     0.28428,     0.28529,     0.28629,     0.28729,\n",
       "           0.28829,     0.28929,     0.29029,     0.29129,     0.29229,     0.29329,     0.29429,      0.2953,      0.2963,      0.2973,      0.2983,      0.2993,      0.3003,      0.3013,      0.3023,      0.3033,      0.3043,     0.30531,     0.30631,     0.30731,     0.30831,     0.30931,     0.31031,     0.31131,\n",
       "           0.31231,     0.31331,     0.31431,     0.31532,     0.31632,     0.31732,     0.31832,     0.31932,     0.32032,     0.32132,     0.32232,     0.32332,     0.32432,     0.32533,     0.32633,     0.32733,     0.32833,     0.32933,     0.33033,     0.33133,     0.33233,     0.33333,     0.33433,     0.33534,\n",
       "           0.33634,     0.33734,     0.33834,     0.33934,     0.34034,     0.34134,     0.34234,     0.34334,     0.34434,     0.34535,     0.34635,     0.34735,     0.34835,     0.34935,     0.35035,     0.35135,     0.35235,     0.35335,     0.35435,     0.35536,     0.35636,     0.35736,     0.35836,     0.35936,\n",
       "           0.36036,     0.36136,     0.36236,     0.36336,     0.36436,     0.36537,     0.36637,     0.36737,     0.36837,     0.36937,     0.37037,     0.37137,     0.37237,     0.37337,     0.37437,     0.37538,     0.37638,     0.37738,     0.37838,     0.37938,     0.38038,     0.38138,     0.38238,     0.38338,\n",
       "           0.38438,     0.38539,     0.38639,     0.38739,     0.38839,     0.38939,     0.39039,     0.39139,     0.39239,     0.39339,     0.39439,      0.3954,      0.3964,      0.3974,      0.3984,      0.3994,      0.4004,      0.4014,      0.4024,      0.4034,      0.4044,     0.40541,     0.40641,     0.40741,\n",
       "           0.40841,     0.40941,     0.41041,     0.41141,     0.41241,     0.41341,     0.41441,     0.41542,     0.41642,     0.41742,     0.41842,     0.41942,     0.42042,     0.42142,     0.42242,     0.42342,     0.42442,     0.42543,     0.42643,     0.42743,     0.42843,     0.42943,     0.43043,     0.43143,\n",
       "           0.43243,     0.43343,     0.43443,     0.43544,     0.43644,     0.43744,     0.43844,     0.43944,     0.44044,     0.44144,     0.44244,     0.44344,     0.44444,     0.44545,     0.44645,     0.44745,     0.44845,     0.44945,     0.45045,     0.45145,     0.45245,     0.45345,     0.45445,     0.45546,\n",
       "           0.45646,     0.45746,     0.45846,     0.45946,     0.46046,     0.46146,     0.46246,     0.46346,     0.46446,     0.46547,     0.46647,     0.46747,     0.46847,     0.46947,     0.47047,     0.47147,     0.47247,     0.47347,     0.47447,     0.47548,     0.47648,     0.47748,     0.47848,     0.47948,\n",
       "           0.48048,     0.48148,     0.48248,     0.48348,     0.48448,     0.48549,     0.48649,     0.48749,     0.48849,     0.48949,     0.49049,     0.49149,     0.49249,     0.49349,     0.49449,      0.4955,      0.4965,      0.4975,      0.4985,      0.4995,      0.5005,      0.5015,      0.5025,      0.5035,\n",
       "            0.5045,     0.50551,     0.50651,     0.50751,     0.50851,     0.50951,     0.51051,     0.51151,     0.51251,     0.51351,     0.51451,     0.51552,     0.51652,     0.51752,     0.51852,     0.51952,     0.52052,     0.52152,     0.52252,     0.52352,     0.52452,     0.52553,     0.52653,     0.52753,\n",
       "           0.52853,     0.52953,     0.53053,     0.53153,     0.53253,     0.53353,     0.53453,     0.53554,     0.53654,     0.53754,     0.53854,     0.53954,     0.54054,     0.54154,     0.54254,     0.54354,     0.54454,     0.54555,     0.54655,     0.54755,     0.54855,     0.54955,     0.55055,     0.55155,\n",
       "           0.55255,     0.55355,     0.55455,     0.55556,     0.55656,     0.55756,     0.55856,     0.55956,     0.56056,     0.56156,     0.56256,     0.56356,     0.56456,     0.56557,     0.56657,     0.56757,     0.56857,     0.56957,     0.57057,     0.57157,     0.57257,     0.57357,     0.57457,     0.57558,\n",
       "           0.57658,     0.57758,     0.57858,     0.57958,     0.58058,     0.58158,     0.58258,     0.58358,     0.58458,     0.58559,     0.58659,     0.58759,     0.58859,     0.58959,     0.59059,     0.59159,     0.59259,     0.59359,     0.59459,      0.5956,      0.5966,      0.5976,      0.5986,      0.5996,\n",
       "            0.6006,      0.6016,      0.6026,      0.6036,      0.6046,     0.60561,     0.60661,     0.60761,     0.60861,     0.60961,     0.61061,     0.61161,     0.61261,     0.61361,     0.61461,     0.61562,     0.61662,     0.61762,     0.61862,     0.61962,     0.62062,     0.62162,     0.62262,     0.62362,\n",
       "           0.62462,     0.62563,     0.62663,     0.62763,     0.62863,     0.62963,     0.63063,     0.63163,     0.63263,     0.63363,     0.63463,     0.63564,     0.63664,     0.63764,     0.63864,     0.63964,     0.64064,     0.64164,     0.64264,     0.64364,     0.64464,     0.64565,     0.64665,     0.64765,\n",
       "           0.64865,     0.64965,     0.65065,     0.65165,     0.65265,     0.65365,     0.65465,     0.65566,     0.65666,     0.65766,     0.65866,     0.65966,     0.66066,     0.66166,     0.66266,     0.66366,     0.66466,     0.66567,     0.66667,     0.66767,     0.66867,     0.66967,     0.67067,     0.67167,\n",
       "           0.67267,     0.67367,     0.67467,     0.67568,     0.67668,     0.67768,     0.67868,     0.67968,     0.68068,     0.68168,     0.68268,     0.68368,     0.68468,     0.68569,     0.68669,     0.68769,     0.68869,     0.68969,     0.69069,     0.69169,     0.69269,     0.69369,     0.69469,      0.6957,\n",
       "            0.6967,      0.6977,      0.6987,      0.6997,      0.7007,      0.7017,      0.7027,      0.7037,      0.7047,     0.70571,     0.70671,     0.70771,     0.70871,     0.70971,     0.71071,     0.71171,     0.71271,     0.71371,     0.71471,     0.71572,     0.71672,     0.71772,     0.71872,     0.71972,\n",
       "           0.72072,     0.72172,     0.72272,     0.72372,     0.72472,     0.72573,     0.72673,     0.72773,     0.72873,     0.72973,     0.73073,     0.73173,     0.73273,     0.73373,     0.73473,     0.73574,     0.73674,     0.73774,     0.73874,     0.73974,     0.74074,     0.74174,     0.74274,     0.74374,\n",
       "           0.74474,     0.74575,     0.74675,     0.74775,     0.74875,     0.74975,     0.75075,     0.75175,     0.75275,     0.75375,     0.75475,     0.75576,     0.75676,     0.75776,     0.75876,     0.75976,     0.76076,     0.76176,     0.76276,     0.76376,     0.76476,     0.76577,     0.76677,     0.76777,\n",
       "           0.76877,     0.76977,     0.77077,     0.77177,     0.77277,     0.77377,     0.77477,     0.77578,     0.77678,     0.77778,     0.77878,     0.77978,     0.78078,     0.78178,     0.78278,     0.78378,     0.78478,     0.78579,     0.78679,     0.78779,     0.78879,     0.78979,     0.79079,     0.79179,\n",
       "           0.79279,     0.79379,     0.79479,      0.7958,      0.7968,      0.7978,      0.7988,      0.7998,      0.8008,      0.8018,      0.8028,      0.8038,      0.8048,     0.80581,     0.80681,     0.80781,     0.80881,     0.80981,     0.81081,     0.81181,     0.81281,     0.81381,     0.81481,     0.81582,\n",
       "           0.81682,     0.81782,     0.81882,     0.81982,     0.82082,     0.82182,     0.82282,     0.82382,     0.82482,     0.82583,     0.82683,     0.82783,     0.82883,     0.82983,     0.83083,     0.83183,     0.83283,     0.83383,     0.83483,     0.83584,     0.83684,     0.83784,     0.83884,     0.83984,\n",
       "           0.84084,     0.84184,     0.84284,     0.84384,     0.84484,     0.84585,     0.84685,     0.84785,     0.84885,     0.84985,     0.85085,     0.85185,     0.85285,     0.85385,     0.85485,     0.85586,     0.85686,     0.85786,     0.85886,     0.85986,     0.86086,     0.86186,     0.86286,     0.86386,\n",
       "           0.86486,     0.86587,     0.86687,     0.86787,     0.86887,     0.86987,     0.87087,     0.87187,     0.87287,     0.87387,     0.87487,     0.87588,     0.87688,     0.87788,     0.87888,     0.87988,     0.88088,     0.88188,     0.88288,     0.88388,     0.88488,     0.88589,     0.88689,     0.88789,\n",
       "           0.88889,     0.88989,     0.89089,     0.89189,     0.89289,     0.89389,     0.89489,      0.8959,      0.8969,      0.8979,      0.8989,      0.8999,      0.9009,      0.9019,      0.9029,      0.9039,      0.9049,     0.90591,     0.90691,     0.90791,     0.90891,     0.90991,     0.91091,     0.91191,\n",
       "           0.91291,     0.91391,     0.91491,     0.91592,     0.91692,     0.91792,     0.91892,     0.91992,     0.92092,     0.92192,     0.92292,     0.92392,     0.92492,     0.92593,     0.92693,     0.92793,     0.92893,     0.92993,     0.93093,     0.93193,     0.93293,     0.93393,     0.93493,     0.93594,\n",
       "           0.93694,     0.93794,     0.93894,     0.93994,     0.94094,     0.94194,     0.94294,     0.94394,     0.94494,     0.94595,     0.94695,     0.94795,     0.94895,     0.94995,     0.95095,     0.95195,     0.95295,     0.95395,     0.95495,     0.95596,     0.95696,     0.95796,     0.95896,     0.95996,\n",
       "           0.96096,     0.96196,     0.96296,     0.96396,     0.96496,     0.96597,     0.96697,     0.96797,     0.96897,     0.96997,     0.97097,     0.97197,     0.97297,     0.97397,     0.97497,     0.97598,     0.97698,     0.97798,     0.97898,     0.97998,     0.98098,     0.98198,     0.98298,     0.98398,\n",
       "           0.98498,     0.98599,     0.98699,     0.98799,     0.98899,     0.98999,     0.99099,     0.99199,     0.99299,     0.99399,     0.99499,       0.996,       0.997,       0.998,       0.999,           1]), array([[    0.98451,     0.98451,     0.97935,     0.97762,     0.97762,     0.97762,     0.97762,     0.97762,     0.97762,     0.97418,     0.97246,     0.97074,     0.97074,     0.97074,     0.96902,     0.96902,     0.96902,     0.96902,     0.96902,     0.96902,     0.96902,     0.96902,     0.96902,\n",
       "             0.9673,      0.9673,      0.9673,      0.9673,      0.9673,      0.9673,      0.9673,      0.9673,      0.9673,      0.9673,      0.9673,     0.96558,     0.96558,     0.96558,     0.96558,     0.96558,     0.96558,     0.96558,     0.96558,     0.96558,     0.96386,     0.96386,     0.96386,\n",
       "            0.96386,     0.96386,     0.96386,     0.96386,     0.96386,     0.96386,     0.96386,     0.96386,     0.96213,     0.96213,     0.96213,     0.96213,     0.96213,     0.96213,     0.96041,     0.96041,     0.96041,     0.96041,     0.96041,     0.96041,     0.95961,     0.95869,     0.95869,\n",
       "            0.95831,     0.95697,     0.95697,     0.95697,     0.95697,     0.95556,     0.95525,     0.95525,     0.95525,     0.95525,     0.95525,     0.95525,     0.95495,     0.95353,     0.95353,     0.95353,     0.95181,     0.95181,     0.95181,     0.95181,     0.95181,      0.9518,     0.95009,\n",
       "            0.95009,     0.95009,     0.95009,     0.95009,     0.95009,     0.95009,     0.95009,     0.95009,     0.95009,     0.95009,     0.95009,     0.95009,     0.95009,     0.95009,     0.95009,     0.95009,     0.95009,     0.94836,     0.94836,     0.94836,     0.94836,     0.94836,     0.94836,\n",
       "            0.94836,     0.94836,     0.94679,     0.94664,     0.94664,      0.9461,     0.94552,     0.94493,     0.94492,     0.94492,     0.94492,     0.94492,     0.94492,     0.94492,     0.94492,     0.94492,     0.94492,      0.9432,      0.9432,      0.9432,      0.9432,      0.9432,      0.9432,\n",
       "             0.9432,      0.9432,      0.9432,      0.9432,      0.9432,      0.9432,     0.94236,     0.94148,     0.94148,      0.9413,     0.93976,     0.93976,     0.93976,     0.93976,     0.93957,     0.93848,     0.93632,     0.93632,     0.93632,     0.93632,     0.93632,     0.93632,     0.93632,\n",
       "            0.93632,     0.93632,     0.93632,     0.93632,     0.93632,     0.93632,     0.93632,     0.93632,     0.93632,     0.93632,     0.93532,      0.9346,     0.93334,     0.93287,     0.93287,     0.93287,     0.93287,     0.93287,     0.93287,     0.93287,     0.93287,     0.93287,     0.93287,\n",
       "            0.93121,     0.93115,     0.93115,     0.93115,     0.93115,      0.9288,     0.92771,     0.92722,     0.92628,     0.92599,     0.92599,     0.92427,     0.92427,     0.92427,     0.92427,     0.92427,     0.92357,     0.92255,     0.92136,     0.92083,     0.92083,     0.92083,     0.92083,\n",
       "            0.92083,     0.92083,     0.92083,     0.92083,     0.92083,     0.92083,     0.92083,      0.9203,     0.91599,     0.91566,     0.91566,     0.91338,     0.91083,     0.90878,     0.90878,     0.90878,     0.90878,     0.90878,     0.90878,     0.90878,     0.90878,     0.90878,     0.90878,\n",
       "            0.90878,     0.90878,     0.90878,     0.90831,     0.90706,     0.90706,     0.90706,     0.90706,     0.90534,     0.90534,     0.90534,     0.90534,     0.90441,     0.90361,     0.90361,     0.90361,     0.90361,     0.90033,     0.90017,     0.90017,     0.90017,     0.90017,     0.90017,\n",
       "            0.89845,     0.89763,     0.89528,     0.89501,     0.89501,     0.89501,     0.89501,     0.89501,     0.89329,     0.89329,     0.89329,     0.89329,     0.89329,     0.89235,     0.89157,     0.89157,     0.89157,     0.89128,     0.89069,      0.8901,     0.88884,     0.88812,     0.88812,\n",
       "            0.88812,     0.88745,     0.88645,      0.8864,      0.8864,      0.8864,      0.8864,      0.8864,      0.8864,      0.8864,      0.8864,      0.8864,      0.8864,      0.8864,      0.8864,      0.8864,      0.8864,      0.8864,      0.8864,      0.8864,      0.8864,      0.8864,      0.8864,\n",
       "            0.88468,     0.88468,     0.88468,     0.88468,     0.88468,     0.88468,     0.88468,     0.88468,     0.88468,     0.88374,     0.88273,     0.88172,     0.88002,     0.87952,     0.87952,     0.87952,     0.87952,     0.87952,     0.87795,     0.87608,     0.87608,     0.87608,     0.87608,\n",
       "            0.87608,     0.87608,     0.87608,     0.87608,     0.87608,     0.87608,     0.87608,     0.87608,     0.87606,     0.87408,     0.87307,     0.87263,     0.87263,     0.87263,     0.87263,      0.8708,     0.87016,     0.86951,     0.86919,     0.86919,     0.86919,     0.86914,      0.8685,\n",
       "            0.86786,     0.86747,     0.86726,     0.86675,     0.86625,     0.86575,     0.86575,     0.86575,     0.86575,     0.86575,     0.86575,     0.86575,     0.86575,     0.86575,     0.86575,     0.86575,     0.86526,     0.86403,     0.86326,     0.86203,     0.86156,     0.86109,     0.86062,\n",
       "            0.86059,     0.86059,     0.86059,     0.86059,     0.86059,     0.86059,     0.86059,     0.86059,     0.86059,     0.86059,     0.86059,     0.86059,     0.86059,     0.86059,     0.86059,     0.86059,     0.86059,     0.86059,     0.86059,     0.86059,     0.86059,     0.86059,     0.86059,\n",
       "            0.86059,     0.86059,     0.86059,     0.86059,     0.86059,     0.86059,     0.86059,     0.86059,     0.86036,     0.85989,     0.85942,     0.85895,     0.85838,      0.8578,     0.85721,     0.85714,     0.85542,     0.85535,       0.855,     0.85464,     0.85429,     0.85394,      0.8537,\n",
       "             0.8537,      0.8537,      0.8537,     0.85331,     0.85272,     0.85213,     0.85198,     0.85198,     0.85198,     0.85146,     0.85081,     0.85002,     0.84826,     0.84509,     0.84509,     0.84509,     0.84509,     0.84509,     0.84509,     0.84509,     0.84447,     0.84299,     0.84199,\n",
       "            0.84047,     0.83821,     0.83821,      0.8369,     0.83581,     0.83493,     0.83461,     0.83441,     0.83422,     0.83402,     0.83382,     0.83363,     0.83343,     0.83324,     0.83305,     0.83305,     0.83305,     0.83305,     0.83305,     0.83305,     0.83305,     0.83305,     0.83305,\n",
       "            0.83305,     0.83282,     0.83237,     0.83193,     0.83149,     0.83096,     0.83037,     0.82978,      0.8294,     0.82911,     0.82881,     0.82852,     0.82822,     0.82793,     0.82788,     0.82788,     0.82762,     0.82733,     0.82703,     0.82674,     0.82645,     0.82616,     0.82616,\n",
       "            0.82616,     0.82616,     0.82616,     0.82607,     0.82548,     0.82489,     0.82444,     0.82444,     0.82395,     0.82245,     0.82157,     0.82069,      0.8198,     0.81928,      0.8168,     0.81564,     0.81519,     0.81475,     0.81431,     0.81411,     0.81411,     0.81411,     0.81356,\n",
       "            0.81268,       0.812,     0.81141,     0.81082,     0.81067,     0.81067,     0.81067,     0.80923,     0.80846,     0.80787,     0.80728,     0.80669,      0.8061,     0.80551,     0.80363,     0.80347,     0.80331,     0.80315,     0.80299,     0.80283,     0.80267,     0.80251,     0.80234,\n",
       "            0.80218,     0.80034,     0.80034,     0.79852,     0.79816,     0.79781,     0.79746,      0.7971,     0.79615,     0.79478,      0.7939,     0.79324,      0.7928,     0.79236,     0.79192,     0.78896,     0.78808,     0.78772,     0.78737,     0.78702,     0.78666,     0.78657,      0.7859,\n",
       "            0.78501,     0.78169,     0.78067,     0.77979,     0.77969,     0.77969,     0.77969,     0.77885,     0.77708,     0.77612,     0.77586,     0.77561,     0.77536,     0.77511,     0.77486,      0.7746,     0.77453,     0.77453,     0.77281,     0.77281,     0.77281,     0.77281,     0.77281,\n",
       "            0.76955,     0.76897,     0.76853,     0.76809,     0.76765,     0.76542,     0.76492,     0.76441,     0.76233,     0.76208,     0.76183,     0.76158,     0.76133,     0.76107,     0.76082,     0.75944,     0.75904,     0.75833,     0.75745,     0.75672,     0.75601,     0.75352,     0.75263,\n",
       "            0.75215,     0.75173,     0.75085,      0.7495,     0.74871,     0.74871,     0.74871,     0.74761,     0.74278,     0.74176,     0.74141,     0.74105,      0.7407,     0.74035,     0.73956,      0.7378,     0.73431,     0.73277,     0.73159,     0.72816,     0.72722,     0.72634,     0.72633,\n",
       "            0.72589,     0.72545,       0.725,     0.72249,     0.72117,     0.72002,     0.71885,     0.71797,     0.71645,     0.71469,     0.71429,     0.70686,     0.70539,      0.7045,     0.70156,      0.6988,      0.6988,      0.6988,     0.69709,     0.69362,     0.69274,     0.68835,     0.68675,\n",
       "            0.68052,     0.67876,     0.67757,     0.67669,     0.67174,     0.66568,     0.66391,     0.66215,     0.66038,     0.65459,     0.65255,     0.64984,     0.64895,     0.64726,     0.64291,       0.642,       0.642,       0.642,       0.635,     0.63323,     0.63147,     0.62995,     0.62478,\n",
       "            0.62247,     0.62159,     0.62134,     0.62134,     0.62134,     0.62134,     0.62134,     0.62134,     0.61981,     0.61632,     0.61166,     0.61021,     0.60845,     0.60582,     0.60413,     0.60405,     0.60288,     0.60016,     0.59928,      0.5938,     0.59192,     0.59104,     0.58864,\n",
       "            0.58826,     0.58776,     0.58725,     0.58461,     0.58112,     0.57987,     0.57942,     0.57898,     0.57854,     0.57258,     0.56796,     0.56627,     0.56282,     0.56282,     0.56039,     0.55913,     0.55582,     0.55512,     0.55441,      0.5525,     0.54715,     0.54644,     0.54574,\n",
       "            0.54416,      0.5424,     0.53805,     0.53557,     0.53184,     0.53018,     0.52726,     0.52116,     0.52045,     0.51956,     0.51756,     0.51668,     0.51389,     0.51233,     0.51085,     0.51034,     0.50984,     0.50854,     0.50602,     0.50064,     0.49994,     0.49923,     0.49863,\n",
       "            0.49804,     0.49745,     0.49675,     0.49605,     0.49166,     0.49038,     0.48783,     0.48607,     0.48021,     0.48021,     0.47906,     0.47425,     0.47257,     0.47075,     0.46942,      0.4661,     0.46492,     0.46399,     0.46311,     0.45974,     0.45811,     0.45276,     0.45095,\n",
       "            0.45038,     0.44744,     0.44485,     0.44226,     0.44109,     0.43991,      0.4384,     0.43469,     0.43168,     0.42954,     0.41955,     0.41732,     0.41516,     0.40565,     0.40329,     0.39889,     0.39771,     0.39481,      0.3909,     0.38726,     0.38212,     0.37864,     0.37746,\n",
       "            0.37172,     0.37102,     0.37031,     0.36722,     0.36297,      0.3618,     0.35785,     0.35715,     0.35644,     0.35491,     0.35315,     0.35187,     0.35086,     0.35016,     0.34945,     0.34519,      0.3409,     0.33735,     0.33728,     0.33383,     0.33215,     0.33156,     0.33097,\n",
       "             0.3248,     0.31478,      0.3136,     0.30905,     0.30681,       0.302,     0.29742,     0.29625,     0.29459,     0.29357,     0.29269,     0.28892,     0.28833,     0.28774,     0.28486,     0.28052,     0.27867,     0.27613,     0.27092,     0.26506,     0.25251,     0.24726,     0.24565,\n",
       "            0.24494,     0.24012,     0.23549,     0.23431,     0.23314,     0.23176,     0.22764,     0.22239,     0.22097,      0.2198,     0.21862,     0.21515,     0.21163,     0.20474,     0.20285,     0.20035,     0.19752,     0.18908,     0.18702,     0.18469,     0.18162,     0.17815,     0.17595,\n",
       "            0.17282,     0.16812,     0.16636,     0.16491,     0.16403,     0.16279,     0.16179,     0.16012,     0.15835,     0.15311,     0.14755,     0.14667,     0.14234,     0.14146,     0.14002,     0.13826,     0.13649,     0.13535,     0.13447,      0.1312,     0.12513,     0.12355,     0.12238,\n",
       "            0.11748,     0.11051,     0.10481,     0.10437,     0.10393,     0.10349,     0.10153,     0.10083,     0.10012,      0.0988,    0.096175,    0.094496,    0.093319,    0.092343,    0.091461,     0.08865,    0.085824,    0.084942,    0.078064,     0.07156,    0.070678,     0.06472,    0.061235,\n",
       "           0.058701,    0.056846,    0.053933,    0.052457,    0.051258,    0.050552,    0.049802,    0.048626,     0.04637,    0.045664,    0.044959,    0.042263,     0.03586,    0.034684,    0.033508,     0.02987,     0.02853,    0.027648,    0.024787,    0.023805,      0.0231,    0.022394,    0.018361,\n",
       "           0.017204,    0.016851,    0.016498,    0.016145,    0.015792,    0.015444,    0.015123,    0.014803,    0.014482,    0.014161,     0.01384,    0.012853,    0.011677,    0.010501,    0.010139,   0.0099186,   0.0096981,   0.0094775,    0.009257,   0.0090365,   0.0088159,   0.0085947,   0.0083595,\n",
       "          0.0081242,    0.007889,   0.0076538,   0.0074185,   0.0071833,   0.0069481,     0.00511,   0.0048895,   0.0046689,   0.0044484,   0.0042279,   0.0040073,   0.0037868,   0.0035663,   0.0026696,           0,           0,           0,           0,           0,           0,           0,           0,\n",
       "                  0,           0,           0,           0,           0,           0,           0,           0,           0,           0,           0,           0,           0,           0,           0,           0,           0,           0,           0,           0,           0,           0,           0,\n",
       "                  0,           0,           0,           0,           0,           0,           0,           0,           0,           0,           0]]), 'Confidence', 'Recall']]\n",
       "fitness: np.float64(0.6698316016336054)\n",
       "keys: ['metrics/precision(B)', 'metrics/recall(B)', 'metrics/mAP50(B)', 'metrics/mAP50-95(B)']\n",
       "maps: array([    0.64348])\n",
       "names: {0: 'Knife'}\n",
       "plot: True\n",
       "results_dict: {'metrics/precision(B)': np.float64(0.8709895423838584), 'metrics/recall(B)': np.float64(0.8598921353941434), 'metrics/mAP50(B)': np.float64(0.9069863493859477), 'metrics/mAP50-95(B)': np.float64(0.6434810741055674), 'fitness': np.float64(0.6698316016336054)}\n",
       "save_dir: PosixPath('runs/knife-v13')\n",
       "speed: {'preprocess': 0.10421326840446332, 'inference': 1.1374728990742047, 'loss': 0.00018688095383652634, 'postprocess': 0.35334707359401824}\n",
       "task: 'detect'"
      ]
     },
     "execution_count": 3,
     "metadata": {},
     "output_type": "execute_result"
    }
   ],
   "source": [
    "from ultralytics import YOLO\n",
    "\n",
    "model = YOLO(\"yolov8n.pt\")\n",
    "\n",
    "model.train(\n",
    "    data=\"knife/data.yaml\",\n",
    "    epochs=100,           \n",
    "    imgsz=640,            \n",
    "    batch=16,             \n",
    "    name=\"knife-v1\",\n",
    "    project=\"runs\",\n",
    "    workers=4\n",
    ")\n"
   ]
  }
 ],
 "metadata": {
  "kernelspec": {
   "display_name": "Python (firetrain)",
   "language": "python",
   "name": "firetrain"
  },
  "language_info": {
   "codemirror_mode": {
    "name": "ipython",
    "version": 3
   },
   "file_extension": ".py",
   "mimetype": "text/x-python",
   "name": "python",
   "nbconvert_exporter": "python",
   "pygments_lexer": "ipython3",
   "version": "3.10.16"
  }
 },
 "nbformat": 4,
 "nbformat_minor": 2
}
